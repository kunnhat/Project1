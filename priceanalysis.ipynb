{
 "cells": [
  {
   "cell_type": "code",
   "execution_count": 88,
   "metadata": {},
   "outputs": [
    {
     "name": "stdout",
     "output_type": "stream",
     "text": [
      "Requirement already satisfied: kaggle in /opt/anaconda3/lib/python3.8/site-packages (1.5.12)\n",
      "Requirement already satisfied: certifi in /opt/anaconda3/lib/python3.8/site-packages (from kaggle) (2020.6.20)\n",
      "Requirement already satisfied: requests in /opt/anaconda3/lib/python3.8/site-packages (from kaggle) (2.24.0)\n",
      "Requirement already satisfied: python-dateutil in /opt/anaconda3/lib/python3.8/site-packages (from kaggle) (2.8.1)\n",
      "Requirement already satisfied: python-slugify in /opt/anaconda3/lib/python3.8/site-packages (from kaggle) (4.0.1)\n",
      "Requirement already satisfied: tqdm in /opt/anaconda3/lib/python3.8/site-packages (from kaggle) (4.50.2)\n",
      "Requirement already satisfied: urllib3 in /opt/anaconda3/lib/python3.8/site-packages (from kaggle) (1.25.11)\n",
      "Requirement already satisfied: six>=1.10 in /opt/anaconda3/lib/python3.8/site-packages (from kaggle) (1.15.0)\n",
      "Requirement already satisfied: chardet<4,>=3.0.2 in /opt/anaconda3/lib/python3.8/site-packages (from requests->kaggle) (3.0.4)\n",
      "Requirement already satisfied: idna<3,>=2.5 in /opt/anaconda3/lib/python3.8/site-packages (from requests->kaggle) (2.10)\n",
      "Requirement already satisfied: text-unidecode>=1.3 in /opt/anaconda3/lib/python3.8/site-packages (from python-slugify->kaggle) (1.3)\n"
     ]
    }
   ],
   "source": [
    "#installing kaggle\n",
    "!pip install kaggle"
   ]
  },
  {
   "cell_type": "code",
   "execution_count": 89,
   "metadata": {},
   "outputs": [],
   "source": [
    "#creating a folder named '.kaggle'\n",
    "#!mkdir ~/.kaggle"
   ]
  },
  {
   "cell_type": "code",
   "execution_count": 90,
   "metadata": {},
   "outputs": [],
   "source": [
    "#API token created and kaggle.json file downloaded and moved to '.kaggle' folder\n",
    "#making sure if kaggle.json file is in '.kaggle' folder\n",
    "#!cd /Users/ankita/.kaggle/ && ls"
   ]
  },
  {
   "cell_type": "code",
   "execution_count": 91,
   "metadata": {},
   "outputs": [
    {
     "name": "stdout",
     "output_type": "stream",
     "text": [
      "ref                                                            title                                               size  lastUpdated          downloadCount  voteCount  usabilityRating  \r\n",
      "-------------------------------------------------------------  -------------------------------------------------  -----  -------------------  -------------  ---------  ---------------  \r\n",
      "htagholdings/aus-real-estate-sales-march-2019-to-april-2020    AUS Real Estate Sales September 2018 to June 2020    5MB  2020-07-24 00:13:58            741         21  1.0              \r\n",
      "gauravduttakiit/weather-in-aus                                 Weather in AUS                                       4MB  2021-02-27 19:34:45             39          8  0.7058824        \r\n",
      "crescenzo/lunardistance                                        Lunar Daily Distance and Declination : 1800-2020     1MB  2017-05-03 02:11:34            174          4  0.64705884       \r\n",
      "vaibhavpip/cricinfo-database-of-odis-in-2010s                  Cricinfo Database of ODIs in 2010s                 248KB  2020-02-10 18:30:26             18          3  0.3529412        \r\n",
      "tbrownlow3/atp-tennis                                          ATP Tennis                                           2MB  2019-09-18 10:43:15            388          8  0.64705884       \r\n",
      "huan1111/2016-aus-census                                       2016 Australia Census Data(income part)              4KB  2021-01-06 04:57:36              9          1  0.47058824       \r\n",
      "coolonce/quality-diplom                                        quality diplom                                     304KB  2020-01-07 21:57:59             12          0  0.29411766       \r\n",
      "mariapetrochenkova/wordcloud-projekt-papa-weihnachtsgru        WordCloud                                            2MB  2020-12-29 14:21:09              1          2  0.75             \r\n",
      "tanhim/agricultural-dataset-bangladesh-44-parameters           Agricultural Dataset Bangladesh (44 parameters)      6KB  2019-11-26 01:08:19            433         14  0.3529412        \r\n",
      "smat26/roman-urdu-dataset                                      Roman Urdu Dataset                                 724KB  2020-03-04 15:35:37            460          7  0.64705884       \r\n",
      "dhyaneshwaran123/ind-v-aus-tour-2020-2021                      IND V AUS TOUR 2020 - 2021                           1KB  2021-01-12 13:54:55              1          1  0.11764706       \r\n",
      "vivekyadav21/roman-urdu-dataset-for-sentiment-analysis-amazon  Roman urdu dataset for sentiment analysis amazon   622KB  2020-12-21 12:15:47              9          3  0.11764706       \r\n",
      "margual56/taylor-swifts-disks                                  Taylor Swift's albums                                1KB  2021-03-23 18:29:26              0          1  0.5294118        \r\n",
      "manuelblechschmidt/icu-beds-in-germany                         ICU beds in germany                                  7KB  2020-04-05 10:44:54             60          4  0.88235295       \r\n",
      "nambidb/cricket-best-of-the-ashes-1882-2018                    Cricket - Best Of the Ashes (1882 - 2018)            2KB  2019-11-07 22:11:32             13          0  0.29411766       \r\n",
      "akarami/roman-urdu-data-set                                    Roman Urdu Data Set                                622KB  2019-11-05 00:16:57             25          0  0.29411766       \r\n",
      "pra1210/romanurdudata                                          RomanUrduData                                      622KB  2020-03-17 05:48:06              8          0  0.11764706       \r\n",
      "uwrfkaggler/ravdess-facial-landmark-tracking                   RAVDESS Facial Landmark Tracking                   445MB  2019-09-10 18:05:59            127          7  0.85294116       \r\n",
      "mohabbatsial/roman-urdu-dataset                                Roman_urdu Dataset                                 622KB  2020-11-02 05:29:10              6          0  0.23529412       \r\n",
      "tristanw3/nsw-australia-top-100-pop-names-mf-19522019          NSW (Australia) Top 100 Pop Names M/F 1952-2019    122KB  2021-02-24 10:03:11              0          0  0.3529412        \r\n"
     ]
    }
   ],
   "source": [
    "#search dataset from the preffered list\n",
    "!kaggle datasets list -s 'aus real estate'"
   ]
  },
  {
   "cell_type": "code",
   "execution_count": 92,
   "metadata": {},
   "outputs": [],
   "source": [
    "#will take care of privacy of your API key\n",
    "!chmod 600 /Users/ankita/.kaggle/kaggle.json"
   ]
  },
  {
   "cell_type": "code",
   "execution_count": 93,
   "metadata": {},
   "outputs": [
    {
     "name": "stdout",
     "output_type": "stream",
     "text": [
      "aus-real-estate-sales-march-2019-to-april-2020.zip: Skipping, found more recently modified local copy (use --force to force download)\r\n"
     ]
    }
   ],
   "source": [
    "#downloading dataset \n",
    "!kaggle datasets download -d 'htagholdings/aus-real-estate-sales-march-2019-to-april-2020'"
   ]
  },
  {
   "cell_type": "code",
   "execution_count": 94,
   "metadata": {},
   "outputs": [
    {
     "name": "stdout",
     "output_type": "stream",
     "text": [
      "Archive:  aus-real-estate-sales-march-2019-to-april-2020.zip\n",
      "  inflating: data/aus-property-sales-sep2018-april2020.csv  \n"
     ]
    }
   ],
   "source": [
    "#unzipping the file\n",
    "!unzip aus-real-estate-sales-march-2019-to-april-2020.zip -d data/"
   ]
  },
  {
   "cell_type": "code",
   "execution_count": 95,
   "metadata": {},
   "outputs": [],
   "source": [
    "#renaming the csv file to rs.csv and moving to the data folder'data'\n",
    "!mv data/aus-property-sales-sep2018-april2020.csv data/rs.csv"
   ]
  },
  {
   "cell_type": "code",
   "execution_count": 96,
   "metadata": {},
   "outputs": [
    {
     "name": "stdout",
     "output_type": "stream",
     "text": [
      "rs.csv\r\n"
     ]
    }
   ],
   "source": [
    "!cd data && ls"
   ]
  },
  {
   "cell_type": "code",
   "execution_count": 97,
   "metadata": {},
   "outputs": [],
   "source": [
    "#Importing the dependencies and the libraries required\n",
    "\n",
    "import pandas as pd\n",
    "import numpy as np\n",
    "import matplotlib.pyplot as plt\n",
    "import plotly.graph_objects as go\n",
    "from plotly.subplots import make_subplots\n",
    "import plotly.express as px\n",
    "import scipy.stats as sts\n",
    "from scipy.stats import sem\n"
   ]
  },
  {
   "cell_type": "code",
   "execution_count": 98,
   "metadata": {},
   "outputs": [
    {
     "data": {
      "text/html": [
       "<div>\n",
       "<style scoped>\n",
       "    .dataframe tbody tr th:only-of-type {\n",
       "        vertical-align: middle;\n",
       "    }\n",
       "\n",
       "    .dataframe tbody tr th {\n",
       "        vertical-align: top;\n",
       "    }\n",
       "\n",
       "    .dataframe thead th {\n",
       "        text-align: right;\n",
       "    }\n",
       "</style>\n",
       "<table border=\"1\" class=\"dataframe\">\n",
       "  <thead>\n",
       "    <tr style=\"text-align: right;\">\n",
       "      <th></th>\n",
       "      <th>date_sold</th>\n",
       "      <th>price</th>\n",
       "      <th>suburb</th>\n",
       "      <th>city_name</th>\n",
       "      <th>state</th>\n",
       "      <th>lat</th>\n",
       "      <th>lon</th>\n",
       "      <th>bedrooms</th>\n",
       "      <th>property_type</th>\n",
       "      <th>loc_pid</th>\n",
       "      <th>lga_pid</th>\n",
       "    </tr>\n",
       "  </thead>\n",
       "  <tbody>\n",
       "    <tr>\n",
       "      <th>0</th>\n",
       "      <td>2018-09-18 00:00:00</td>\n",
       "      <td>NaN</td>\n",
       "      <td>Darling Point</td>\n",
       "      <td>Sydney</td>\n",
       "      <td>NSW</td>\n",
       "      <td>-33.869565</td>\n",
       "      <td>151.241317</td>\n",
       "      <td>3</td>\n",
       "      <td>unit</td>\n",
       "      <td>NSW1221</td>\n",
       "      <td>NSW180</td>\n",
       "    </tr>\n",
       "    <tr>\n",
       "      <th>1</th>\n",
       "      <td>2018-09-24 00:00:00</td>\n",
       "      <td>NaN</td>\n",
       "      <td>Darling Point</td>\n",
       "      <td>Sydney</td>\n",
       "      <td>NSW</td>\n",
       "      <td>-33.872179</td>\n",
       "      <td>151.239726</td>\n",
       "      <td>3</td>\n",
       "      <td>unit</td>\n",
       "      <td>NSW1221</td>\n",
       "      <td>NSW180</td>\n",
       "    </tr>\n",
       "    <tr>\n",
       "      <th>2</th>\n",
       "      <td>2018-09-26 00:00:00</td>\n",
       "      <td>1730000.0</td>\n",
       "      <td>Darling Point</td>\n",
       "      <td>Sydney</td>\n",
       "      <td>NSW</td>\n",
       "      <td>-33.868386</td>\n",
       "      <td>151.237471</td>\n",
       "      <td>2</td>\n",
       "      <td>unit</td>\n",
       "      <td>NSW1221</td>\n",
       "      <td>NSW180</td>\n",
       "    </tr>\n",
       "    <tr>\n",
       "      <th>3</th>\n",
       "      <td>2018-09-26 00:00:00</td>\n",
       "      <td>1928000.0</td>\n",
       "      <td>Darling Point</td>\n",
       "      <td>Sydney</td>\n",
       "      <td>NSW</td>\n",
       "      <td>-33.875465</td>\n",
       "      <td>151.236280</td>\n",
       "      <td>3</td>\n",
       "      <td>unit</td>\n",
       "      <td>NSW1221</td>\n",
       "      <td>NSW180</td>\n",
       "    </tr>\n",
       "    <tr>\n",
       "      <th>4</th>\n",
       "      <td>2018-10-02 00:00:00</td>\n",
       "      <td>1475000.0</td>\n",
       "      <td>Darling Point</td>\n",
       "      <td>Sydney</td>\n",
       "      <td>NSW</td>\n",
       "      <td>-33.875734</td>\n",
       "      <td>151.233575</td>\n",
       "      <td>3</td>\n",
       "      <td>unit</td>\n",
       "      <td>NSW1221</td>\n",
       "      <td>NSW180</td>\n",
       "    </tr>\n",
       "    <tr>\n",
       "      <th>...</th>\n",
       "      <td>...</td>\n",
       "      <td>...</td>\n",
       "      <td>...</td>\n",
       "      <td>...</td>\n",
       "      <td>...</td>\n",
       "      <td>...</td>\n",
       "      <td>...</td>\n",
       "      <td>...</td>\n",
       "      <td>...</td>\n",
       "      <td>...</td>\n",
       "      <td>...</td>\n",
       "    </tr>\n",
       "    <tr>\n",
       "      <th>320329</th>\n",
       "      <td>2019-09-09 00:00:00</td>\n",
       "      <td>NaN</td>\n",
       "      <td>Taylor</td>\n",
       "      <td>Canberra</td>\n",
       "      <td>ACT</td>\n",
       "      <td>-35.152128</td>\n",
       "      <td>149.099435</td>\n",
       "      <td>3</td>\n",
       "      <td>townhouse</td>\n",
       "      <td>ACT934</td>\n",
       "      <td>ACT</td>\n",
       "    </tr>\n",
       "    <tr>\n",
       "      <th>320330</th>\n",
       "      <td>2019-09-10 00:00:00</td>\n",
       "      <td>549900.0</td>\n",
       "      <td>Taylor</td>\n",
       "      <td>Canberra</td>\n",
       "      <td>ACT</td>\n",
       "      <td>-35.151968</td>\n",
       "      <td>149.107229</td>\n",
       "      <td>3</td>\n",
       "      <td>townhouse</td>\n",
       "      <td>ACT934</td>\n",
       "      <td>ACT</td>\n",
       "    </tr>\n",
       "    <tr>\n",
       "      <th>320331</th>\n",
       "      <td>2019-09-10 00:00:00</td>\n",
       "      <td>499900.0</td>\n",
       "      <td>Taylor</td>\n",
       "      <td>Canberra</td>\n",
       "      <td>ACT</td>\n",
       "      <td>-35.151968</td>\n",
       "      <td>149.107229</td>\n",
       "      <td>3</td>\n",
       "      <td>townhouse</td>\n",
       "      <td>ACT934</td>\n",
       "      <td>ACT</td>\n",
       "    </tr>\n",
       "    <tr>\n",
       "      <th>320332</th>\n",
       "      <td>2020-03-10 00:00:00</td>\n",
       "      <td>434000.0</td>\n",
       "      <td>Taylor</td>\n",
       "      <td>Canberra</td>\n",
       "      <td>ACT</td>\n",
       "      <td>-35.152617</td>\n",
       "      <td>149.103578</td>\n",
       "      <td>3</td>\n",
       "      <td>townhouse</td>\n",
       "      <td>ACT934</td>\n",
       "      <td>ACT</td>\n",
       "    </tr>\n",
       "    <tr>\n",
       "      <th>320333</th>\n",
       "      <td>2020-05-19 00:00:00</td>\n",
       "      <td>420000.0</td>\n",
       "      <td>Taylor</td>\n",
       "      <td>Canberra</td>\n",
       "      <td>ACT</td>\n",
       "      <td>-35.151741</td>\n",
       "      <td>149.102781</td>\n",
       "      <td>2</td>\n",
       "      <td>townhouse</td>\n",
       "      <td>ACT934</td>\n",
       "      <td>ACT</td>\n",
       "    </tr>\n",
       "  </tbody>\n",
       "</table>\n",
       "<p>320334 rows × 11 columns</p>\n",
       "</div>"
      ],
      "text/plain": [
       "                  date_sold      price         suburb city_name state  \\\n",
       "0       2018-09-18 00:00:00        NaN  Darling Point    Sydney   NSW   \n",
       "1       2018-09-24 00:00:00        NaN  Darling Point    Sydney   NSW   \n",
       "2       2018-09-26 00:00:00  1730000.0  Darling Point    Sydney   NSW   \n",
       "3       2018-09-26 00:00:00  1928000.0  Darling Point    Sydney   NSW   \n",
       "4       2018-10-02 00:00:00  1475000.0  Darling Point    Sydney   NSW   \n",
       "...                     ...        ...            ...       ...   ...   \n",
       "320329  2019-09-09 00:00:00        NaN         Taylor  Canberra   ACT   \n",
       "320330  2019-09-10 00:00:00   549900.0         Taylor  Canberra   ACT   \n",
       "320331  2019-09-10 00:00:00   499900.0         Taylor  Canberra   ACT   \n",
       "320332  2020-03-10 00:00:00   434000.0         Taylor  Canberra   ACT   \n",
       "320333  2020-05-19 00:00:00   420000.0         Taylor  Canberra   ACT   \n",
       "\n",
       "              lat         lon  bedrooms property_type  loc_pid lga_pid  \n",
       "0      -33.869565  151.241317         3          unit  NSW1221  NSW180  \n",
       "1      -33.872179  151.239726         3          unit  NSW1221  NSW180  \n",
       "2      -33.868386  151.237471         2          unit  NSW1221  NSW180  \n",
       "3      -33.875465  151.236280         3          unit  NSW1221  NSW180  \n",
       "4      -33.875734  151.233575         3          unit  NSW1221  NSW180  \n",
       "...           ...         ...       ...           ...      ...     ...  \n",
       "320329 -35.152128  149.099435         3     townhouse   ACT934     ACT  \n",
       "320330 -35.151968  149.107229         3     townhouse   ACT934     ACT  \n",
       "320331 -35.151968  149.107229         3     townhouse   ACT934     ACT  \n",
       "320332 -35.152617  149.103578         3     townhouse   ACT934     ACT  \n",
       "320333 -35.151741  149.102781         2     townhouse   ACT934     ACT  \n",
       "\n",
       "[320334 rows x 11 columns]"
      ]
     },
     "execution_count": 98,
     "metadata": {},
     "output_type": "execute_result"
    }
   ],
   "source": [
    "csv_path=\"data/rs.csv\"\n",
    "data=pd.read_csv(csv_path)\n",
    "data"
   ]
  },
  {
   "cell_type": "code",
   "execution_count": 99,
   "metadata": {},
   "outputs": [
    {
     "name": "stdout",
     "output_type": "stream",
     "text": [
      "<class 'pandas.core.frame.DataFrame'>\n",
      "RangeIndex: 320334 entries, 0 to 320333\n",
      "Data columns (total 11 columns):\n",
      " #   Column         Non-Null Count   Dtype  \n",
      "---  ------         --------------   -----  \n",
      " 0   date_sold      320334 non-null  object \n",
      " 1   price          257826 non-null  float64\n",
      " 2   suburb         320334 non-null  object \n",
      " 3   city_name      320334 non-null  object \n",
      " 4   state          320334 non-null  object \n",
      " 5   lat            320256 non-null  float64\n",
      " 6   lon            320256 non-null  float64\n",
      " 7   bedrooms       320334 non-null  int64  \n",
      " 8   property_type  320334 non-null  object \n",
      " 9   loc_pid        320334 non-null  object \n",
      " 10  lga_pid        320334 non-null  object \n",
      "dtypes: float64(3), int64(1), object(7)\n",
      "memory usage: 26.9+ MB\n"
     ]
    }
   ],
   "source": [
    "#Looking at the datatypes of the columns\n",
    "data.info()"
   ]
  },
  {
   "cell_type": "code",
   "execution_count": 100,
   "metadata": {},
   "outputs": [
    {
     "data": {
      "text/html": [
       "<div>\n",
       "<style scoped>\n",
       "    .dataframe tbody tr th:only-of-type {\n",
       "        vertical-align: middle;\n",
       "    }\n",
       "\n",
       "    .dataframe tbody tr th {\n",
       "        vertical-align: top;\n",
       "    }\n",
       "\n",
       "    .dataframe thead th {\n",
       "        text-align: right;\n",
       "    }\n",
       "</style>\n",
       "<table border=\"1\" class=\"dataframe\">\n",
       "  <thead>\n",
       "    <tr style=\"text-align: right;\">\n",
       "      <th></th>\n",
       "      <th>date_sold</th>\n",
       "      <th>price</th>\n",
       "      <th>suburb</th>\n",
       "      <th>city_name</th>\n",
       "      <th>state</th>\n",
       "      <th>lat</th>\n",
       "      <th>lon</th>\n",
       "      <th>bedrooms</th>\n",
       "      <th>property_type</th>\n",
       "      <th>loc_pid</th>\n",
       "      <th>lga_pid</th>\n",
       "    </tr>\n",
       "  </thead>\n",
       "  <tbody>\n",
       "    <tr>\n",
       "      <th>2</th>\n",
       "      <td>2018-09-26 00:00:00</td>\n",
       "      <td>1730000.0</td>\n",
       "      <td>Darling Point</td>\n",
       "      <td>Sydney</td>\n",
       "      <td>NSW</td>\n",
       "      <td>-33.868386</td>\n",
       "      <td>151.237471</td>\n",
       "      <td>2</td>\n",
       "      <td>unit</td>\n",
       "      <td>NSW1221</td>\n",
       "      <td>NSW180</td>\n",
       "    </tr>\n",
       "    <tr>\n",
       "      <th>3</th>\n",
       "      <td>2018-09-26 00:00:00</td>\n",
       "      <td>1928000.0</td>\n",
       "      <td>Darling Point</td>\n",
       "      <td>Sydney</td>\n",
       "      <td>NSW</td>\n",
       "      <td>-33.875465</td>\n",
       "      <td>151.236280</td>\n",
       "      <td>3</td>\n",
       "      <td>unit</td>\n",
       "      <td>NSW1221</td>\n",
       "      <td>NSW180</td>\n",
       "    </tr>\n",
       "    <tr>\n",
       "      <th>4</th>\n",
       "      <td>2018-10-02 00:00:00</td>\n",
       "      <td>1475000.0</td>\n",
       "      <td>Darling Point</td>\n",
       "      <td>Sydney</td>\n",
       "      <td>NSW</td>\n",
       "      <td>-33.875734</td>\n",
       "      <td>151.233575</td>\n",
       "      <td>3</td>\n",
       "      <td>unit</td>\n",
       "      <td>NSW1221</td>\n",
       "      <td>NSW180</td>\n",
       "    </tr>\n",
       "    <tr>\n",
       "      <th>5</th>\n",
       "      <td>2018-10-12 00:00:00</td>\n",
       "      <td>960000.0</td>\n",
       "      <td>Darling Point</td>\n",
       "      <td>Sydney</td>\n",
       "      <td>NSW</td>\n",
       "      <td>-33.869516</td>\n",
       "      <td>151.237239</td>\n",
       "      <td>2</td>\n",
       "      <td>unit</td>\n",
       "      <td>NSW1221</td>\n",
       "      <td>NSW180</td>\n",
       "    </tr>\n",
       "    <tr>\n",
       "      <th>7</th>\n",
       "      <td>2018-10-25 00:00:00</td>\n",
       "      <td>1615000.0</td>\n",
       "      <td>Darling Point</td>\n",
       "      <td>Sydney</td>\n",
       "      <td>NSW</td>\n",
       "      <td>-33.876785</td>\n",
       "      <td>151.233727</td>\n",
       "      <td>2</td>\n",
       "      <td>unit</td>\n",
       "      <td>NSW1221</td>\n",
       "      <td>NSW180</td>\n",
       "    </tr>\n",
       "    <tr>\n",
       "      <th>...</th>\n",
       "      <td>...</td>\n",
       "      <td>...</td>\n",
       "      <td>...</td>\n",
       "      <td>...</td>\n",
       "      <td>...</td>\n",
       "      <td>...</td>\n",
       "      <td>...</td>\n",
       "      <td>...</td>\n",
       "      <td>...</td>\n",
       "      <td>...</td>\n",
       "      <td>...</td>\n",
       "    </tr>\n",
       "    <tr>\n",
       "      <th>320328</th>\n",
       "      <td>2019-01-11 00:00:00</td>\n",
       "      <td>439900.0</td>\n",
       "      <td>Taylor</td>\n",
       "      <td>Canberra</td>\n",
       "      <td>ACT</td>\n",
       "      <td>-35.152423</td>\n",
       "      <td>149.103550</td>\n",
       "      <td>2</td>\n",
       "      <td>townhouse</td>\n",
       "      <td>ACT934</td>\n",
       "      <td>ACT</td>\n",
       "    </tr>\n",
       "    <tr>\n",
       "      <th>320330</th>\n",
       "      <td>2019-09-10 00:00:00</td>\n",
       "      <td>549900.0</td>\n",
       "      <td>Taylor</td>\n",
       "      <td>Canberra</td>\n",
       "      <td>ACT</td>\n",
       "      <td>-35.151968</td>\n",
       "      <td>149.107229</td>\n",
       "      <td>3</td>\n",
       "      <td>townhouse</td>\n",
       "      <td>ACT934</td>\n",
       "      <td>ACT</td>\n",
       "    </tr>\n",
       "    <tr>\n",
       "      <th>320331</th>\n",
       "      <td>2019-09-10 00:00:00</td>\n",
       "      <td>499900.0</td>\n",
       "      <td>Taylor</td>\n",
       "      <td>Canberra</td>\n",
       "      <td>ACT</td>\n",
       "      <td>-35.151968</td>\n",
       "      <td>149.107229</td>\n",
       "      <td>3</td>\n",
       "      <td>townhouse</td>\n",
       "      <td>ACT934</td>\n",
       "      <td>ACT</td>\n",
       "    </tr>\n",
       "    <tr>\n",
       "      <th>320332</th>\n",
       "      <td>2020-03-10 00:00:00</td>\n",
       "      <td>434000.0</td>\n",
       "      <td>Taylor</td>\n",
       "      <td>Canberra</td>\n",
       "      <td>ACT</td>\n",
       "      <td>-35.152617</td>\n",
       "      <td>149.103578</td>\n",
       "      <td>3</td>\n",
       "      <td>townhouse</td>\n",
       "      <td>ACT934</td>\n",
       "      <td>ACT</td>\n",
       "    </tr>\n",
       "    <tr>\n",
       "      <th>320333</th>\n",
       "      <td>2020-05-19 00:00:00</td>\n",
       "      <td>420000.0</td>\n",
       "      <td>Taylor</td>\n",
       "      <td>Canberra</td>\n",
       "      <td>ACT</td>\n",
       "      <td>-35.151741</td>\n",
       "      <td>149.102781</td>\n",
       "      <td>2</td>\n",
       "      <td>townhouse</td>\n",
       "      <td>ACT934</td>\n",
       "      <td>ACT</td>\n",
       "    </tr>\n",
       "  </tbody>\n",
       "</table>\n",
       "<p>257773 rows × 11 columns</p>\n",
       "</div>"
      ],
      "text/plain": [
       "                  date_sold      price         suburb city_name state  \\\n",
       "2       2018-09-26 00:00:00  1730000.0  Darling Point    Sydney   NSW   \n",
       "3       2018-09-26 00:00:00  1928000.0  Darling Point    Sydney   NSW   \n",
       "4       2018-10-02 00:00:00  1475000.0  Darling Point    Sydney   NSW   \n",
       "5       2018-10-12 00:00:00   960000.0  Darling Point    Sydney   NSW   \n",
       "7       2018-10-25 00:00:00  1615000.0  Darling Point    Sydney   NSW   \n",
       "...                     ...        ...            ...       ...   ...   \n",
       "320328  2019-01-11 00:00:00   439900.0         Taylor  Canberra   ACT   \n",
       "320330  2019-09-10 00:00:00   549900.0         Taylor  Canberra   ACT   \n",
       "320331  2019-09-10 00:00:00   499900.0         Taylor  Canberra   ACT   \n",
       "320332  2020-03-10 00:00:00   434000.0         Taylor  Canberra   ACT   \n",
       "320333  2020-05-19 00:00:00   420000.0         Taylor  Canberra   ACT   \n",
       "\n",
       "              lat         lon  bedrooms property_type  loc_pid lga_pid  \n",
       "2      -33.868386  151.237471         2          unit  NSW1221  NSW180  \n",
       "3      -33.875465  151.236280         3          unit  NSW1221  NSW180  \n",
       "4      -33.875734  151.233575         3          unit  NSW1221  NSW180  \n",
       "5      -33.869516  151.237239         2          unit  NSW1221  NSW180  \n",
       "7      -33.876785  151.233727         2          unit  NSW1221  NSW180  \n",
       "...           ...         ...       ...           ...      ...     ...  \n",
       "320328 -35.152423  149.103550         2     townhouse   ACT934     ACT  \n",
       "320330 -35.151968  149.107229         3     townhouse   ACT934     ACT  \n",
       "320331 -35.151968  149.107229         3     townhouse   ACT934     ACT  \n",
       "320332 -35.152617  149.103578         3     townhouse   ACT934     ACT  \n",
       "320333 -35.151741  149.102781         2     townhouse   ACT934     ACT  \n",
       "\n",
       "[257773 rows x 11 columns]"
      ]
     },
     "execution_count": 100,
     "metadata": {},
     "output_type": "execute_result"
    }
   ],
   "source": [
    "#Dropping the rows for any null values (The price values are missing for certain properties)\n",
    "data.dropna(how = 'any', inplace = True)\n",
    "data\n",
    "\n"
   ]
  },
  {
   "cell_type": "code",
   "execution_count": 101,
   "metadata": {},
   "outputs": [
    {
     "data": {
      "text/html": [
       "<div>\n",
       "<style scoped>\n",
       "    .dataframe tbody tr th:only-of-type {\n",
       "        vertical-align: middle;\n",
       "    }\n",
       "\n",
       "    .dataframe tbody tr th {\n",
       "        vertical-align: top;\n",
       "    }\n",
       "\n",
       "    .dataframe thead th {\n",
       "        text-align: right;\n",
       "    }\n",
       "</style>\n",
       "<table border=\"1\" class=\"dataframe\">\n",
       "  <thead>\n",
       "    <tr style=\"text-align: right;\">\n",
       "      <th></th>\n",
       "      <th>date_sold</th>\n",
       "      <th>price</th>\n",
       "      <th>suburb</th>\n",
       "      <th>city_name</th>\n",
       "      <th>state</th>\n",
       "      <th>lat</th>\n",
       "      <th>lon</th>\n",
       "      <th>bedrooms</th>\n",
       "      <th>property_type</th>\n",
       "      <th>loc_pid</th>\n",
       "      <th>lga_pid</th>\n",
       "    </tr>\n",
       "  </thead>\n",
       "  <tbody>\n",
       "    <tr>\n",
       "      <th>2</th>\n",
       "      <td>2018-09-26</td>\n",
       "      <td>1730000.0</td>\n",
       "      <td>Darling Point</td>\n",
       "      <td>Sydney</td>\n",
       "      <td>NSW</td>\n",
       "      <td>-33.868386</td>\n",
       "      <td>151.237471</td>\n",
       "      <td>2</td>\n",
       "      <td>unit</td>\n",
       "      <td>NSW1221</td>\n",
       "      <td>NSW180</td>\n",
       "    </tr>\n",
       "    <tr>\n",
       "      <th>3</th>\n",
       "      <td>2018-09-26</td>\n",
       "      <td>1928000.0</td>\n",
       "      <td>Darling Point</td>\n",
       "      <td>Sydney</td>\n",
       "      <td>NSW</td>\n",
       "      <td>-33.875465</td>\n",
       "      <td>151.236280</td>\n",
       "      <td>3</td>\n",
       "      <td>unit</td>\n",
       "      <td>NSW1221</td>\n",
       "      <td>NSW180</td>\n",
       "    </tr>\n",
       "    <tr>\n",
       "      <th>4</th>\n",
       "      <td>2018-10-02</td>\n",
       "      <td>1475000.0</td>\n",
       "      <td>Darling Point</td>\n",
       "      <td>Sydney</td>\n",
       "      <td>NSW</td>\n",
       "      <td>-33.875734</td>\n",
       "      <td>151.233575</td>\n",
       "      <td>3</td>\n",
       "      <td>unit</td>\n",
       "      <td>NSW1221</td>\n",
       "      <td>NSW180</td>\n",
       "    </tr>\n",
       "    <tr>\n",
       "      <th>5</th>\n",
       "      <td>2018-10-12</td>\n",
       "      <td>960000.0</td>\n",
       "      <td>Darling Point</td>\n",
       "      <td>Sydney</td>\n",
       "      <td>NSW</td>\n",
       "      <td>-33.869516</td>\n",
       "      <td>151.237239</td>\n",
       "      <td>2</td>\n",
       "      <td>unit</td>\n",
       "      <td>NSW1221</td>\n",
       "      <td>NSW180</td>\n",
       "    </tr>\n",
       "    <tr>\n",
       "      <th>7</th>\n",
       "      <td>2018-10-25</td>\n",
       "      <td>1615000.0</td>\n",
       "      <td>Darling Point</td>\n",
       "      <td>Sydney</td>\n",
       "      <td>NSW</td>\n",
       "      <td>-33.876785</td>\n",
       "      <td>151.233727</td>\n",
       "      <td>2</td>\n",
       "      <td>unit</td>\n",
       "      <td>NSW1221</td>\n",
       "      <td>NSW180</td>\n",
       "    </tr>\n",
       "    <tr>\n",
       "      <th>...</th>\n",
       "      <td>...</td>\n",
       "      <td>...</td>\n",
       "      <td>...</td>\n",
       "      <td>...</td>\n",
       "      <td>...</td>\n",
       "      <td>...</td>\n",
       "      <td>...</td>\n",
       "      <td>...</td>\n",
       "      <td>...</td>\n",
       "      <td>...</td>\n",
       "      <td>...</td>\n",
       "    </tr>\n",
       "    <tr>\n",
       "      <th>320328</th>\n",
       "      <td>2019-01-11</td>\n",
       "      <td>439900.0</td>\n",
       "      <td>Taylor</td>\n",
       "      <td>Canberra</td>\n",
       "      <td>ACT</td>\n",
       "      <td>-35.152423</td>\n",
       "      <td>149.103550</td>\n",
       "      <td>2</td>\n",
       "      <td>townhouse</td>\n",
       "      <td>ACT934</td>\n",
       "      <td>ACT</td>\n",
       "    </tr>\n",
       "    <tr>\n",
       "      <th>320330</th>\n",
       "      <td>2019-09-10</td>\n",
       "      <td>549900.0</td>\n",
       "      <td>Taylor</td>\n",
       "      <td>Canberra</td>\n",
       "      <td>ACT</td>\n",
       "      <td>-35.151968</td>\n",
       "      <td>149.107229</td>\n",
       "      <td>3</td>\n",
       "      <td>townhouse</td>\n",
       "      <td>ACT934</td>\n",
       "      <td>ACT</td>\n",
       "    </tr>\n",
       "    <tr>\n",
       "      <th>320331</th>\n",
       "      <td>2019-09-10</td>\n",
       "      <td>499900.0</td>\n",
       "      <td>Taylor</td>\n",
       "      <td>Canberra</td>\n",
       "      <td>ACT</td>\n",
       "      <td>-35.151968</td>\n",
       "      <td>149.107229</td>\n",
       "      <td>3</td>\n",
       "      <td>townhouse</td>\n",
       "      <td>ACT934</td>\n",
       "      <td>ACT</td>\n",
       "    </tr>\n",
       "    <tr>\n",
       "      <th>320332</th>\n",
       "      <td>2020-03-10</td>\n",
       "      <td>434000.0</td>\n",
       "      <td>Taylor</td>\n",
       "      <td>Canberra</td>\n",
       "      <td>ACT</td>\n",
       "      <td>-35.152617</td>\n",
       "      <td>149.103578</td>\n",
       "      <td>3</td>\n",
       "      <td>townhouse</td>\n",
       "      <td>ACT934</td>\n",
       "      <td>ACT</td>\n",
       "    </tr>\n",
       "    <tr>\n",
       "      <th>320333</th>\n",
       "      <td>2020-05-19</td>\n",
       "      <td>420000.0</td>\n",
       "      <td>Taylor</td>\n",
       "      <td>Canberra</td>\n",
       "      <td>ACT</td>\n",
       "      <td>-35.151741</td>\n",
       "      <td>149.102781</td>\n",
       "      <td>2</td>\n",
       "      <td>townhouse</td>\n",
       "      <td>ACT934</td>\n",
       "      <td>ACT</td>\n",
       "    </tr>\n",
       "  </tbody>\n",
       "</table>\n",
       "<p>257773 rows × 11 columns</p>\n",
       "</div>"
      ],
      "text/plain": [
       "        date_sold      price         suburb city_name state        lat  \\\n",
       "2      2018-09-26  1730000.0  Darling Point    Sydney   NSW -33.868386   \n",
       "3      2018-09-26  1928000.0  Darling Point    Sydney   NSW -33.875465   \n",
       "4      2018-10-02  1475000.0  Darling Point    Sydney   NSW -33.875734   \n",
       "5      2018-10-12   960000.0  Darling Point    Sydney   NSW -33.869516   \n",
       "7      2018-10-25  1615000.0  Darling Point    Sydney   NSW -33.876785   \n",
       "...           ...        ...            ...       ...   ...        ...   \n",
       "320328 2019-01-11   439900.0         Taylor  Canberra   ACT -35.152423   \n",
       "320330 2019-09-10   549900.0         Taylor  Canberra   ACT -35.151968   \n",
       "320331 2019-09-10   499900.0         Taylor  Canberra   ACT -35.151968   \n",
       "320332 2020-03-10   434000.0         Taylor  Canberra   ACT -35.152617   \n",
       "320333 2020-05-19   420000.0         Taylor  Canberra   ACT -35.151741   \n",
       "\n",
       "               lon  bedrooms property_type  loc_pid lga_pid  \n",
       "2       151.237471         2          unit  NSW1221  NSW180  \n",
       "3       151.236280         3          unit  NSW1221  NSW180  \n",
       "4       151.233575         3          unit  NSW1221  NSW180  \n",
       "5       151.237239         2          unit  NSW1221  NSW180  \n",
       "7       151.233727         2          unit  NSW1221  NSW180  \n",
       "...            ...       ...           ...      ...     ...  \n",
       "320328  149.103550         2     townhouse   ACT934     ACT  \n",
       "320330  149.107229         3     townhouse   ACT934     ACT  \n",
       "320331  149.107229         3     townhouse   ACT934     ACT  \n",
       "320332  149.103578         3     townhouse   ACT934     ACT  \n",
       "320333  149.102781         2     townhouse   ACT934     ACT  \n",
       "\n",
       "[257773 rows x 11 columns]"
      ]
     },
     "execution_count": 101,
     "metadata": {},
     "output_type": "execute_result"
    }
   ],
   "source": [
    "#Converting the date and time stamp in the date_sold column  to just date type\n",
    "data['date_sold']=pd.to_datetime(data.date_sold)\n",
    "\n",
    "data\n"
   ]
  },
  {
   "cell_type": "code",
   "execution_count": 102,
   "metadata": {},
   "outputs": [],
   "source": [
    "vic_suburb = data.groupby([\"city_name\"]).get_group(\"Melbourne\")\n",
    "\n",
    "mel_data = vic_suburb.groupby(\"suburb\")[\"date_sold\"].count()\n",
    "\n",
    "\n",
    "\n",
    "vic_data = mel_data.reset_index()\n",
    "vic_data = vic_data.rename(columns = {\"date_sold\" : \"Property Count\"}) \n",
    "new_vic_data = vic_data.sort_values([\"Property Count\"] , ascending = False)\n",
    "\n",
    "final_data = new_vic_data.loc[new_vic_data[\"Property Count\"] > 25]\n",
    "\n",
    "\n"
   ]
  },
  {
   "cell_type": "code",
   "execution_count": 103,
   "metadata": {},
   "outputs": [
    {
     "data": {
      "text/plain": [
       "<AxesSubplot:>"
      ]
     },
     "execution_count": 103,
     "metadata": {},
     "output_type": "execute_result"
    },
    {
     "data": {
      "image/png": "[encoded data removed]",
      "text/plain": [
       "<Figure size 432x288 with 1 Axes>"
      ]
     },
     "metadata": {
      "needs_background": "light"
     },
     "output_type": "display_data"
    }
   ],
   "source": [
    "final_data.boxplot(column = \"Property Count\")\n"
   ]
  },
  {
   "cell_type": "code",
   "execution_count": 104,
   "metadata": {},
   "outputs": [
    {
     "data": {
      "text/html": [
       "<div>\n",
       "<style scoped>\n",
       "    .dataframe tbody tr th:only-of-type {\n",
       "        vertical-align: middle;\n",
       "    }\n",
       "\n",
       "    .dataframe tbody tr th {\n",
       "        vertical-align: top;\n",
       "    }\n",
       "\n",
       "    .dataframe thead th {\n",
       "        text-align: right;\n",
       "    }\n",
       "</style>\n",
       "<table border=\"1\" class=\"dataframe\">\n",
       "  <thead>\n",
       "    <tr style=\"text-align: right;\">\n",
       "      <th></th>\n",
       "      <th>Property Count</th>\n",
       "    </tr>\n",
       "  </thead>\n",
       "  <tbody>\n",
       "    <tr>\n",
       "      <th>count</th>\n",
       "      <td>384.000000</td>\n",
       "    </tr>\n",
       "    <tr>\n",
       "      <th>mean</th>\n",
       "      <td>254.432292</td>\n",
       "    </tr>\n",
       "    <tr>\n",
       "      <th>std</th>\n",
       "      <td>229.409767</td>\n",
       "    </tr>\n",
       "    <tr>\n",
       "      <th>min</th>\n",
       "      <td>26.000000</td>\n",
       "    </tr>\n",
       "    <tr>\n",
       "      <th>25%</th>\n",
       "      <td>89.750000</td>\n",
       "    </tr>\n",
       "    <tr>\n",
       "      <th>50%</th>\n",
       "      <td>185.000000</td>\n",
       "    </tr>\n",
       "    <tr>\n",
       "      <th>75%</th>\n",
       "      <td>338.000000</td>\n",
       "    </tr>\n",
       "    <tr>\n",
       "      <th>max</th>\n",
       "      <td>1667.000000</td>\n",
       "    </tr>\n",
       "  </tbody>\n",
       "</table>\n",
       "</div>"
      ],
      "text/plain": [
       "       Property Count\n",
       "count      384.000000\n",
       "mean       254.432292\n",
       "std        229.409767\n",
       "min         26.000000\n",
       "25%         89.750000\n",
       "50%        185.000000\n",
       "75%        338.000000\n",
       "max       1667.000000"
      ]
     },
     "execution_count": 104,
     "metadata": {},
     "output_type": "execute_result"
    }
   ],
   "source": [
    "vic_data1 = new_vic_data.head(10)\n",
    "final_data.describe()"
   ]
  },
  {
   "cell_type": "code",
   "execution_count": 105,
   "metadata": {},
   "outputs": [
    {
     "data": {
      "text/plain": [
       "Text(0.5, 1.0, 'Top 10 suburbs of victoria')"
      ]
     },
     "execution_count": 105,
     "metadata": {},
     "output_type": "execute_result"
    },
    {
     "data": {
      "image/png": "[encoded data removed]",
      "text/plain": [
       "<Figure size 432x288 with 1 Axes>"
      ]
     },
     "metadata": {
      "needs_background": "light"
     },
     "output_type": "display_data"
    }
   ],
   "source": [
    "vic_data1 = final_data.head(10)\n",
    "vic_data1.set_index(\"suburb\").plot(kind='bar')\n",
    "\n",
    "plt.xlabel(\"Victoria Suburbs\")\n",
    "plt.ylabel(\"Property Count\")\n",
    "\n",
    "plt.title(\"Top 10 suburbs of victoria\")\n",
    "#plt.savefig(\"D:/Materials/Git Project/real-estate-project/Top 10 suburbs of victoria\")"
   ]
  },
  {
   "cell_type": "code",
   "execution_count": 106,
   "metadata": {},
   "outputs": [
    {
     "data": {
      "text/html": [
       "<div>\n",
       "<style scoped>\n",
       "    .dataframe tbody tr th:only-of-type {\n",
       "        vertical-align: middle;\n",
       "    }\n",
       "\n",
       "    .dataframe tbody tr th {\n",
       "        vertical-align: top;\n",
       "    }\n",
       "\n",
       "    .dataframe thead th {\n",
       "        text-align: right;\n",
       "    }\n",
       "</style>\n",
       "<table border=\"1\" class=\"dataframe\">\n",
       "  <thead>\n",
       "    <tr style=\"text-align: right;\">\n",
       "      <th></th>\n",
       "      <th>suburb</th>\n",
       "      <th>Property Count</th>\n",
       "    </tr>\n",
       "  </thead>\n",
       "  <tbody>\n",
       "    <tr>\n",
       "      <th>230</th>\n",
       "      <td>Kallista</td>\n",
       "      <td>32</td>\n",
       "    </tr>\n",
       "    <tr>\n",
       "      <th>167</th>\n",
       "      <td>Essendon West</td>\n",
       "      <td>31</td>\n",
       "    </tr>\n",
       "    <tr>\n",
       "      <th>350</th>\n",
       "      <td>Plumpton</td>\n",
       "      <td>31</td>\n",
       "    </tr>\n",
       "    <tr>\n",
       "      <th>405</th>\n",
       "      <td>St Andrews Beach</td>\n",
       "      <td>30</td>\n",
       "    </tr>\n",
       "    <tr>\n",
       "      <th>238</th>\n",
       "      <td>Keilor Park</td>\n",
       "      <td>30</td>\n",
       "    </tr>\n",
       "    <tr>\n",
       "      <th>465</th>\n",
       "      <td>Werribee South</td>\n",
       "      <td>28</td>\n",
       "    </tr>\n",
       "    <tr>\n",
       "      <th>459</th>\n",
       "      <td>Waterways</td>\n",
       "      <td>28</td>\n",
       "    </tr>\n",
       "    <tr>\n",
       "      <th>358</th>\n",
       "      <td>Red Hill</td>\n",
       "      <td>28</td>\n",
       "    </tr>\n",
       "    <tr>\n",
       "      <th>349</th>\n",
       "      <td>Plenty</td>\n",
       "      <td>26</td>\n",
       "    </tr>\n",
       "    <tr>\n",
       "      <th>51</th>\n",
       "      <td>Blind Bight</td>\n",
       "      <td>26</td>\n",
       "    </tr>\n",
       "  </tbody>\n",
       "</table>\n",
       "</div>"
      ],
      "text/plain": [
       "               suburb  Property Count\n",
       "230          Kallista              32\n",
       "167     Essendon West              31\n",
       "350          Plumpton              31\n",
       "405  St Andrews Beach              30\n",
       "238       Keilor Park              30\n",
       "465    Werribee South              28\n",
       "459         Waterways              28\n",
       "358          Red Hill              28\n",
       "349            Plenty              26\n",
       "51        Blind Bight              26"
      ]
     },
     "execution_count": 106,
     "metadata": {},
     "output_type": "execute_result"
    },
    {
     "data": {
      "image/png": "[encoded data removed]",
      "text/plain": [
       "<Figure size 432x288 with 1 Axes>"
      ]
     },
     "metadata": {
      "needs_background": "light"
     },
     "output_type": "display_data"
    }
   ],
   "source": [
    "vic_data2 = final_data.tail(10)\n",
    "vic_data2.set_index(\"suburb\").plot(kind='bar')\n",
    "\n",
    "plt.xlabel(\"Victoria Suburbs\")\n",
    "plt.ylabel(\"Property Count\")\n",
    "\n",
    "plt.title(\"Bottom 10 suburbs of victoria\")\n",
    "#plt.savefig(\"D:/Materials/Git Project/real-estate-project/Bottom 10 suburbs of victoria\")\n",
    "\n",
    "\n",
    "vic_data2"
   ]
  },
  {
   "cell_type": "code",
   "execution_count": 107,
   "metadata": {},
   "outputs": [],
   "source": [
    "#vic_suburb = data.groupby([\"city_name\"]).get_group(\"Melbourne\")\n",
    "#vic_suburb.set_index"
   ]
  },
  {
   "cell_type": "markdown",
   "metadata": {},
   "source": [
    "# Snehitha's Part \n",
    "\n"
   ]
  },
  {
   "cell_type": "code",
   "execution_count": 108,
   "metadata": {},
   "outputs": [
    {
     "data": {
      "text/plain": [
       "Text(0.5, 1.0, 'NSW various property type distribution')"
      ]
     },
     "execution_count": 108,
     "metadata": {},
     "output_type": "execute_result"
    },
    {
     "data": {
      "image/png": "[encoded data removed]",
      "text/plain": [
       "<Figure size 432x288 with 1 Axes>"
      ]
     },
     "metadata": {},
     "output_type": "display_data"
    }
   ],
   "source": [
    "nsw_df  = data.loc[data[\"state\"] == \"NSW\", :]\n",
    "nsw_df.head()\n",
    "nsw_property_type_df = nsw_df.groupby(\"property_type\")[\"property_type\"].count()\n",
    "\n",
    "# nsw_suburb_df= nsw_df.groupby(\"suburb\")[\"property_type\"].count() #This has to be done as Minh Suggested, taking top 10 and\n",
    "#bottom 10 of all states and demonstrating a final visual showing means of all for whole country\n",
    "nsw_property_type_df.plot(kind= \"pie\")\n",
    "#nsw_property_type_df.plot(kind= \"bar\")\n",
    "plt.title(\"NSW various property type distribution\")"
   ]
  },
  {
   "cell_type": "code",
   "execution_count": 109,
   "metadata": {},
   "outputs": [
    {
     "data": {
      "text/plain": [
       "Text(0.5, 1.0, 'NSW property type distribution based on number of bedrooms')"
      ]
     },
     "execution_count": 109,
     "metadata": {},
     "output_type": "execute_result"
    },
    {
     "data": {
      "image/png": "[encoded data removed]",
      "text/plain": [
       "<Figure size 432x288 with 1 Axes>"
      ]
     },
     "metadata": {},
     "output_type": "display_data"
    }
   ],
   "source": [
    "nsw_bedrooms_df = nsw_df.groupby(\"bedrooms\")[\"property_type\"].count()\n",
    "nsw_bedrooms_df.plot(kind= \"pie\")\n",
    "plt.title(\"NSW property type distribution based on number of bedrooms\")"
   ]
  },
  {
   "cell_type": "code",
   "execution_count": 110,
   "metadata": {},
   "outputs": [
    {
     "data": {
      "text/plain": [
       "Text(0.5, 1.0, 'VIC various property type distribution')"
      ]
     },
     "execution_count": 110,
     "metadata": {},
     "output_type": "execute_result"
    },
    {
     "data": {
      "image/png": "[encoded data removed]",
      "text/plain": [
       "<Figure size 432x288 with 1 Axes>"
      ]
     },
     "metadata": {},
     "output_type": "display_data"
    }
   ],
   "source": [
    "vic_df  = data.loc[data[\"state\"] == \"VIC\", :]\n",
    "vic_df.head()\n",
    "vic_property_type_df = vic_df.groupby(\"property_type\")[\"property_type\"].count()\n",
    "\n",
    "# nsw_suburb_df= nsw_df.groupby(\"suburb\")[\"property_type\"].count() #This has to be done as Minh Suggested, taking top 10 and\n",
    "#bottom 10 of all states and demonstrating a final visual showing means of all for whole country\n",
    "\n",
    "vic_property_type_df.plot(kind= \"pie\")\n",
    "#nsw_property_type_df.plot(kind= \"bar\")\n",
    "\n",
    "plt.title(\"VIC various property type distribution\")"
   ]
  },
  {
   "cell_type": "code",
   "execution_count": 111,
   "metadata": {},
   "outputs": [
    {
     "data": {
      "text/plain": [
       "Text(0.5, 1.0, 'VIC property type distribution based on number of bedrooms')"
      ]
     },
     "execution_count": 111,
     "metadata": {},
     "output_type": "execute_result"
    },
    {
     "data": {
      "image/png": "[encoded data removed]",
      "text/plain": [
       "<Figure size 432x288 with 1 Axes>"
      ]
     },
     "metadata": {},
     "output_type": "display_data"
    }
   ],
   "source": [
    "vic_bedrooms_df = vic_df.groupby(\"bedrooms\")[\"property_type\"].count()\n",
    "vic_bedrooms_df.plot(kind= \"pie\")\n",
    "plt.title(\"VIC property type distribution based on number of bedrooms\")"
   ]
  },
  {
   "cell_type": "code",
   "execution_count": 112,
   "metadata": {},
   "outputs": [
    {
     "data": {
      "text/plain": [
       "Text(0.5, 1.0, 'SA various property type distribution')"
      ]
     },
     "execution_count": 112,
     "metadata": {},
     "output_type": "execute_result"
    },
    {
     "data": {
      "image/png": "[encoded data removed]",
      "text/plain": [
       "<Figure size 432x288 with 1 Axes>"
      ]
     },
     "metadata": {},
     "output_type": "display_data"
    }
   ],
   "source": [
    "sa_df  = data.loc[data[\"state\"] == \"SA\", :]\n",
    "sa_df\n",
    "sa_property_type_df = sa_df.groupby(\"property_type\")[\"property_type\"].count()\n",
    "sa_property_type_df.plot(kind= \"pie\")\n",
    "plt.title(\"SA various property type distribution\")"
   ]
  },
  {
   "cell_type": "code",
   "execution_count": 113,
   "metadata": {},
   "outputs": [
    {
     "data": {
      "text/plain": [
       "Text(0.5, 1.0, 'SA property type distribution based on number of bedrooms')"
      ]
     },
     "execution_count": 113,
     "metadata": {},
     "output_type": "execute_result"
    },
    {
     "data": {
      "image/png": "[encoded data removed]",
      "text/plain": [
       "<Figure size 432x288 with 1 Axes>"
      ]
     },
     "metadata": {},
     "output_type": "display_data"
    }
   ],
   "source": [
    "sa_bedrooms_df = sa_df.groupby(\"bedrooms\")[\"property_type\"].count()\n",
    "sa_bedrooms_df.plot(kind= \"pie\")\n",
    "plt.title(\"SA property type distribution based on number of bedrooms\")"
   ]
  },
  {
   "cell_type": "code",
   "execution_count": 114,
   "metadata": {},
   "outputs": [
    {
     "data": {
      "text/plain": [
       "Text(0.5, 1.0, 'WA various property type distribution')"
      ]
     },
     "execution_count": 114,
     "metadata": {},
     "output_type": "execute_result"
    },
    {
     "data": {
      "image/png": "[encoded data removed]",
      "text/plain": [
       "<Figure size 432x288 with 1 Axes>"
      ]
     },
     "metadata": {},
     "output_type": "display_data"
    }
   ],
   "source": [
    "wa_df  = data.loc[data[\"state\"] == \"WA\", :]\n",
    "wa_df\n",
    "wa_property_type_df = wa_df.groupby(\"property_type\")[\"property_type\"].count()\n",
    "wa_property_type_df.plot(kind= \"pie\")\n",
    "plt.title(\"WA various property type distribution\")"
   ]
  },
  {
   "cell_type": "code",
   "execution_count": 115,
   "metadata": {},
   "outputs": [
    {
     "data": {
      "text/plain": [
       "Text(0.5, 1.0, 'wA property type distribution based on number of bedrooms')"
      ]
     },
     "execution_count": 115,
     "metadata": {},
     "output_type": "execute_result"
    },
    {
     "data": {
      "image/png": "[encoded data removed]",
      "text/plain": [
       "<Figure size 432x288 with 1 Axes>"
      ]
     },
     "metadata": {},
     "output_type": "display_data"
    }
   ],
   "source": [
    "wa_bedrooms_df = wa_df.groupby(\"bedrooms\")[\"property_type\"].count()\n",
    "wa_bedrooms_df.plot(kind= \"pie\")\n",
    "plt.title(\"wA property type distribution based on number of bedrooms\")"
   ]
  },
  {
   "cell_type": "code",
   "execution_count": 116,
   "metadata": {},
   "outputs": [
    {
     "data": {
      "text/plain": [
       "Text(0.5, 1.0, 'ACT various property type distribution')"
      ]
     },
     "execution_count": 116,
     "metadata": {},
     "output_type": "execute_result"
    },
    {
     "data": {
      "image/png": "[encoded data removed]",
      "text/plain": [
       "<Figure size 432x288 with 1 Axes>"
      ]
     },
     "metadata": {},
     "output_type": "display_data"
    }
   ],
   "source": [
    "act_df  = data.loc[data[\"state\"] == \"ACT\", :]\n",
    "act_df\n",
    "act_property_type_df = act_df.groupby(\"property_type\")[\"property_type\"].count()\n",
    "act_property_type_df.plot(kind= \"pie\")\n",
    "plt.title(\"ACT various property type distribution\")"
   ]
  },
  {
   "cell_type": "code",
   "execution_count": 117,
   "metadata": {},
   "outputs": [
    {
     "data": {
      "text/plain": [
       "Text(0.5, 1.0, ' ACT property type distribution based on number of bedrooms')"
      ]
     },
     "execution_count": 117,
     "metadata": {},
     "output_type": "execute_result"
    },
    {
     "data": {
      "image/png": "[encoded data removed]",
      "text/plain": [
       "<Figure size 432x288 with 1 Axes>"
      ]
     },
     "metadata": {},
     "output_type": "display_data"
    }
   ],
   "source": [
    "act_bedrooms_df = act_df.groupby(\"bedrooms\")[\"property_type\"].count()\n",
    "act_bedrooms_df.plot(kind= \"pie\")\n",
    "plt.title(\" ACT property type distribution based on number of bedrooms\")"
   ]
  },
  {
   "cell_type": "code",
   "execution_count": 118,
   "metadata": {},
   "outputs": [
    {
     "data": {
      "text/plain": [
       "VIC    98535\n",
       "NSW    68223\n",
       "SA     27612\n",
       "QLD    27341\n",
       "WA     26659\n",
       "ACT     9403\n",
       "Name: state, dtype: int64"
      ]
     },
     "execution_count": 118,
     "metadata": {},
     "output_type": "execute_result"
    }
   ],
   "source": [
    "data[\"state\"].value_counts()"
   ]
  },
  {
   "cell_type": "code",
   "execution_count": 119,
   "metadata": {},
   "outputs": [
    {
     "data": {
      "text/plain": [
       "Text(0.5, 1.0, ' QLD various property type distribution')"
      ]
     },
     "execution_count": 119,
     "metadata": {},
     "output_type": "execute_result"
    },
    {
     "data": {
      "image/png": "[encoded data removed]",
      "text/plain": [
       "<Figure size 432x288 with 1 Axes>"
      ]
     },
     "metadata": {},
     "output_type": "display_data"
    }
   ],
   "source": [
    "qld_df  = data.loc[data[\"state\"] == \"QLD\", :]\n",
    "qld_df\n",
    "qld_property_type_df = qld_df.groupby(\"property_type\")[\"property_type\"].count()\n",
    "qld_property_type_df.plot(kind= \"pie\")\n",
    "plt.title(\" QLD various property type distribution\")"
   ]
  },
  {
   "cell_type": "code",
   "execution_count": 120,
   "metadata": {},
   "outputs": [
    {
     "data": {
      "text/plain": [
       "Text(0.5, 1.0, ' QLD property type distribution based on number of bedrooms')"
      ]
     },
     "execution_count": 120,
     "metadata": {},
     "output_type": "execute_result"
    },
    {
     "data": {
      "image/png": "[encoded data removed]",
      "text/plain": [
       "<Figure size 432x288 with 1 Axes>"
      ]
     },
     "metadata": {},
     "output_type": "display_data"
    }
   ],
   "source": [
    "qld_bedrooms_df = qld_df.groupby(\"bedrooms\")[\"property_type\"].count()\n",
    "\n",
    "\n",
    "qld_bedrooms_df \n",
    "qld_bedrooms_df.plot(kind= \"pie\")\n",
    "plt.title(\" QLD property type distribution based on number of bedrooms\")"
   ]
  },
  {
   "cell_type": "markdown",
   "metadata": {},
   "source": [
    "# Analysing the City/State with most number of sales and the most popular property type for the whole data set (Sep 2018 - Jul 2020)  (Snehitha's Part)"
   ]
  },
  {
   "cell_type": "code",
   "execution_count": 121,
   "metadata": {},
   "outputs": [],
   "source": [
    "#Creating dataframes and series to hold the total number of properties with respective number of bedrooms for whole dataset\n",
    "#Which will be used for plotting the charts\n",
    "\n",
    "count_city = pd.DataFrame(data[\"city_name\"].value_counts())\n",
    "count_city.sort_values(by=['city_name'] , ascending=False)\n",
    "labels_city= count_city['city_name'].index \n",
    "values_city =count_city['city_name'] \n",
    "\n",
    "#Creating dataframes and series to hold the total number of properties with respective to type of property for whole dataset\n",
    "#Which will be used for plotting the charts\n",
    "count_property = pd.DataFrame(data.property_type.value_counts())\n",
    "count_property.sort_values(by=['property_type'] , ascending=False)\n",
    "labels_property= count_property['property_type'].index \n",
    "values_property =count_property['property_type'] \n",
    "\n"
   ]
  },
  {
   "cell_type": "code",
   "execution_count": 122,
   "metadata": {
    "scrolled": false
   },
   "outputs": [
    {
     "data": {
      "application/vnd.plotly.v1+json": {
       "config": {
        "plotlyServerURL": "https://plot.ly"
       },
       "data": [
        {
         "domain": {
          "x": [
           0,
           0.45
          ],
          "y": [
           0,
           1
          ]
         },
         "hole": 0.3,
         "hoverinfo": "label+value+name",
         "labels": [
          "Melbourne",
          "Sydney",
          "Adelaide",
          "Brisbane",
          "Perth",
          "Canberra"
         ],
         "marker": {
          "colors": [
           "gold",
           "mediumturquoise",
           "darkorange",
           "lightgreen"
          ],
          "line": {
           "color": "#000000",
           "width": 2
          }
         },
         "name": "City name ",
         "textposition": "inside",
         "type": "pie",
         "values": [
          98535,
          68223,
          27612,
          27341,
          26659,
          9403
         ]
        },
        {
         "domain": {
          "x": [
           0.55,
           1
          ],
          "y": [
           0,
           1
          ]
         },
         "hole": 0.3,
         "hoverinfo": "label+value+name",
         "labels": [
          "house",
          "unit",
          "townhouse"
         ],
         "marker": {
          "colors": [
           "gold",
           "mediumturquoise",
           "darkorange",
           "lightgreen"
          ],
          "line": {
           "color": "#000000",
           "width": 2
          }
         },
         "name": "Property_type",
         "textposition": "inside",
         "type": "pie",
         "values": [
          178247,
          60083,
          19443
         ]
        }
       ],
       "layout": {
        "annotations": [
         {
          "font": {
           "size": 20
          },
          "showarrow": false,
          "text": "City ",
          "x": 0.22,
          "xanchor": "center",
          "xref": "paper",
          "y": 0.5,
          "yanchor": "bottom",
          "yref": "paper"
         },
         {
          "font": {
           "size": 12
          },
          "showarrow": true,
          "text": "Types of property",
          "x": 0.79,
          "xanchor": "center",
          "xref": "paper",
          "y": 0.4,
          "yanchor": "bottom",
          "yref": "paper"
         }
        ],
        "template": {
         "data": {
          "bar": [
           {
            "error_x": {
             "color": "#2a3f5f"
            },
            "error_y": {
             "color": "#2a3f5f"
            },
            "marker": {
             "line": {
              "color": "#E5ECF6",
              "width": 0.5
             }
            },
            "type": "bar"
           }
          ],
          "barpolar": [
           {
            "marker": {
             "line": {
              "color": "#E5ECF6",
              "width": 0.5
             }
            },
            "type": "barpolar"
           }
          ],
          "carpet": [
           {
            "aaxis": {
             "endlinecolor": "#2a3f5f",
             "gridcolor": "white",
             "linecolor": "white",
             "minorgridcolor": "white",
             "startlinecolor": "#2a3f5f"
            },
            "baxis": {
             "endlinecolor": "#2a3f5f",
             "gridcolor": "white",
             "linecolor": "white",
             "minorgridcolor": "white",
             "startlinecolor": "#2a3f5f"
            },
            "type": "carpet"
           }
          ],
          "choropleth": [
           {
            "colorbar": {
             "outlinewidth": 0,
             "ticks": ""
            },
            "type": "choropleth"
           }
          ],
          "contour": [
           {
            "colorbar": {
             "outlinewidth": 0,
             "ticks": ""
            },
            "colorscale": [
             [
              0,
              "#0d0887"
             ],
             [
              0.1111111111111111,
              "#46039f"
             ],
             [
              0.2222222222222222,
              "#7201a8"
             ],
             [
              0.3333333333333333,
              "#9c179e"
             ],
             [
              0.4444444444444444,
              "#bd3786"
             ],
             [
              0.5555555555555556,
              "#d8576b"
             ],
             [
              0.6666666666666666,
              "#ed7953"
             ],
             [
              0.7777777777777778,
              "#fb9f3a"
             ],
             [
              0.8888888888888888,
              "#fdca26"
             ],
             [
              1,
              "#f0f921"
             ]
            ],
            "type": "contour"
           }
          ],
          "contourcarpet": [
           {
            "colorbar": {
             "outlinewidth": 0,
             "ticks": ""
            },
            "type": "contourcarpet"
           }
          ],
          "heatmap": [
           {
            "colorbar": {
             "outlinewidth": 0,
             "ticks": ""
            },
            "colorscale": [
             [
              0,
              "#0d0887"
             ],
             [
              0.1111111111111111,
              "#46039f"
             ],
             [
              0.2222222222222222,
              "#7201a8"
             ],
             [
              0.3333333333333333,
              "#9c179e"
             ],
             [
              0.4444444444444444,
              "#bd3786"
             ],
             [
              0.5555555555555556,
              "#d8576b"
             ],
             [
              0.6666666666666666,
              "#ed7953"
             ],
             [
              0.7777777777777778,
              "#fb9f3a"
             ],
             [
              0.8888888888888888,
              "#fdca26"
             ],
             [
              1,
              "#f0f921"
             ]
            ],
            "type": "heatmap"
           }
          ],
          "heatmapgl": [
           {
            "colorbar": {
             "outlinewidth": 0,
             "ticks": ""
            },
            "colorscale": [
             [
              0,
              "#0d0887"
             ],
             [
              0.1111111111111111,
              "#46039f"
             ],
             [
              0.2222222222222222,
              "#7201a8"
             ],
             [
              0.3333333333333333,
              "#9c179e"
             ],
             [
              0.4444444444444444,
              "#bd3786"
             ],
             [
              0.5555555555555556,
              "#d8576b"
             ],
             [
              0.6666666666666666,
              "#ed7953"
             ],
             [
              0.7777777777777778,
              "#fb9f3a"
             ],
             [
              0.8888888888888888,
              "#fdca26"
             ],
             [
              1,
              "#f0f921"
             ]
            ],
            "type": "heatmapgl"
           }
          ],
          "histogram": [
           {
            "marker": {
             "colorbar": {
              "outlinewidth": 0,
              "ticks": ""
             }
            },
            "type": "histogram"
           }
          ],
          "histogram2d": [
           {
            "colorbar": {
             "outlinewidth": 0,
             "ticks": ""
            },
            "colorscale": [
             [
              0,
              "#0d0887"
             ],
             [
              0.1111111111111111,
              "#46039f"
             ],
             [
              0.2222222222222222,
              "#7201a8"
             ],
             [
              0.3333333333333333,
              "#9c179e"
             ],
             [
              0.4444444444444444,
              "#bd3786"
             ],
             [
              0.5555555555555556,
              "#d8576b"
             ],
             [
              0.6666666666666666,
              "#ed7953"
             ],
             [
              0.7777777777777778,
              "#fb9f3a"
             ],
             [
              0.8888888888888888,
              "#fdca26"
             ],
             [
              1,
              "#f0f921"
             ]
            ],
            "type": "histogram2d"
           }
          ],
          "histogram2dcontour": [
           {
            "colorbar": {
             "outlinewidth": 0,
             "ticks": ""
            },
            "colorscale": [
             [
              0,
              "#0d0887"
             ],
             [
              0.1111111111111111,
              "#46039f"
             ],
             [
              0.2222222222222222,
              "#7201a8"
             ],
             [
              0.3333333333333333,
              "#9c179e"
             ],
             [
              0.4444444444444444,
              "#bd3786"
             ],
             [
              0.5555555555555556,
              "#d8576b"
             ],
             [
              0.6666666666666666,
              "#ed7953"
             ],
             [
              0.7777777777777778,
              "#fb9f3a"
             ],
             [
              0.8888888888888888,
              "#fdca26"
             ],
             [
              1,
              "#f0f921"
             ]
            ],
            "type": "histogram2dcontour"
           }
          ],
          "mesh3d": [
           {
            "colorbar": {
             "outlinewidth": 0,
             "ticks": ""
            },
            "type": "mesh3d"
           }
          ],
          "parcoords": [
           {
            "line": {
             "colorbar": {
              "outlinewidth": 0,
              "ticks": ""
             }
            },
            "type": "parcoords"
           }
          ],
          "scatter": [
           {
            "marker": {
             "colorbar": {
              "outlinewidth": 0,
              "ticks": ""
             }
            },
            "type": "scatter"
           }
          ],
          "scatter3d": [
           {
            "line": {
             "colorbar": {
              "outlinewidth": 0,
              "ticks": ""
             }
            },
            "marker": {
             "colorbar": {
              "outlinewidth": 0,
              "ticks": ""
             }
            },
            "type": "scatter3d"
           }
          ],
          "scattercarpet": [
           {
            "marker": {
             "colorbar": {
              "outlinewidth": 0,
              "ticks": ""
             }
            },
            "type": "scattercarpet"
           }
          ],
          "scattergeo": [
           {
            "marker": {
             "colorbar": {
              "outlinewidth": 0,
              "ticks": ""
             }
            },
            "type": "scattergeo"
           }
          ],
          "scattergl": [
           {
            "marker": {
             "colorbar": {
              "outlinewidth": 0,
              "ticks": ""
             }
            },
            "type": "scattergl"
           }
          ],
          "scattermapbox": [
           {
            "marker": {
             "colorbar": {
              "outlinewidth": 0,
              "ticks": ""
             }
            },
            "type": "scattermapbox"
           }
          ],
          "scatterpolar": [
           {
            "marker": {
             "colorbar": {
              "outlinewidth": 0,
              "ticks": ""
             }
            },
            "type": "scatterpolar"
           }
          ],
          "scatterpolargl": [
           {
            "marker": {
             "colorbar": {
              "outlinewidth": 0,
              "ticks": ""
             }
            },
            "type": "scatterpolargl"
           }
          ],
          "scatterternary": [
           {
            "marker": {
             "colorbar": {
              "outlinewidth": 0,
              "ticks": ""
             }
            },
            "type": "scatterternary"
           }
          ],
          "surface": [
           {
            "colorbar": {
             "outlinewidth": 0,
             "ticks": ""
            },
            "colorscale": [
             [
              0,
              "#0d0887"
             ],
             [
              0.1111111111111111,
              "#46039f"
             ],
             [
              0.2222222222222222,
              "#7201a8"
             ],
             [
              0.3333333333333333,
              "#9c179e"
             ],
             [
              0.4444444444444444,
              "#bd3786"
             ],
             [
              0.5555555555555556,
              "#d8576b"
             ],
             [
              0.6666666666666666,
              "#ed7953"
             ],
             [
              0.7777777777777778,
              "#fb9f3a"
             ],
             [
              0.8888888888888888,
              "#fdca26"
             ],
             [
              1,
              "#f0f921"
             ]
            ],
            "type": "surface"
           }
          ],
          "table": [
           {
            "cells": {
             "fill": {
              "color": "#EBF0F8"
             },
             "line": {
              "color": "white"
             }
            },
            "header": {
             "fill": {
              "color": "#C8D4E3"
             },
             "line": {
              "color": "white"
             }
            },
            "type": "table"
           }
          ]
         },
         "layout": {
          "annotationdefaults": {
           "arrowcolor": "#2a3f5f",
           "arrowhead": 0,
           "arrowwidth": 1
          },
          "colorscale": {
           "diverging": [
            [
             0,
             "#8e0152"
            ],
            [
             0.1,
             "#c51b7d"
            ],
            [
             0.2,
             "#de77ae"
            ],
            [
             0.3,
             "#f1b6da"
            ],
            [
             0.4,
             "#fde0ef"
            ],
            [
             0.5,
             "#f7f7f7"
            ],
            [
             0.6,
             "#e6f5d0"
            ],
            [
             0.7,
             "#b8e186"
            ],
            [
             0.8,
             "#7fbc41"
            ],
            [
             0.9,
             "#4d9221"
            ],
            [
             1,
             "#276419"
            ]
           ],
           "sequential": [
            [
             0,
             "#0d0887"
            ],
            [
             0.1111111111111111,
             "#46039f"
            ],
            [
             0.2222222222222222,
             "#7201a8"
            ],
            [
             0.3333333333333333,
             "#9c179e"
            ],
            [
             0.4444444444444444,
             "#bd3786"
            ],
            [
             0.5555555555555556,
             "#d8576b"
            ],
            [
             0.6666666666666666,
             "#ed7953"
            ],
            [
             0.7777777777777778,
             "#fb9f3a"
            ],
            [
             0.8888888888888888,
             "#fdca26"
            ],
            [
             1,
             "#f0f921"
            ]
           ],
           "sequentialminus": [
            [
             0,
             "#0d0887"
            ],
            [
             0.1111111111111111,
             "#46039f"
            ],
            [
             0.2222222222222222,
             "#7201a8"
            ],
            [
             0.3333333333333333,
             "#9c179e"
            ],
            [
             0.4444444444444444,
             "#bd3786"
            ],
            [
             0.5555555555555556,
             "#d8576b"
            ],
            [
             0.6666666666666666,
             "#ed7953"
            ],
            [
             0.7777777777777778,
             "#fb9f3a"
            ],
            [
             0.8888888888888888,
             "#fdca26"
            ],
            [
             1,
             "#f0f921"
            ]
           ]
          },
          "colorway": [
           "#636efa",
           "#EF553B",
           "#00cc96",
           "#ab63fa",
           "#FFA15A",
           "#19d3f3",
           "#FF6692",
           "#B6E880",
           "#FF97FF",
           "#FECB52"
          ],
          "font": {
           "color": "#2a3f5f"
          },
          "geo": {
           "bgcolor": "white",
           "lakecolor": "white",
           "landcolor": "#E5ECF6",
           "showlakes": true,
           "showland": true,
           "subunitcolor": "white"
          },
          "hoverlabel": {
           "align": "left"
          },
          "hovermode": "closest",
          "mapbox": {
           "style": "light"
          },
          "paper_bgcolor": "white",
          "plot_bgcolor": "#E5ECF6",
          "polar": {
           "angularaxis": {
            "gridcolor": "white",
            "linecolor": "white",
            "ticks": ""
           },
           "bgcolor": "#E5ECF6",
           "radialaxis": {
            "gridcolor": "white",
            "linecolor": "white",
            "ticks": ""
           }
          },
          "scene": {
           "xaxis": {
            "backgroundcolor": "#E5ECF6",
            "gridcolor": "white",
            "gridwidth": 2,
            "linecolor": "white",
            "showbackground": true,
            "ticks": "",
            "zerolinecolor": "white"
           },
           "yaxis": {
            "backgroundcolor": "#E5ECF6",
            "gridcolor": "white",
            "gridwidth": 2,
            "linecolor": "white",
            "showbackground": true,
            "ticks": "",
            "zerolinecolor": "white"
           },
           "zaxis": {
            "backgroundcolor": "#E5ECF6",
            "gridcolor": "white",
            "gridwidth": 2,
            "linecolor": "white",
            "showbackground": true,
            "ticks": "",
            "zerolinecolor": "white"
           }
          },
          "shapedefaults": {
           "line": {
            "color": "#2a3f5f"
           }
          },
          "ternary": {
           "aaxis": {
            "gridcolor": "white",
            "linecolor": "white",
            "ticks": ""
           },
           "baxis": {
            "gridcolor": "white",
            "linecolor": "white",
            "ticks": ""
           },
           "bgcolor": "#E5ECF6",
           "caxis": {
            "gridcolor": "white",
            "linecolor": "white",
            "ticks": ""
           }
          },
          "title": {
           "x": 0.05
          },
          "xaxis": {
           "automargin": true,
           "gridcolor": "white",
           "linecolor": "white",
           "ticks": "",
           "zerolinecolor": "white",
           "zerolinewidth": 2
          },
          "yaxis": {
           "automargin": true,
           "gridcolor": "white",
           "linecolor": "white",
           "ticks": "",
           "zerolinecolor": "white",
           "zerolinewidth": 2
          }
         }
        },
        "title": {
         "text": "City with total number of sales and Property types distribution for the whole data set "
        }
       }
      },
      "text/html": [
       "<div>\n",
       "        \n",
       "        \n",
       "            <div id=\"a63c81ec-079c-49e4-a3c6-ae451c8102a2\" class=\"plotly-graph-div\" style=\"height:525px; width:100%;\"></div>\n",
       "            <script type=\"text/javascript\">\n",
       "                require([\"plotly\"], function(Plotly) {\n",
       "                    window.PLOTLYENV=window.PLOTLYENV || {};\n",
       "                    \n",
       "                if (document.getElementById(\"a63c81ec-079c-49e4-a3c6-ae451c8102a2\")) {\n",
       "                    Plotly.newPlot(\n",
       "                        'a63c81ec-079c-49e4-a3c6-ae451c8102a2',\n",
       "                        [{\"domain\": {\"x\": [0.0, 0.45], \"y\": [0.0, 1.0]}, \"hole\": 0.3, \"hoverinfo\": \"label+value+name\", \"labels\": [\"Melbourne\", \"Sydney\", \"Adelaide\", \"Brisbane\", \"Perth\", \"Canberra\"], \"marker\": {\"colors\": [\"gold\", \"mediumturquoise\", \"darkorange\", \"lightgreen\"], \"line\": {\"color\": \"#000000\", \"width\": 2}}, \"name\": \"City name \", \"textposition\": \"inside\", \"type\": \"pie\", \"values\": [98535, 68223, 27612, 27341, 26659, 9403]}, {\"domain\": {\"x\": [0.55, 1.0], \"y\": [0.0, 1.0]}, \"hole\": 0.3, \"hoverinfo\": \"label+value+name\", \"labels\": [\"house\", \"unit\", \"townhouse\"], \"marker\": {\"colors\": [\"gold\", \"mediumturquoise\", \"darkorange\", \"lightgreen\"], \"line\": {\"color\": \"#000000\", \"width\": 2}}, \"name\": \"Property_type\", \"textposition\": \"inside\", \"type\": \"pie\", \"values\": [178247, 60083, 19443]}],\n",
       "                        {\"annotations\": [{\"font\": {\"size\": 20}, \"showarrow\": false, \"text\": \"City \", \"x\": 0.22, \"xanchor\": \"center\", \"xref\": \"paper\", \"y\": 0.5, \"yanchor\": \"bottom\", \"yref\": \"paper\"}, {\"font\": {\"size\": 12}, \"showarrow\": true, \"text\": \"Types of property\", \"x\": 0.79, \"xanchor\": \"center\", \"xref\": \"paper\", \"y\": 0.4, \"yanchor\": \"bottom\", \"yref\": \"paper\"}], \"template\": {\"data\": {\"bar\": [{\"error_x\": {\"color\": \"#2a3f5f\"}, \"error_y\": {\"color\": \"#2a3f5f\"}, \"marker\": {\"line\": {\"color\": \"#E5ECF6\", \"width\": 0.5}}, \"type\": \"bar\"}], \"barpolar\": [{\"marker\": {\"line\": {\"color\": \"#E5ECF6\", \"width\": 0.5}}, \"type\": \"barpolar\"}], \"carpet\": [{\"aaxis\": {\"endlinecolor\": \"#2a3f5f\", \"gridcolor\": \"white\", \"linecolor\": \"white\", \"minorgridcolor\": \"white\", \"startlinecolor\": \"#2a3f5f\"}, \"baxis\": {\"endlinecolor\": \"#2a3f5f\", \"gridcolor\": \"white\", \"linecolor\": \"white\", \"minorgridcolor\": \"white\", \"startlinecolor\": \"#2a3f5f\"}, \"type\": \"carpet\"}], \"choropleth\": [{\"colorbar\": {\"outlinewidth\": 0, \"ticks\": \"\"}, \"type\": \"choropleth\"}], \"contour\": [{\"colorbar\": {\"outlinewidth\": 0, \"ticks\": \"\"}, \"colorscale\": [[0.0, \"#0d0887\"], [0.1111111111111111, \"#46039f\"], [0.2222222222222222, \"#7201a8\"], [0.3333333333333333, \"#9c179e\"], [0.4444444444444444, \"#bd3786\"], [0.5555555555555556, \"#d8576b\"], [0.6666666666666666, \"#ed7953\"], [0.7777777777777778, \"#fb9f3a\"], [0.8888888888888888, \"#fdca26\"], [1.0, \"#f0f921\"]], \"type\": \"contour\"}], \"contourcarpet\": [{\"colorbar\": {\"outlinewidth\": 0, \"ticks\": \"\"}, \"type\": \"contourcarpet\"}], \"heatmap\": [{\"colorbar\": {\"outlinewidth\": 0, \"ticks\": \"\"}, \"colorscale\": [[0.0, \"#0d0887\"], [0.1111111111111111, \"#46039f\"], [0.2222222222222222, \"#7201a8\"], [0.3333333333333333, \"#9c179e\"], [0.4444444444444444, \"#bd3786\"], [0.5555555555555556, \"#d8576b\"], [0.6666666666666666, \"#ed7953\"], [0.7777777777777778, \"#fb9f3a\"], [0.8888888888888888, \"#fdca26\"], [1.0, \"#f0f921\"]], \"type\": \"heatmap\"}], \"heatmapgl\": [{\"colorbar\": {\"outlinewidth\": 0, \"ticks\": \"\"}, \"colorscale\": [[0.0, \"#0d0887\"], [0.1111111111111111, \"#46039f\"], [0.2222222222222222, \"#7201a8\"], [0.3333333333333333, \"#9c179e\"], [0.4444444444444444, \"#bd3786\"], [0.5555555555555556, \"#d8576b\"], [0.6666666666666666, \"#ed7953\"], [0.7777777777777778, \"#fb9f3a\"], [0.8888888888888888, \"#fdca26\"], [1.0, \"#f0f921\"]], \"type\": \"heatmapgl\"}], \"histogram\": [{\"marker\": {\"colorbar\": {\"outlinewidth\": 0, \"ticks\": \"\"}}, \"type\": \"histogram\"}], \"histogram2d\": [{\"colorbar\": {\"outlinewidth\": 0, \"ticks\": \"\"}, \"colorscale\": [[0.0, \"#0d0887\"], [0.1111111111111111, \"#46039f\"], [0.2222222222222222, \"#7201a8\"], [0.3333333333333333, \"#9c179e\"], [0.4444444444444444, \"#bd3786\"], [0.5555555555555556, \"#d8576b\"], [0.6666666666666666, \"#ed7953\"], [0.7777777777777778, \"#fb9f3a\"], [0.8888888888888888, \"#fdca26\"], [1.0, \"#f0f921\"]], \"type\": \"histogram2d\"}], \"histogram2dcontour\": [{\"colorbar\": {\"outlinewidth\": 0, \"ticks\": \"\"}, \"colorscale\": [[0.0, \"#0d0887\"], [0.1111111111111111, \"#46039f\"], [0.2222222222222222, \"#7201a8\"], [0.3333333333333333, \"#9c179e\"], [0.4444444444444444, \"#bd3786\"], [0.5555555555555556, \"#d8576b\"], [0.6666666666666666, \"#ed7953\"], [0.7777777777777778, \"#fb9f3a\"], [0.8888888888888888, \"#fdca26\"], [1.0, \"#f0f921\"]], \"type\": \"histogram2dcontour\"}], \"mesh3d\": [{\"colorbar\": {\"outlinewidth\": 0, \"ticks\": \"\"}, \"type\": \"mesh3d\"}], \"parcoords\": [{\"line\": {\"colorbar\": {\"outlinewidth\": 0, \"ticks\": \"\"}}, \"type\": \"parcoords\"}], \"scatter\": [{\"marker\": {\"colorbar\": {\"outlinewidth\": 0, \"ticks\": \"\"}}, \"type\": \"scatter\"}], \"scatter3d\": [{\"line\": {\"colorbar\": {\"outlinewidth\": 0, \"ticks\": \"\"}}, \"marker\": {\"colorbar\": {\"outlinewidth\": 0, \"ticks\": \"\"}}, \"type\": \"scatter3d\"}], \"scattercarpet\": [{\"marker\": {\"colorbar\": {\"outlinewidth\": 0, \"ticks\": \"\"}}, \"type\": \"scattercarpet\"}], \"scattergeo\": [{\"marker\": {\"colorbar\": {\"outlinewidth\": 0, \"ticks\": \"\"}}, \"type\": \"scattergeo\"}], \"scattergl\": [{\"marker\": {\"colorbar\": {\"outlinewidth\": 0, \"ticks\": \"\"}}, \"type\": \"scattergl\"}], \"scattermapbox\": [{\"marker\": {\"colorbar\": {\"outlinewidth\": 0, \"ticks\": \"\"}}, \"type\": \"scattermapbox\"}], \"scatterpolar\": [{\"marker\": {\"colorbar\": {\"outlinewidth\": 0, \"ticks\": \"\"}}, \"type\": \"scatterpolar\"}], \"scatterpolargl\": [{\"marker\": {\"colorbar\": {\"outlinewidth\": 0, \"ticks\": \"\"}}, \"type\": \"scatterpolargl\"}], \"scatterternary\": [{\"marker\": {\"colorbar\": {\"outlinewidth\": 0, \"ticks\": \"\"}}, \"type\": \"scatterternary\"}], \"surface\": [{\"colorbar\": {\"outlinewidth\": 0, \"ticks\": \"\"}, \"colorscale\": [[0.0, \"#0d0887\"], [0.1111111111111111, \"#46039f\"], [0.2222222222222222, \"#7201a8\"], [0.3333333333333333, \"#9c179e\"], [0.4444444444444444, \"#bd3786\"], [0.5555555555555556, \"#d8576b\"], [0.6666666666666666, \"#ed7953\"], [0.7777777777777778, \"#fb9f3a\"], [0.8888888888888888, \"#fdca26\"], [1.0, \"#f0f921\"]], \"type\": \"surface\"}], \"table\": [{\"cells\": {\"fill\": {\"color\": \"#EBF0F8\"}, \"line\": {\"color\": \"white\"}}, \"header\": {\"fill\": {\"color\": \"#C8D4E3\"}, \"line\": {\"color\": \"white\"}}, \"type\": \"table\"}]}, \"layout\": {\"annotationdefaults\": {\"arrowcolor\": \"#2a3f5f\", \"arrowhead\": 0, \"arrowwidth\": 1}, \"colorscale\": {\"diverging\": [[0, \"#8e0152\"], [0.1, \"#c51b7d\"], [0.2, \"#de77ae\"], [0.3, \"#f1b6da\"], [0.4, \"#fde0ef\"], [0.5, \"#f7f7f7\"], [0.6, \"#e6f5d0\"], [0.7, \"#b8e186\"], [0.8, \"#7fbc41\"], [0.9, \"#4d9221\"], [1, \"#276419\"]], \"sequential\": [[0.0, \"#0d0887\"], [0.1111111111111111, \"#46039f\"], [0.2222222222222222, \"#7201a8\"], [0.3333333333333333, \"#9c179e\"], [0.4444444444444444, \"#bd3786\"], [0.5555555555555556, \"#d8576b\"], [0.6666666666666666, \"#ed7953\"], [0.7777777777777778, \"#fb9f3a\"], [0.8888888888888888, \"#fdca26\"], [1.0, \"#f0f921\"]], \"sequentialminus\": [[0.0, \"#0d0887\"], [0.1111111111111111, \"#46039f\"], [0.2222222222222222, \"#7201a8\"], [0.3333333333333333, \"#9c179e\"], [0.4444444444444444, \"#bd3786\"], [0.5555555555555556, \"#d8576b\"], [0.6666666666666666, \"#ed7953\"], [0.7777777777777778, \"#fb9f3a\"], [0.8888888888888888, \"#fdca26\"], [1.0, \"#f0f921\"]]}, \"colorway\": [\"#636efa\", \"#EF553B\", \"#00cc96\", \"#ab63fa\", \"#FFA15A\", \"#19d3f3\", \"#FF6692\", \"#B6E880\", \"#FF97FF\", \"#FECB52\"], \"font\": {\"color\": \"#2a3f5f\"}, \"geo\": {\"bgcolor\": \"white\", \"lakecolor\": \"white\", \"landcolor\": \"#E5ECF6\", \"showlakes\": true, \"showland\": true, \"subunitcolor\": \"white\"}, \"hoverlabel\": {\"align\": \"left\"}, \"hovermode\": \"closest\", \"mapbox\": {\"style\": \"light\"}, \"paper_bgcolor\": \"white\", \"plot_bgcolor\": \"#E5ECF6\", \"polar\": {\"angularaxis\": {\"gridcolor\": \"white\", \"linecolor\": \"white\", \"ticks\": \"\"}, \"bgcolor\": \"#E5ECF6\", \"radialaxis\": {\"gridcolor\": \"white\", \"linecolor\": \"white\", \"ticks\": \"\"}}, \"scene\": {\"xaxis\": {\"backgroundcolor\": \"#E5ECF6\", \"gridcolor\": \"white\", \"gridwidth\": 2, \"linecolor\": \"white\", \"showbackground\": true, \"ticks\": \"\", \"zerolinecolor\": \"white\"}, \"yaxis\": {\"backgroundcolor\": \"#E5ECF6\", \"gridcolor\": \"white\", \"gridwidth\": 2, \"linecolor\": \"white\", \"showbackground\": true, \"ticks\": \"\", \"zerolinecolor\": \"white\"}, \"zaxis\": {\"backgroundcolor\": \"#E5ECF6\", \"gridcolor\": \"white\", \"gridwidth\": 2, \"linecolor\": \"white\", \"showbackground\": true, \"ticks\": \"\", \"zerolinecolor\": \"white\"}}, \"shapedefaults\": {\"line\": {\"color\": \"#2a3f5f\"}}, \"ternary\": {\"aaxis\": {\"gridcolor\": \"white\", \"linecolor\": \"white\", \"ticks\": \"\"}, \"baxis\": {\"gridcolor\": \"white\", \"linecolor\": \"white\", \"ticks\": \"\"}, \"bgcolor\": \"#E5ECF6\", \"caxis\": {\"gridcolor\": \"white\", \"linecolor\": \"white\", \"ticks\": \"\"}}, \"title\": {\"x\": 0.05}, \"xaxis\": {\"automargin\": true, \"gridcolor\": \"white\", \"linecolor\": \"white\", \"ticks\": \"\", \"zerolinecolor\": \"white\", \"zerolinewidth\": 2}, \"yaxis\": {\"automargin\": true, \"gridcolor\": \"white\", \"linecolor\": \"white\", \"ticks\": \"\", \"zerolinecolor\": \"white\", \"zerolinewidth\": 2}}}, \"title\": {\"text\": \"City with total number of sales and Property types distribution for the whole data set \"}},\n",
       "                        {\"responsive\": true}\n",
       "                    ).then(function(){\n",
       "                            \n",
       "var gd = document.getElementById('a63c81ec-079c-49e4-a3c6-ae451c8102a2');\n",
       "var x = new MutationObserver(function (mutations, observer) {{\n",
       "        var display = window.getComputedStyle(gd).display;\n",
       "        if (!display || display === 'none') {{\n",
       "            console.log([gd, 'removed!']);\n",
       "            Plotly.purge(gd);\n",
       "            observer.disconnect();\n",
       "        }}\n",
       "}});\n",
       "\n",
       "// Listen for the removal of the full notebook cells\n",
       "var notebookContainer = gd.closest('#notebook-container');\n",
       "if (notebookContainer) {{\n",
       "    x.observe(notebookContainer, {childList: true});\n",
       "}}\n",
       "\n",
       "// Listen for the clearing of the current output cell\n",
       "var outputEl = gd.closest('.output');\n",
       "if (outputEl) {{\n",
       "    x.observe(outputEl, {childList: true});\n",
       "}}\n",
       "\n",
       "                        })\n",
       "                };\n",
       "                });\n",
       "            </script>\n",
       "        </div>"
      ]
     },
     "metadata": {},
     "output_type": "display_data"
    }
   ],
   "source": [
    "#Using the make_subplots module of Ploty, plotting  interactive Pie Charts of a grid size 1x2 \n",
    "fig = make_subplots(rows=1, cols=2,\n",
    "                    specs=[[{'type':'domain'}, {'type':'domain'}]],\n",
    "                    subplot_titles=(\"Total number of sales in each city\", \"Total number of propertiessold based on property types\"))\n",
    "#Assigning the respective trace(pie) with the values and labels from the series and index list created above for whole year                                  \n",
    "fig.add_trace(go.Pie(labels=labels_city, values=values_city, name=\"City name \"),\n",
    "              1, 1)\n",
    "fig.add_trace(go.Pie(labels=labels_property , values= values_property  , name=\"Property_type\"),\n",
    "              1, 2)\n",
    "\n",
    "#Assigning the respective trace(pie) with the values and labels from the series and index list created above for each quarterr\n",
    "# Creating donut like pies by making a hole and adding other visual features \n",
    "colors = ['gold', 'mediumturquoise', 'darkorange', 'lightgreen']\n",
    "\n",
    "fig.update_traces(hole=.3, hoverinfo=\"label+value+name\" ,  marker=dict(colors=colors, line=dict(color='#000000', width=2) ),\n",
    "                 textposition='inside')\n",
    "\n",
    "fig.update_layout(title_text=\"City with total number of sales and Property types distribution for the whole data set \",\n",
    "                   annotations=[dict(text='City ', x=0.22, y=0.5, font_size=20, showarrow=False),\n",
    "                   dict(text='Types of property', x=0.79, y=0.4, font_size=12, showarrow=True)])\n",
    "    \n",
    "        \n",
    "                 \n",
    "fig.show()\n"
   ]
  },
  {
   "cell_type": "markdown",
   "metadata": {},
   "source": [
    "# Extracting the data for year 2019 and performing analysis on sales of properties with different number of bedrooms (Snehitha's Part)"
   ]
  },
  {
   "cell_type": "code",
   "execution_count": 123,
   "metadata": {},
   "outputs": [
    {
     "data": {
      "text/html": [
       "<div>\n",
       "<style scoped>\n",
       "    .dataframe tbody tr th:only-of-type {\n",
       "        vertical-align: middle;\n",
       "    }\n",
       "\n",
       "    .dataframe tbody tr th {\n",
       "        vertical-align: top;\n",
       "    }\n",
       "\n",
       "    .dataframe thead th {\n",
       "        text-align: right;\n",
       "    }\n",
       "</style>\n",
       "<table border=\"1\" class=\"dataframe\">\n",
       "  <thead>\n",
       "    <tr style=\"text-align: right;\">\n",
       "      <th></th>\n",
       "      <th>date_sold</th>\n",
       "      <th>price</th>\n",
       "      <th>suburb</th>\n",
       "      <th>city_name</th>\n",
       "      <th>state</th>\n",
       "      <th>lat</th>\n",
       "      <th>lon</th>\n",
       "      <th>bedrooms</th>\n",
       "      <th>property_type</th>\n",
       "      <th>loc_pid</th>\n",
       "      <th>lga_pid</th>\n",
       "    </tr>\n",
       "  </thead>\n",
       "  <tbody>\n",
       "    <tr>\n",
       "      <th>22</th>\n",
       "      <td>2019-02-05</td>\n",
       "      <td>1200000.0</td>\n",
       "      <td>Darling Point</td>\n",
       "      <td>Sydney</td>\n",
       "      <td>NSW</td>\n",
       "      <td>-33.875168</td>\n",
       "      <td>151.234649</td>\n",
       "      <td>2</td>\n",
       "      <td>unit</td>\n",
       "      <td>NSW1221</td>\n",
       "      <td>NSW180</td>\n",
       "    </tr>\n",
       "    <tr>\n",
       "      <th>23</th>\n",
       "      <td>2019-02-26</td>\n",
       "      <td>2350000.0</td>\n",
       "      <td>Darling Point</td>\n",
       "      <td>Sydney</td>\n",
       "      <td>NSW</td>\n",
       "      <td>-33.875929</td>\n",
       "      <td>151.234713</td>\n",
       "      <td>3</td>\n",
       "      <td>unit</td>\n",
       "      <td>NSW1221</td>\n",
       "      <td>NSW180</td>\n",
       "    </tr>\n",
       "    <tr>\n",
       "      <th>24</th>\n",
       "      <td>2019-02-27</td>\n",
       "      <td>5025000.0</td>\n",
       "      <td>Darling Point</td>\n",
       "      <td>Sydney</td>\n",
       "      <td>NSW</td>\n",
       "      <td>-33.870709</td>\n",
       "      <td>151.238680</td>\n",
       "      <td>3</td>\n",
       "      <td>unit</td>\n",
       "      <td>NSW1221</td>\n",
       "      <td>NSW180</td>\n",
       "    </tr>\n",
       "    <tr>\n",
       "      <th>30</th>\n",
       "      <td>2019-03-05</td>\n",
       "      <td>1855000.0</td>\n",
       "      <td>Darling Point</td>\n",
       "      <td>Sydney</td>\n",
       "      <td>NSW</td>\n",
       "      <td>-33.873735</td>\n",
       "      <td>151.239819</td>\n",
       "      <td>3</td>\n",
       "      <td>unit</td>\n",
       "      <td>NSW1221</td>\n",
       "      <td>NSW180</td>\n",
       "    </tr>\n",
       "    <tr>\n",
       "      <th>33</th>\n",
       "      <td>2019-03-12</td>\n",
       "      <td>1310000.0</td>\n",
       "      <td>Darling Point</td>\n",
       "      <td>Sydney</td>\n",
       "      <td>NSW</td>\n",
       "      <td>-33.869397</td>\n",
       "      <td>151.239422</td>\n",
       "      <td>2</td>\n",
       "      <td>unit</td>\n",
       "      <td>NSW1221</td>\n",
       "      <td>NSW180</td>\n",
       "    </tr>\n",
       "    <tr>\n",
       "      <th>...</th>\n",
       "      <td>...</td>\n",
       "      <td>...</td>\n",
       "      <td>...</td>\n",
       "      <td>...</td>\n",
       "      <td>...</td>\n",
       "      <td>...</td>\n",
       "      <td>...</td>\n",
       "      <td>...</td>\n",
       "      <td>...</td>\n",
       "      <td>...</td>\n",
       "      <td>...</td>\n",
       "    </tr>\n",
       "    <tr>\n",
       "      <th>320245</th>\n",
       "      <td>2019-01-08</td>\n",
       "      <td>476000.0</td>\n",
       "      <td>Coombs</td>\n",
       "      <td>Canberra</td>\n",
       "      <td>ACT</td>\n",
       "      <td>-35.318294</td>\n",
       "      <td>149.042545</td>\n",
       "      <td>3</td>\n",
       "      <td>townhouse</td>\n",
       "      <td>ACT906</td>\n",
       "      <td>ACT</td>\n",
       "    </tr>\n",
       "    <tr>\n",
       "      <th>320247</th>\n",
       "      <td>2019-02-21</td>\n",
       "      <td>496000.0</td>\n",
       "      <td>Coombs</td>\n",
       "      <td>Canberra</td>\n",
       "      <td>ACT</td>\n",
       "      <td>-35.320000</td>\n",
       "      <td>149.039373</td>\n",
       "      <td>3</td>\n",
       "      <td>townhouse</td>\n",
       "      <td>ACT906</td>\n",
       "      <td>ACT</td>\n",
       "    </tr>\n",
       "    <tr>\n",
       "      <th>320290</th>\n",
       "      <td>2019-01-30</td>\n",
       "      <td>550000.0</td>\n",
       "      <td>Moncrieff</td>\n",
       "      <td>Canberra</td>\n",
       "      <td>ACT</td>\n",
       "      <td>-35.160135</td>\n",
       "      <td>149.122513</td>\n",
       "      <td>3</td>\n",
       "      <td>townhouse</td>\n",
       "      <td>ACT932</td>\n",
       "      <td>ACT</td>\n",
       "    </tr>\n",
       "    <tr>\n",
       "      <th>320291</th>\n",
       "      <td>2019-03-30</td>\n",
       "      <td>450000.0</td>\n",
       "      <td>Moncrieff</td>\n",
       "      <td>Canberra</td>\n",
       "      <td>ACT</td>\n",
       "      <td>-35.159394</td>\n",
       "      <td>149.119042</td>\n",
       "      <td>3</td>\n",
       "      <td>townhouse</td>\n",
       "      <td>ACT932</td>\n",
       "      <td>ACT</td>\n",
       "    </tr>\n",
       "    <tr>\n",
       "      <th>320328</th>\n",
       "      <td>2019-01-11</td>\n",
       "      <td>439900.0</td>\n",
       "      <td>Taylor</td>\n",
       "      <td>Canberra</td>\n",
       "      <td>ACT</td>\n",
       "      <td>-35.152423</td>\n",
       "      <td>149.103550</td>\n",
       "      <td>2</td>\n",
       "      <td>townhouse</td>\n",
       "      <td>ACT934</td>\n",
       "      <td>ACT</td>\n",
       "    </tr>\n",
       "  </tbody>\n",
       "</table>\n",
       "<p>28449 rows × 11 columns</p>\n",
       "</div>"
      ],
      "text/plain": [
       "        date_sold      price         suburb city_name state        lat  \\\n",
       "22     2019-02-05  1200000.0  Darling Point    Sydney   NSW -33.875168   \n",
       "23     2019-02-26  2350000.0  Darling Point    Sydney   NSW -33.875929   \n",
       "24     2019-02-27  5025000.0  Darling Point    Sydney   NSW -33.870709   \n",
       "30     2019-03-05  1855000.0  Darling Point    Sydney   NSW -33.873735   \n",
       "33     2019-03-12  1310000.0  Darling Point    Sydney   NSW -33.869397   \n",
       "...           ...        ...            ...       ...   ...        ...   \n",
       "320245 2019-01-08   476000.0         Coombs  Canberra   ACT -35.318294   \n",
       "320247 2019-02-21   496000.0         Coombs  Canberra   ACT -35.320000   \n",
       "320290 2019-01-30   550000.0      Moncrieff  Canberra   ACT -35.160135   \n",
       "320291 2019-03-30   450000.0      Moncrieff  Canberra   ACT -35.159394   \n",
       "320328 2019-01-11   439900.0         Taylor  Canberra   ACT -35.152423   \n",
       "\n",
       "               lon  bedrooms property_type  loc_pid lga_pid  \n",
       "22      151.234649         2          unit  NSW1221  NSW180  \n",
       "23      151.234713         3          unit  NSW1221  NSW180  \n",
       "24      151.238680         3          unit  NSW1221  NSW180  \n",
       "30      151.239819         3          unit  NSW1221  NSW180  \n",
       "33      151.239422         2          unit  NSW1221  NSW180  \n",
       "...            ...       ...           ...      ...     ...  \n",
       "320245  149.042545         3     townhouse   ACT906     ACT  \n",
       "320247  149.039373         3     townhouse   ACT906     ACT  \n",
       "320290  149.122513         3     townhouse   ACT932     ACT  \n",
       "320291  149.119042         3     townhouse   ACT932     ACT  \n",
       "320328  149.103550         2     townhouse   ACT934     ACT  \n",
       "\n",
       "[28449 rows x 11 columns]"
      ]
     },
     "execution_count": 123,
     "metadata": {},
     "output_type": "execute_result"
    }
   ],
   "source": [
    "#Extracting a dataframe from the whole dataframe for only 2019 data which will be used for all the below three analysis\n",
    "data_2019 = data.loc[(data[\"date_sold\"] >= \"2019-01-01\") & (data[\"date_sold\"] <= \"2019-12-31\")]\n",
    "\n",
    "\n",
    "#Creating a dateframe for Quarter 1( 01-01-2019 to 31-03-2019) \n",
    "\n",
    "bedroom_data_q1 = data_2019.loc[(data_2019['date_sold'] >=\"2019-01-01\") & (data_2019['date_sold'] <= \"2019-03-31\")]\n",
    "\n",
    "\n",
    "\n",
    "#Creating dataframes and series to hold the total number of properties with respective number of bedrooms for Quarter-1\n",
    "#Which will be used for plotting the charts\n",
    "bedrooms_count1 = pd.DataFrame(bedroom_data_q1[\"bedrooms\"].value_counts())\n",
    "bedrooms_count1.sort_values(by=['bedrooms'] , ascending=False)\n",
    "bedrooms_labels1= bedrooms_count1['bedrooms'].index \n",
    "bedroom_values1 =bedrooms_count1['bedrooms'] \n",
    "\n",
    "#Viewing the dataframe of Quarter-1 of 2019\n",
    "bedroom_data_q1\n",
    "\n"
   ]
  },
  {
   "cell_type": "code",
   "execution_count": 124,
   "metadata": {},
   "outputs": [
    {
     "data": {
      "text/html": [
       "<div>\n",
       "<style scoped>\n",
       "    .dataframe tbody tr th:only-of-type {\n",
       "        vertical-align: middle;\n",
       "    }\n",
       "\n",
       "    .dataframe tbody tr th {\n",
       "        vertical-align: top;\n",
       "    }\n",
       "\n",
       "    .dataframe thead th {\n",
       "        text-align: right;\n",
       "    }\n",
       "</style>\n",
       "<table border=\"1\" class=\"dataframe\">\n",
       "  <thead>\n",
       "    <tr style=\"text-align: right;\">\n",
       "      <th></th>\n",
       "      <th>date_sold</th>\n",
       "      <th>price</th>\n",
       "      <th>suburb</th>\n",
       "      <th>city_name</th>\n",
       "      <th>state</th>\n",
       "      <th>lat</th>\n",
       "      <th>lon</th>\n",
       "      <th>bedrooms</th>\n",
       "      <th>property_type</th>\n",
       "      <th>loc_pid</th>\n",
       "      <th>lga_pid</th>\n",
       "    </tr>\n",
       "  </thead>\n",
       "  <tbody>\n",
       "    <tr>\n",
       "      <th>38</th>\n",
       "      <td>2019-04-23</td>\n",
       "      <td>1725000.0</td>\n",
       "      <td>Darling Point</td>\n",
       "      <td>Sydney</td>\n",
       "      <td>NSW</td>\n",
       "      <td>-33.868355</td>\n",
       "      <td>151.238095</td>\n",
       "      <td>2</td>\n",
       "      <td>unit</td>\n",
       "      <td>NSW1221</td>\n",
       "      <td>NSW180</td>\n",
       "    </tr>\n",
       "    <tr>\n",
       "      <th>41</th>\n",
       "      <td>2019-05-29</td>\n",
       "      <td>1505000.0</td>\n",
       "      <td>Darling Point</td>\n",
       "      <td>Sydney</td>\n",
       "      <td>NSW</td>\n",
       "      <td>-33.874438</td>\n",
       "      <td>151.238553</td>\n",
       "      <td>2</td>\n",
       "      <td>unit</td>\n",
       "      <td>NSW1221</td>\n",
       "      <td>NSW180</td>\n",
       "    </tr>\n",
       "    <tr>\n",
       "      <th>157</th>\n",
       "      <td>2019-04-02</td>\n",
       "      <td>1450000.0</td>\n",
       "      <td>Double Bay</td>\n",
       "      <td>Sydney</td>\n",
       "      <td>NSW</td>\n",
       "      <td>-33.874902</td>\n",
       "      <td>151.243992</td>\n",
       "      <td>3</td>\n",
       "      <td>unit</td>\n",
       "      <td>NSW1294</td>\n",
       "      <td>NSW180</td>\n",
       "    </tr>\n",
       "    <tr>\n",
       "      <th>163</th>\n",
       "      <td>2019-05-25</td>\n",
       "      <td>941111.0</td>\n",
       "      <td>Double Bay</td>\n",
       "      <td>Sydney</td>\n",
       "      <td>NSW</td>\n",
       "      <td>-33.878911</td>\n",
       "      <td>151.239941</td>\n",
       "      <td>2</td>\n",
       "      <td>unit</td>\n",
       "      <td>NSW1294</td>\n",
       "      <td>NSW180</td>\n",
       "    </tr>\n",
       "    <tr>\n",
       "      <th>164</th>\n",
       "      <td>2019-05-27</td>\n",
       "      <td>1400000.0</td>\n",
       "      <td>Double Bay</td>\n",
       "      <td>Sydney</td>\n",
       "      <td>NSW</td>\n",
       "      <td>-33.876838</td>\n",
       "      <td>151.239221</td>\n",
       "      <td>2</td>\n",
       "      <td>unit</td>\n",
       "      <td>NSW1294</td>\n",
       "      <td>NSW180</td>\n",
       "    </tr>\n",
       "    <tr>\n",
       "      <th>...</th>\n",
       "      <td>...</td>\n",
       "      <td>...</td>\n",
       "      <td>...</td>\n",
       "      <td>...</td>\n",
       "      <td>...</td>\n",
       "      <td>...</td>\n",
       "      <td>...</td>\n",
       "      <td>...</td>\n",
       "      <td>...</td>\n",
       "      <td>...</td>\n",
       "      <td>...</td>\n",
       "    </tr>\n",
       "    <tr>\n",
       "      <th>320277</th>\n",
       "      <td>2019-04-11</td>\n",
       "      <td>590000.0</td>\n",
       "      <td>Wright</td>\n",
       "      <td>Canberra</td>\n",
       "      <td>ACT</td>\n",
       "      <td>-35.324988</td>\n",
       "      <td>149.042590</td>\n",
       "      <td>3</td>\n",
       "      <td>townhouse</td>\n",
       "      <td>ACT907</td>\n",
       "      <td>ACT</td>\n",
       "    </tr>\n",
       "    <tr>\n",
       "      <th>320292</th>\n",
       "      <td>2019-04-12</td>\n",
       "      <td>376000.0</td>\n",
       "      <td>Moncrieff</td>\n",
       "      <td>Canberra</td>\n",
       "      <td>ACT</td>\n",
       "      <td>-35.154272</td>\n",
       "      <td>149.114021</td>\n",
       "      <td>2</td>\n",
       "      <td>townhouse</td>\n",
       "      <td>ACT932</td>\n",
       "      <td>ACT</td>\n",
       "    </tr>\n",
       "    <tr>\n",
       "      <th>320293</th>\n",
       "      <td>2019-04-29</td>\n",
       "      <td>450000.0</td>\n",
       "      <td>Moncrieff</td>\n",
       "      <td>Canberra</td>\n",
       "      <td>ACT</td>\n",
       "      <td>-35.156202</td>\n",
       "      <td>149.111791</td>\n",
       "      <td>3</td>\n",
       "      <td>townhouse</td>\n",
       "      <td>ACT932</td>\n",
       "      <td>ACT</td>\n",
       "    </tr>\n",
       "    <tr>\n",
       "      <th>320294</th>\n",
       "      <td>2019-05-13</td>\n",
       "      <td>520000.0</td>\n",
       "      <td>Moncrieff</td>\n",
       "      <td>Canberra</td>\n",
       "      <td>ACT</td>\n",
       "      <td>-35.163073</td>\n",
       "      <td>149.116511</td>\n",
       "      <td>3</td>\n",
       "      <td>townhouse</td>\n",
       "      <td>ACT932</td>\n",
       "      <td>ACT</td>\n",
       "    </tr>\n",
       "    <tr>\n",
       "      <th>320295</th>\n",
       "      <td>2019-06-13</td>\n",
       "      <td>390000.0</td>\n",
       "      <td>Moncrieff</td>\n",
       "      <td>Canberra</td>\n",
       "      <td>ACT</td>\n",
       "      <td>-35.155493</td>\n",
       "      <td>149.107272</td>\n",
       "      <td>2</td>\n",
       "      <td>townhouse</td>\n",
       "      <td>ACT932</td>\n",
       "      <td>ACT</td>\n",
       "    </tr>\n",
       "  </tbody>\n",
       "</table>\n",
       "<p>31200 rows × 11 columns</p>\n",
       "</div>"
      ],
      "text/plain": [
       "        date_sold      price         suburb city_name state        lat  \\\n",
       "38     2019-04-23  1725000.0  Darling Point    Sydney   NSW -33.868355   \n",
       "41     2019-05-29  1505000.0  Darling Point    Sydney   NSW -33.874438   \n",
       "157    2019-04-02  1450000.0     Double Bay    Sydney   NSW -33.874902   \n",
       "163    2019-05-25   941111.0     Double Bay    Sydney   NSW -33.878911   \n",
       "164    2019-05-27  1400000.0     Double Bay    Sydney   NSW -33.876838   \n",
       "...           ...        ...            ...       ...   ...        ...   \n",
       "320277 2019-04-11   590000.0         Wright  Canberra   ACT -35.324988   \n",
       "320292 2019-04-12   376000.0      Moncrieff  Canberra   ACT -35.154272   \n",
       "320293 2019-04-29   450000.0      Moncrieff  Canberra   ACT -35.156202   \n",
       "320294 2019-05-13   520000.0      Moncrieff  Canberra   ACT -35.163073   \n",
       "320295 2019-06-13   390000.0      Moncrieff  Canberra   ACT -35.155493   \n",
       "\n",
       "               lon  bedrooms property_type  loc_pid lga_pid  \n",
       "38      151.238095         2          unit  NSW1221  NSW180  \n",
       "41      151.238553         2          unit  NSW1221  NSW180  \n",
       "157     151.243992         3          unit  NSW1294  NSW180  \n",
       "163     151.239941         2          unit  NSW1294  NSW180  \n",
       "164     151.239221         2          unit  NSW1294  NSW180  \n",
       "...            ...       ...           ...      ...     ...  \n",
       "320277  149.042590         3     townhouse   ACT907     ACT  \n",
       "320292  149.114021         2     townhouse   ACT932     ACT  \n",
       "320293  149.111791         3     townhouse   ACT932     ACT  \n",
       "320294  149.116511         3     townhouse   ACT932     ACT  \n",
       "320295  149.107272         2     townhouse   ACT932     ACT  \n",
       "\n",
       "[31200 rows x 11 columns]"
      ]
     },
     "execution_count": 124,
     "metadata": {},
     "output_type": "execute_result"
    }
   ],
   "source": [
    "\n",
    "#Creating a dateframe for Quarter 2( 01-04-2019 to 30-06-2019) \n",
    "\n",
    "\n",
    "bedroom_data_q2 = data_2019.loc[(data_2019['date_sold'] >=\"2019-04-01\") & (data_2019['date_sold'] <= \"2019-06-30\")]\n",
    "\n",
    "bedroom_data_q2 \n",
    "\n",
    "#Creating series and variables to hold the total number of properties with respective number of bedrooms for Quarter-2\n",
    "#Which will be used for plotting the charts\n",
    "bedrooms_count2 = pd.DataFrame(bedroom_data_q2[\"bedrooms\"].value_counts())\n",
    "bedrooms_count2.sort_values(by=['bedrooms'] , ascending=False)\n",
    "bedrooms_labels2= bedrooms_count2['bedrooms'].index \n",
    "bedroom_values2 =bedrooms_count2['bedrooms'] \n",
    "\n",
    "#Viewing  Quarter-2 dataframe of 2019\n",
    "bedroom_data_q2 "
   ]
  },
  {
   "cell_type": "code",
   "execution_count": 125,
   "metadata": {},
   "outputs": [
    {
     "data": {
      "text/html": [
       "<div>\n",
       "<style scoped>\n",
       "    .dataframe tbody tr th:only-of-type {\n",
       "        vertical-align: middle;\n",
       "    }\n",
       "\n",
       "    .dataframe tbody tr th {\n",
       "        vertical-align: top;\n",
       "    }\n",
       "\n",
       "    .dataframe thead th {\n",
       "        text-align: right;\n",
       "    }\n",
       "</style>\n",
       "<table border=\"1\" class=\"dataframe\">\n",
       "  <thead>\n",
       "    <tr style=\"text-align: right;\">\n",
       "      <th></th>\n",
       "      <th>date_sold</th>\n",
       "      <th>price</th>\n",
       "      <th>suburb</th>\n",
       "      <th>city_name</th>\n",
       "      <th>state</th>\n",
       "      <th>lat</th>\n",
       "      <th>lon</th>\n",
       "      <th>bedrooms</th>\n",
       "      <th>property_type</th>\n",
       "      <th>loc_pid</th>\n",
       "      <th>lga_pid</th>\n",
       "    </tr>\n",
       "  </thead>\n",
       "  <tbody>\n",
       "    <tr>\n",
       "      <th>49</th>\n",
       "      <td>2019-08-20</td>\n",
       "      <td>3300000.0</td>\n",
       "      <td>Darling Point</td>\n",
       "      <td>Sydney</td>\n",
       "      <td>NSW</td>\n",
       "      <td>-33.868897</td>\n",
       "      <td>151.236465</td>\n",
       "      <td>2</td>\n",
       "      <td>unit</td>\n",
       "      <td>NSW1221</td>\n",
       "      <td>NSW180</td>\n",
       "    </tr>\n",
       "    <tr>\n",
       "      <th>53</th>\n",
       "      <td>2019-09-13</td>\n",
       "      <td>847000.0</td>\n",
       "      <td>Darling Point</td>\n",
       "      <td>Sydney</td>\n",
       "      <td>NSW</td>\n",
       "      <td>-33.868896</td>\n",
       "      <td>151.236464</td>\n",
       "      <td>1</td>\n",
       "      <td>unit</td>\n",
       "      <td>NSW1221</td>\n",
       "      <td>NSW180</td>\n",
       "    </tr>\n",
       "    <tr>\n",
       "      <th>54</th>\n",
       "      <td>2019-09-17</td>\n",
       "      <td>1375000.0</td>\n",
       "      <td>Darling Point</td>\n",
       "      <td>Sydney</td>\n",
       "      <td>NSW</td>\n",
       "      <td>-33.871913</td>\n",
       "      <td>151.236395</td>\n",
       "      <td>2</td>\n",
       "      <td>unit</td>\n",
       "      <td>NSW1221</td>\n",
       "      <td>NSW180</td>\n",
       "    </tr>\n",
       "    <tr>\n",
       "      <th>55</th>\n",
       "      <td>2019-09-18</td>\n",
       "      <td>4460000.0</td>\n",
       "      <td>Darling Point</td>\n",
       "      <td>Sydney</td>\n",
       "      <td>NSW</td>\n",
       "      <td>-33.872404</td>\n",
       "      <td>151.240064</td>\n",
       "      <td>3</td>\n",
       "      <td>unit</td>\n",
       "      <td>NSW1221</td>\n",
       "      <td>NSW180</td>\n",
       "    </tr>\n",
       "    <tr>\n",
       "      <th>57</th>\n",
       "      <td>2019-09-20</td>\n",
       "      <td>2615000.0</td>\n",
       "      <td>Darling Point</td>\n",
       "      <td>Sydney</td>\n",
       "      <td>NSW</td>\n",
       "      <td>-33.876771</td>\n",
       "      <td>151.233716</td>\n",
       "      <td>2</td>\n",
       "      <td>unit</td>\n",
       "      <td>NSW1221</td>\n",
       "      <td>NSW180</td>\n",
       "    </tr>\n",
       "    <tr>\n",
       "      <th>...</th>\n",
       "      <td>...</td>\n",
       "      <td>...</td>\n",
       "      <td>...</td>\n",
       "      <td>...</td>\n",
       "      <td>...</td>\n",
       "      <td>...</td>\n",
       "      <td>...</td>\n",
       "      <td>...</td>\n",
       "      <td>...</td>\n",
       "      <td>...</td>\n",
       "      <td>...</td>\n",
       "    </tr>\n",
       "    <tr>\n",
       "      <th>320286</th>\n",
       "      <td>2019-09-02</td>\n",
       "      <td>385000.0</td>\n",
       "      <td>Jacka</td>\n",
       "      <td>Canberra</td>\n",
       "      <td>ACT</td>\n",
       "      <td>-35.159919</td>\n",
       "      <td>149.127317</td>\n",
       "      <td>2</td>\n",
       "      <td>townhouse</td>\n",
       "      <td>ACT928</td>\n",
       "      <td>ACT</td>\n",
       "    </tr>\n",
       "    <tr>\n",
       "      <th>320296</th>\n",
       "      <td>2019-08-01</td>\n",
       "      <td>470000.0</td>\n",
       "      <td>Moncrieff</td>\n",
       "      <td>Canberra</td>\n",
       "      <td>ACT</td>\n",
       "      <td>-35.155622</td>\n",
       "      <td>149.113035</td>\n",
       "      <td>3</td>\n",
       "      <td>townhouse</td>\n",
       "      <td>ACT932</td>\n",
       "      <td>ACT</td>\n",
       "    </tr>\n",
       "    <tr>\n",
       "      <th>320297</th>\n",
       "      <td>2019-08-12</td>\n",
       "      <td>462000.0</td>\n",
       "      <td>Moncrieff</td>\n",
       "      <td>Canberra</td>\n",
       "      <td>ACT</td>\n",
       "      <td>-35.154272</td>\n",
       "      <td>149.114021</td>\n",
       "      <td>3</td>\n",
       "      <td>townhouse</td>\n",
       "      <td>ACT932</td>\n",
       "      <td>ACT</td>\n",
       "    </tr>\n",
       "    <tr>\n",
       "      <th>320330</th>\n",
       "      <td>2019-09-10</td>\n",
       "      <td>549900.0</td>\n",
       "      <td>Taylor</td>\n",
       "      <td>Canberra</td>\n",
       "      <td>ACT</td>\n",
       "      <td>-35.151968</td>\n",
       "      <td>149.107229</td>\n",
       "      <td>3</td>\n",
       "      <td>townhouse</td>\n",
       "      <td>ACT934</td>\n",
       "      <td>ACT</td>\n",
       "    </tr>\n",
       "    <tr>\n",
       "      <th>320331</th>\n",
       "      <td>2019-09-10</td>\n",
       "      <td>499900.0</td>\n",
       "      <td>Taylor</td>\n",
       "      <td>Canberra</td>\n",
       "      <td>ACT</td>\n",
       "      <td>-35.151968</td>\n",
       "      <td>149.107229</td>\n",
       "      <td>3</td>\n",
       "      <td>townhouse</td>\n",
       "      <td>ACT934</td>\n",
       "      <td>ACT</td>\n",
       "    </tr>\n",
       "  </tbody>\n",
       "</table>\n",
       "<p>36235 rows × 11 columns</p>\n",
       "</div>"
      ],
      "text/plain": [
       "        date_sold      price         suburb city_name state        lat  \\\n",
       "49     2019-08-20  3300000.0  Darling Point    Sydney   NSW -33.868897   \n",
       "53     2019-09-13   847000.0  Darling Point    Sydney   NSW -33.868896   \n",
       "54     2019-09-17  1375000.0  Darling Point    Sydney   NSW -33.871913   \n",
       "55     2019-09-18  4460000.0  Darling Point    Sydney   NSW -33.872404   \n",
       "57     2019-09-20  2615000.0  Darling Point    Sydney   NSW -33.876771   \n",
       "...           ...        ...            ...       ...   ...        ...   \n",
       "320286 2019-09-02   385000.0          Jacka  Canberra   ACT -35.159919   \n",
       "320296 2019-08-01   470000.0      Moncrieff  Canberra   ACT -35.155622   \n",
       "320297 2019-08-12   462000.0      Moncrieff  Canberra   ACT -35.154272   \n",
       "320330 2019-09-10   549900.0         Taylor  Canberra   ACT -35.151968   \n",
       "320331 2019-09-10   499900.0         Taylor  Canberra   ACT -35.151968   \n",
       "\n",
       "               lon  bedrooms property_type  loc_pid lga_pid  \n",
       "49      151.236465         2          unit  NSW1221  NSW180  \n",
       "53      151.236464         1          unit  NSW1221  NSW180  \n",
       "54      151.236395         2          unit  NSW1221  NSW180  \n",
       "55      151.240064         3          unit  NSW1221  NSW180  \n",
       "57      151.233716         2          unit  NSW1221  NSW180  \n",
       "...            ...       ...           ...      ...     ...  \n",
       "320286  149.127317         2     townhouse   ACT928     ACT  \n",
       "320296  149.113035         3     townhouse   ACT932     ACT  \n",
       "320297  149.114021         3     townhouse   ACT932     ACT  \n",
       "320330  149.107229         3     townhouse   ACT934     ACT  \n",
       "320331  149.107229         3     townhouse   ACT934     ACT  \n",
       "\n",
       "[36235 rows x 11 columns]"
      ]
     },
     "execution_count": 125,
     "metadata": {},
     "output_type": "execute_result"
    }
   ],
   "source": [
    "\n",
    "#Extracting  a dateframe for Quarter 3( 01-07-2019 to 30-09-2019) \n",
    "\n",
    "\n",
    "bedroom_data_q3 = data_2019.loc[(data_2019['date_sold'] >= \"2019-07-01\") & (data_2019['date_sold'] <= \"2019-09-30\")]\n",
    "\n",
    "bedroom_data_q3\n",
    "#Creating series and variables to hold the total number of properties with respective number of bedrooms for Quarter-3\n",
    "#Which will be used for plotting the charts\n",
    "\n",
    "bedrooms_count3 = pd.DataFrame(bedroom_data_q3[\"bedrooms\"].value_counts())\n",
    "bedrooms_count3.sort_values(by=['bedrooms'] , ascending=False)\n",
    "bedrooms_labels3= bedrooms_count3['bedrooms'].index \n",
    "bedroom_values3 =bedrooms_count3['bedrooms']\n",
    "\n",
    "\n",
    "#Viewing Quarter -3 dataframe of 2019\n",
    "bedroom_data_q3"
   ]
  },
  {
   "cell_type": "code",
   "execution_count": 126,
   "metadata": {},
   "outputs": [
    {
     "data": {
      "text/html": [
       "<div>\n",
       "<style scoped>\n",
       "    .dataframe tbody tr th:only-of-type {\n",
       "        vertical-align: middle;\n",
       "    }\n",
       "\n",
       "    .dataframe tbody tr th {\n",
       "        vertical-align: top;\n",
       "    }\n",
       "\n",
       "    .dataframe thead th {\n",
       "        text-align: right;\n",
       "    }\n",
       "</style>\n",
       "<table border=\"1\" class=\"dataframe\">\n",
       "  <thead>\n",
       "    <tr style=\"text-align: right;\">\n",
       "      <th></th>\n",
       "      <th>date_sold</th>\n",
       "      <th>price</th>\n",
       "      <th>suburb</th>\n",
       "      <th>city_name</th>\n",
       "      <th>state</th>\n",
       "      <th>lat</th>\n",
       "      <th>lon</th>\n",
       "      <th>bedrooms</th>\n",
       "      <th>property_type</th>\n",
       "      <th>loc_pid</th>\n",
       "      <th>lga_pid</th>\n",
       "    </tr>\n",
       "  </thead>\n",
       "  <tbody>\n",
       "    <tr>\n",
       "      <th>60</th>\n",
       "      <td>2019-10-04</td>\n",
       "      <td>1200000.0</td>\n",
       "      <td>Darling Point</td>\n",
       "      <td>Sydney</td>\n",
       "      <td>NSW</td>\n",
       "      <td>-33.875912</td>\n",
       "      <td>151.236878</td>\n",
       "      <td>1</td>\n",
       "      <td>unit</td>\n",
       "      <td>NSW1221</td>\n",
       "      <td>NSW180</td>\n",
       "    </tr>\n",
       "    <tr>\n",
       "      <th>61</th>\n",
       "      <td>2019-10-08</td>\n",
       "      <td>1595000.0</td>\n",
       "      <td>Darling Point</td>\n",
       "      <td>Sydney</td>\n",
       "      <td>NSW</td>\n",
       "      <td>-33.868896</td>\n",
       "      <td>151.236464</td>\n",
       "      <td>2</td>\n",
       "      <td>unit</td>\n",
       "      <td>NSW1221</td>\n",
       "      <td>NSW180</td>\n",
       "    </tr>\n",
       "    <tr>\n",
       "      <th>63</th>\n",
       "      <td>2019-10-16</td>\n",
       "      <td>1141500.0</td>\n",
       "      <td>Darling Point</td>\n",
       "      <td>Sydney</td>\n",
       "      <td>NSW</td>\n",
       "      <td>-33.872466</td>\n",
       "      <td>151.237142</td>\n",
       "      <td>2</td>\n",
       "      <td>unit</td>\n",
       "      <td>NSW1221</td>\n",
       "      <td>NSW180</td>\n",
       "    </tr>\n",
       "    <tr>\n",
       "      <th>65</th>\n",
       "      <td>2019-10-30</td>\n",
       "      <td>1380000.0</td>\n",
       "      <td>Darling Point</td>\n",
       "      <td>Sydney</td>\n",
       "      <td>NSW</td>\n",
       "      <td>-33.871356</td>\n",
       "      <td>151.238211</td>\n",
       "      <td>2</td>\n",
       "      <td>unit</td>\n",
       "      <td>NSW1221</td>\n",
       "      <td>NSW180</td>\n",
       "    </tr>\n",
       "    <tr>\n",
       "      <th>66</th>\n",
       "      <td>2019-10-31</td>\n",
       "      <td>1855000.0</td>\n",
       "      <td>Darling Point</td>\n",
       "      <td>Sydney</td>\n",
       "      <td>NSW</td>\n",
       "      <td>-33.873906</td>\n",
       "      <td>151.235465</td>\n",
       "      <td>3</td>\n",
       "      <td>unit</td>\n",
       "      <td>NSW1221</td>\n",
       "      <td>NSW180</td>\n",
       "    </tr>\n",
       "    <tr>\n",
       "      <th>...</th>\n",
       "      <td>...</td>\n",
       "      <td>...</td>\n",
       "      <td>...</td>\n",
       "      <td>...</td>\n",
       "      <td>...</td>\n",
       "      <td>...</td>\n",
       "      <td>...</td>\n",
       "      <td>...</td>\n",
       "      <td>...</td>\n",
       "      <td>...</td>\n",
       "      <td>...</td>\n",
       "    </tr>\n",
       "    <tr>\n",
       "      <th>320300</th>\n",
       "      <td>2019-11-08</td>\n",
       "      <td>410000.0</td>\n",
       "      <td>Moncrieff</td>\n",
       "      <td>Canberra</td>\n",
       "      <td>ACT</td>\n",
       "      <td>-35.156963</td>\n",
       "      <td>149.109403</td>\n",
       "      <td>2</td>\n",
       "      <td>townhouse</td>\n",
       "      <td>ACT932</td>\n",
       "      <td>ACT</td>\n",
       "    </tr>\n",
       "    <tr>\n",
       "      <th>320301</th>\n",
       "      <td>2019-11-11</td>\n",
       "      <td>455100.0</td>\n",
       "      <td>Moncrieff</td>\n",
       "      <td>Canberra</td>\n",
       "      <td>ACT</td>\n",
       "      <td>-35.153878</td>\n",
       "      <td>149.118797</td>\n",
       "      <td>3</td>\n",
       "      <td>townhouse</td>\n",
       "      <td>ACT932</td>\n",
       "      <td>ACT</td>\n",
       "    </tr>\n",
       "    <tr>\n",
       "      <th>320302</th>\n",
       "      <td>2019-11-19</td>\n",
       "      <td>484000.0</td>\n",
       "      <td>Moncrieff</td>\n",
       "      <td>Canberra</td>\n",
       "      <td>ACT</td>\n",
       "      <td>-35.154065</td>\n",
       "      <td>149.113763</td>\n",
       "      <td>3</td>\n",
       "      <td>townhouse</td>\n",
       "      <td>ACT932</td>\n",
       "      <td>ACT</td>\n",
       "    </tr>\n",
       "    <tr>\n",
       "      <th>320303</th>\n",
       "      <td>2019-11-27</td>\n",
       "      <td>405000.0</td>\n",
       "      <td>Moncrieff</td>\n",
       "      <td>Canberra</td>\n",
       "      <td>ACT</td>\n",
       "      <td>-35.153879</td>\n",
       "      <td>149.114604</td>\n",
       "      <td>2</td>\n",
       "      <td>townhouse</td>\n",
       "      <td>ACT932</td>\n",
       "      <td>ACT</td>\n",
       "    </tr>\n",
       "    <tr>\n",
       "      <th>320304</th>\n",
       "      <td>2019-12-17</td>\n",
       "      <td>380000.0</td>\n",
       "      <td>Moncrieff</td>\n",
       "      <td>Canberra</td>\n",
       "      <td>ACT</td>\n",
       "      <td>-35.156078</td>\n",
       "      <td>149.115313</td>\n",
       "      <td>2</td>\n",
       "      <td>townhouse</td>\n",
       "      <td>ACT932</td>\n",
       "      <td>ACT</td>\n",
       "    </tr>\n",
       "  </tbody>\n",
       "</table>\n",
       "<p>47909 rows × 11 columns</p>\n",
       "</div>"
      ],
      "text/plain": [
       "        date_sold      price         suburb city_name state        lat  \\\n",
       "60     2019-10-04  1200000.0  Darling Point    Sydney   NSW -33.875912   \n",
       "61     2019-10-08  1595000.0  Darling Point    Sydney   NSW -33.868896   \n",
       "63     2019-10-16  1141500.0  Darling Point    Sydney   NSW -33.872466   \n",
       "65     2019-10-30  1380000.0  Darling Point    Sydney   NSW -33.871356   \n",
       "66     2019-10-31  1855000.0  Darling Point    Sydney   NSW -33.873906   \n",
       "...           ...        ...            ...       ...   ...        ...   \n",
       "320300 2019-11-08   410000.0      Moncrieff  Canberra   ACT -35.156963   \n",
       "320301 2019-11-11   455100.0      Moncrieff  Canberra   ACT -35.153878   \n",
       "320302 2019-11-19   484000.0      Moncrieff  Canberra   ACT -35.154065   \n",
       "320303 2019-11-27   405000.0      Moncrieff  Canberra   ACT -35.153879   \n",
       "320304 2019-12-17   380000.0      Moncrieff  Canberra   ACT -35.156078   \n",
       "\n",
       "               lon  bedrooms property_type  loc_pid lga_pid  \n",
       "60      151.236878         1          unit  NSW1221  NSW180  \n",
       "61      151.236464         2          unit  NSW1221  NSW180  \n",
       "63      151.237142         2          unit  NSW1221  NSW180  \n",
       "65      151.238211         2          unit  NSW1221  NSW180  \n",
       "66      151.235465         3          unit  NSW1221  NSW180  \n",
       "...            ...       ...           ...      ...     ...  \n",
       "320300  149.109403         2     townhouse   ACT932     ACT  \n",
       "320301  149.118797         3     townhouse   ACT932     ACT  \n",
       "320302  149.113763         3     townhouse   ACT932     ACT  \n",
       "320303  149.114604         2     townhouse   ACT932     ACT  \n",
       "320304  149.115313         2     townhouse   ACT932     ACT  \n",
       "\n",
       "[47909 rows x 11 columns]"
      ]
     },
     "execution_count": 126,
     "metadata": {},
     "output_type": "execute_result"
    }
   ],
   "source": [
    "\n",
    "#Creating a dateframe for Quarter 4( 01-10-2019 to 31-12-2019) \n",
    "\n",
    "\n",
    "bedroom_data_q4 = data_2019.loc[(data_2019['date_sold'] >= \" 2019-10-01\") & (data_2019['date_sold'] <= \"2019-12-31\")]\n",
    "\n",
    "\n",
    "#Creating series and variables to hold the total number of properties with respective number of bedrooms for Quarter-4\n",
    "#Which will be used for plotting the charts\n",
    "\n",
    "\n",
    "bedrooms_count4 = pd.DataFrame(bedroom_data_q4[\"bedrooms\"].value_counts())\n",
    "bedrooms_count4.sort_values(by=['bedrooms'] , ascending=False)\n",
    "bedrooms_labels4= bedrooms_count4['bedrooms'].index \n",
    "bedroom_values4 =bedrooms_count4['bedrooms'] \n",
    "\n",
    "#Viewing Quarter-4 dataframe of 2019\n",
    "\n",
    "bedroom_data_q4\n"
   ]
  },
  {
   "cell_type": "code",
   "execution_count": 127,
   "metadata": {},
   "outputs": [
    {
     "data": {
      "application/vnd.plotly.v1+json": {
       "config": {
        "plotlyServerURL": "https://plot.ly"
       },
       "data": [
        {
         "domain": {
          "x": [
           0,
           0.45
          ],
          "y": [
           0.625,
           1
          ]
         },
         "labels": [
          3,
          4,
          2,
          5,
          1,
          0
         ],
         "name": "Bedrooms",
         "type": "pie",
         "values": [
          11588,
          7924,
          5713,
          1802,
          1412,
          10
         ]
        },
        {
         "domain": {
          "x": [
           0.55,
           1
          ],
          "y": [
           0.625,
           1
          ]
         },
         "labels": [
          3,
          4,
          2,
          5,
          1,
          0
         ],
         "name": "Bedrooms",
         "type": "pie",
         "values": [
          12708,
          8808,
          6264,
          1888,
          1523,
          9
         ]
        },
        {
         "domain": {
          "x": [
           0,
           0.45
          ],
          "y": [
           0,
           0.375
          ]
         },
         "labels": [
          3,
          4,
          2,
          5,
          1,
          0
         ],
         "name": "Bedrooms",
         "type": "pie",
         "values": [
          14319,
          10314,
          7372,
          2358,
          1844,
          28
         ]
        },
        {
         "domain": {
          "x": [
           0.55,
           1
          ],
          "y": [
           0,
           0.375
          ]
         },
         "labels": [
          3,
          4,
          2,
          5,
          1,
          0
         ],
         "name": "Bedrooms",
         "type": "pie",
         "values": [
          18563,
          13640,
          9870,
          3484,
          2320,
          32
         ]
        }
       ],
       "layout": {
        "annotations": [
         {
          "font": {
           "size": 16
          },
          "showarrow": false,
          "text": "Quarter 1",
          "x": 0.225,
          "xanchor": "center",
          "xref": "paper",
          "y": 1,
          "yanchor": "bottom",
          "yref": "paper"
         },
         {
          "font": {
           "size": 16
          },
          "showarrow": false,
          "text": "Quarter 2",
          "x": 0.775,
          "xanchor": "center",
          "xref": "paper",
          "y": 1,
          "yanchor": "bottom",
          "yref": "paper"
         },
         {
          "font": {
           "size": 16
          },
          "showarrow": false,
          "text": "Quarter 3",
          "x": 0.225,
          "xanchor": "center",
          "xref": "paper",
          "y": 0.375,
          "yanchor": "bottom",
          "yref": "paper"
         },
         {
          "font": {
           "size": 16
          },
          "showarrow": false,
          "text": "Quarter 4",
          "x": 0.775,
          "xanchor": "center",
          "xref": "paper",
          "y": 0.375,
          "yanchor": "bottom",
          "yref": "paper"
         }
        ],
        "template": {
         "data": {
          "bar": [
           {
            "error_x": {
             "color": "#2a3f5f"
            },
            "error_y": {
             "color": "#2a3f5f"
            },
            "marker": {
             "line": {
              "color": "#E5ECF6",
              "width": 0.5
             }
            },
            "type": "bar"
           }
          ],
          "barpolar": [
           {
            "marker": {
             "line": {
              "color": "#E5ECF6",
              "width": 0.5
             }
            },
            "type": "barpolar"
           }
          ],
          "carpet": [
           {
            "aaxis": {
             "endlinecolor": "#2a3f5f",
             "gridcolor": "white",
             "linecolor": "white",
             "minorgridcolor": "white",
             "startlinecolor": "#2a3f5f"
            },
            "baxis": {
             "endlinecolor": "#2a3f5f",
             "gridcolor": "white",
             "linecolor": "white",
             "minorgridcolor": "white",
             "startlinecolor": "#2a3f5f"
            },
            "type": "carpet"
           }
          ],
          "choropleth": [
           {
            "colorbar": {
             "outlinewidth": 0,
             "ticks": ""
            },
            "type": "choropleth"
           }
          ],
          "contour": [
           {
            "colorbar": {
             "outlinewidth": 0,
             "ticks": ""
            },
            "colorscale": [
             [
              0,
              "#0d0887"
             ],
             [
              0.1111111111111111,
              "#46039f"
             ],
             [
              0.2222222222222222,
              "#7201a8"
             ],
             [
              0.3333333333333333,
              "#9c179e"
             ],
             [
              0.4444444444444444,
              "#bd3786"
             ],
             [
              0.5555555555555556,
              "#d8576b"
             ],
             [
              0.6666666666666666,
              "#ed7953"
             ],
             [
              0.7777777777777778,
              "#fb9f3a"
             ],
             [
              0.8888888888888888,
              "#fdca26"
             ],
             [
              1,
              "#f0f921"
             ]
            ],
            "type": "contour"
           }
          ],
          "contourcarpet": [
           {
            "colorbar": {
             "outlinewidth": 0,
             "ticks": ""
            },
            "type": "contourcarpet"
           }
          ],
          "heatmap": [
           {
            "colorbar": {
             "outlinewidth": 0,
             "ticks": ""
            },
            "colorscale": [
             [
              0,
              "#0d0887"
             ],
             [
              0.1111111111111111,
              "#46039f"
             ],
             [
              0.2222222222222222,
              "#7201a8"
             ],
             [
              0.3333333333333333,
              "#9c179e"
             ],
             [
              0.4444444444444444,
              "#bd3786"
             ],
             [
              0.5555555555555556,
              "#d8576b"
             ],
             [
              0.6666666666666666,
              "#ed7953"
             ],
             [
              0.7777777777777778,
              "#fb9f3a"
             ],
             [
              0.8888888888888888,
              "#fdca26"
             ],
             [
              1,
              "#f0f921"
             ]
            ],
            "type": "heatmap"
           }
          ],
          "heatmapgl": [
           {
            "colorbar": {
             "outlinewidth": 0,
             "ticks": ""
            },
            "colorscale": [
             [
              0,
              "#0d0887"
             ],
             [
              0.1111111111111111,
              "#46039f"
             ],
             [
              0.2222222222222222,
              "#7201a8"
             ],
             [
              0.3333333333333333,
              "#9c179e"
             ],
             [
              0.4444444444444444,
              "#bd3786"
             ],
             [
              0.5555555555555556,
              "#d8576b"
             ],
             [
              0.6666666666666666,
              "#ed7953"
             ],
             [
              0.7777777777777778,
              "#fb9f3a"
             ],
             [
              0.8888888888888888,
              "#fdca26"
             ],
             [
              1,
              "#f0f921"
             ]
            ],
            "type": "heatmapgl"
           }
          ],
          "histogram": [
           {
            "marker": {
             "colorbar": {
              "outlinewidth": 0,
              "ticks": ""
             }
            },
            "type": "histogram"
           }
          ],
          "histogram2d": [
           {
            "colorbar": {
             "outlinewidth": 0,
             "ticks": ""
            },
            "colorscale": [
             [
              0,
              "#0d0887"
             ],
             [
              0.1111111111111111,
              "#46039f"
             ],
             [
              0.2222222222222222,
              "#7201a8"
             ],
             [
              0.3333333333333333,
              "#9c179e"
             ],
             [
              0.4444444444444444,
              "#bd3786"
             ],
             [
              0.5555555555555556,
              "#d8576b"
             ],
             [
              0.6666666666666666,
              "#ed7953"
             ],
             [
              0.7777777777777778,
              "#fb9f3a"
             ],
             [
              0.8888888888888888,
              "#fdca26"
             ],
             [
              1,
              "#f0f921"
             ]
            ],
            "type": "histogram2d"
           }
          ],
          "histogram2dcontour": [
           {
            "colorbar": {
             "outlinewidth": 0,
             "ticks": ""
            },
            "colorscale": [
             [
              0,
              "#0d0887"
             ],
             [
              0.1111111111111111,
              "#46039f"
             ],
             [
              0.2222222222222222,
              "#7201a8"
             ],
             [
              0.3333333333333333,
              "#9c179e"
             ],
             [
              0.4444444444444444,
              "#bd3786"
             ],
             [
              0.5555555555555556,
              "#d8576b"
             ],
             [
              0.6666666666666666,
              "#ed7953"
             ],
             [
              0.7777777777777778,
              "#fb9f3a"
             ],
             [
              0.8888888888888888,
              "#fdca26"
             ],
             [
              1,
              "#f0f921"
             ]
            ],
            "type": "histogram2dcontour"
           }
          ],
          "mesh3d": [
           {
            "colorbar": {
             "outlinewidth": 0,
             "ticks": ""
            },
            "type": "mesh3d"
           }
          ],
          "parcoords": [
           {
            "line": {
             "colorbar": {
              "outlinewidth": 0,
              "ticks": ""
             }
            },
            "type": "parcoords"
           }
          ],
          "scatter": [
           {
            "marker": {
             "colorbar": {
              "outlinewidth": 0,
              "ticks": ""
             }
            },
            "type": "scatter"
           }
          ],
          "scatter3d": [
           {
            "line": {
             "colorbar": {
              "outlinewidth": 0,
              "ticks": ""
             }
            },
            "marker": {
             "colorbar": {
              "outlinewidth": 0,
              "ticks": ""
             }
            },
            "type": "scatter3d"
           }
          ],
          "scattercarpet": [
           {
            "marker": {
             "colorbar": {
              "outlinewidth": 0,
              "ticks": ""
             }
            },
            "type": "scattercarpet"
           }
          ],
          "scattergeo": [
           {
            "marker": {
             "colorbar": {
              "outlinewidth": 0,
              "ticks": ""
             }
            },
            "type": "scattergeo"
           }
          ],
          "scattergl": [
           {
            "marker": {
             "colorbar": {
              "outlinewidth": 0,
              "ticks": ""
             }
            },
            "type": "scattergl"
           }
          ],
          "scattermapbox": [
           {
            "marker": {
             "colorbar": {
              "outlinewidth": 0,
              "ticks": ""
             }
            },
            "type": "scattermapbox"
           }
          ],
          "scatterpolar": [
           {
            "marker": {
             "colorbar": {
              "outlinewidth": 0,
              "ticks": ""
             }
            },
            "type": "scatterpolar"
           }
          ],
          "scatterpolargl": [
           {
            "marker": {
             "colorbar": {
              "outlinewidth": 0,
              "ticks": ""
             }
            },
            "type": "scatterpolargl"
           }
          ],
          "scatterternary": [
           {
            "marker": {
             "colorbar": {
              "outlinewidth": 0,
              "ticks": ""
             }
            },
            "type": "scatterternary"
           }
          ],
          "surface": [
           {
            "colorbar": {
             "outlinewidth": 0,
             "ticks": ""
            },
            "colorscale": [
             [
              0,
              "#0d0887"
             ],
             [
              0.1111111111111111,
              "#46039f"
             ],
             [
              0.2222222222222222,
              "#7201a8"
             ],
             [
              0.3333333333333333,
              "#9c179e"
             ],
             [
              0.4444444444444444,
              "#bd3786"
             ],
             [
              0.5555555555555556,
              "#d8576b"
             ],
             [
              0.6666666666666666,
              "#ed7953"
             ],
             [
              0.7777777777777778,
              "#fb9f3a"
             ],
             [
              0.8888888888888888,
              "#fdca26"
             ],
             [
              1,
              "#f0f921"
             ]
            ],
            "type": "surface"
           }
          ],
          "table": [
           {
            "cells": {
             "fill": {
              "color": "#EBF0F8"
             },
             "line": {
              "color": "white"
             }
            },
            "header": {
             "fill": {
              "color": "#C8D4E3"
             },
             "line": {
              "color": "white"
             }
            },
            "type": "table"
           }
          ]
         },
         "layout": {
          "annotationdefaults": {
           "arrowcolor": "#2a3f5f",
           "arrowhead": 0,
           "arrowwidth": 1
          },
          "colorscale": {
           "diverging": [
            [
             0,
             "#8e0152"
            ],
            [
             0.1,
             "#c51b7d"
            ],
            [
             0.2,
             "#de77ae"
            ],
            [
             0.3,
             "#f1b6da"
            ],
            [
             0.4,
             "#fde0ef"
            ],
            [
             0.5,
             "#f7f7f7"
            ],
            [
             0.6,
             "#e6f5d0"
            ],
            [
             0.7,
             "#b8e186"
            ],
            [
             0.8,
             "#7fbc41"
            ],
            [
             0.9,
             "#4d9221"
            ],
            [
             1,
             "#276419"
            ]
           ],
           "sequential": [
            [
             0,
             "#0d0887"
            ],
            [
             0.1111111111111111,
             "#46039f"
            ],
            [
             0.2222222222222222,
             "#7201a8"
            ],
            [
             0.3333333333333333,
             "#9c179e"
            ],
            [
             0.4444444444444444,
             "#bd3786"
            ],
            [
             0.5555555555555556,
             "#d8576b"
            ],
            [
             0.6666666666666666,
             "#ed7953"
            ],
            [
             0.7777777777777778,
             "#fb9f3a"
            ],
            [
             0.8888888888888888,
             "#fdca26"
            ],
            [
             1,
             "#f0f921"
            ]
           ],
           "sequentialminus": [
            [
             0,
             "#0d0887"
            ],
            [
             0.1111111111111111,
             "#46039f"
            ],
            [
             0.2222222222222222,
             "#7201a8"
            ],
            [
             0.3333333333333333,
             "#9c179e"
            ],
            [
             0.4444444444444444,
             "#bd3786"
            ],
            [
             0.5555555555555556,
             "#d8576b"
            ],
            [
             0.6666666666666666,
             "#ed7953"
            ],
            [
             0.7777777777777778,
             "#fb9f3a"
            ],
            [
             0.8888888888888888,
             "#fdca26"
            ],
            [
             1,
             "#f0f921"
            ]
           ]
          },
          "colorway": [
           "#636efa",
           "#EF553B",
           "#00cc96",
           "#ab63fa",
           "#FFA15A",
           "#19d3f3",
           "#FF6692",
           "#B6E880",
           "#FF97FF",
           "#FECB52"
          ],
          "font": {
           "color": "#2a3f5f"
          },
          "geo": {
           "bgcolor": "white",
           "lakecolor": "white",
           "landcolor": "#E5ECF6",
           "showlakes": true,
           "showland": true,
           "subunitcolor": "white"
          },
          "hoverlabel": {
           "align": "left"
          },
          "hovermode": "closest",
          "mapbox": {
           "style": "light"
          },
          "paper_bgcolor": "white",
          "plot_bgcolor": "#E5ECF6",
          "polar": {
           "angularaxis": {
            "gridcolor": "white",
            "linecolor": "white",
            "ticks": ""
           },
           "bgcolor": "#E5ECF6",
           "radialaxis": {
            "gridcolor": "white",
            "linecolor": "white",
            "ticks": ""
           }
          },
          "scene": {
           "xaxis": {
            "backgroundcolor": "#E5ECF6",
            "gridcolor": "white",
            "gridwidth": 2,
            "linecolor": "white",
            "showbackground": true,
            "ticks": "",
            "zerolinecolor": "white"
           },
           "yaxis": {
            "backgroundcolor": "#E5ECF6",
            "gridcolor": "white",
            "gridwidth": 2,
            "linecolor": "white",
            "showbackground": true,
            "ticks": "",
            "zerolinecolor": "white"
           },
           "zaxis": {
            "backgroundcolor": "#E5ECF6",
            "gridcolor": "white",
            "gridwidth": 2,
            "linecolor": "white",
            "showbackground": true,
            "ticks": "",
            "zerolinecolor": "white"
           }
          },
          "shapedefaults": {
           "line": {
            "color": "#2a3f5f"
           }
          },
          "ternary": {
           "aaxis": {
            "gridcolor": "white",
            "linecolor": "white",
            "ticks": ""
           },
           "baxis": {
            "gridcolor": "white",
            "linecolor": "white",
            "ticks": ""
           },
           "bgcolor": "#E5ECF6",
           "caxis": {
            "gridcolor": "white",
            "linecolor": "white",
            "ticks": ""
           }
          },
          "title": {
           "x": 0.05
          },
          "xaxis": {
           "automargin": true,
           "gridcolor": "white",
           "linecolor": "white",
           "ticks": "",
           "zerolinecolor": "white",
           "zerolinewidth": 2
          },
          "yaxis": {
           "automargin": true,
           "gridcolor": "white",
           "linecolor": "white",
           "ticks": "",
           "zerolinecolor": "white",
           "zerolinewidth": 2
          }
         }
        },
        "title": {
         "text": "Properties sold for each quarter based on the number of bedrooms for the Year 2019 "
        }
       }
      },
      "text/html": [
       "<div>\n",
       "        \n",
       "        \n",
       "            <div id=\"bfa60f90-b723-44c6-92ba-f52c8b016e4f\" class=\"plotly-graph-div\" style=\"height:525px; width:100%;\"></div>\n",
       "            <script type=\"text/javascript\">\n",
       "                require([\"plotly\"], function(Plotly) {\n",
       "                    window.PLOTLYENV=window.PLOTLYENV || {};\n",
       "                    \n",
       "                if (document.getElementById(\"bfa60f90-b723-44c6-92ba-f52c8b016e4f\")) {\n",
       "                    Plotly.newPlot(\n",
       "                        'bfa60f90-b723-44c6-92ba-f52c8b016e4f',\n",
       "                        [{\"domain\": {\"x\": [0.0, 0.45], \"y\": [0.625, 1.0]}, \"labels\": [3, 4, 2, 5, 1, 0], \"name\": \"Bedrooms\", \"type\": \"pie\", \"values\": [11588, 7924, 5713, 1802, 1412, 10]}, {\"domain\": {\"x\": [0.55, 1.0], \"y\": [0.625, 1.0]}, \"labels\": [3, 4, 2, 5, 1, 0], \"name\": \"Bedrooms\", \"type\": \"pie\", \"values\": [12708, 8808, 6264, 1888, 1523, 9]}, {\"domain\": {\"x\": [0.0, 0.45], \"y\": [0.0, 0.375]}, \"labels\": [3, 4, 2, 5, 1, 0], \"name\": \"Bedrooms\", \"type\": \"pie\", \"values\": [14319, 10314, 7372, 2358, 1844, 28]}, {\"domain\": {\"x\": [0.55, 1.0], \"y\": [0.0, 0.375]}, \"labels\": [3, 4, 2, 5, 1, 0], \"name\": \"Bedrooms\", \"type\": \"pie\", \"values\": [18563, 13640, 9870, 3484, 2320, 32]}],\n",
       "                        {\"annotations\": [{\"font\": {\"size\": 16}, \"showarrow\": false, \"text\": \"Quarter 1\", \"x\": 0.225, \"xanchor\": \"center\", \"xref\": \"paper\", \"y\": 1.0, \"yanchor\": \"bottom\", \"yref\": \"paper\"}, {\"font\": {\"size\": 16}, \"showarrow\": false, \"text\": \"Quarter 2\", \"x\": 0.775, \"xanchor\": \"center\", \"xref\": \"paper\", \"y\": 1.0, \"yanchor\": \"bottom\", \"yref\": \"paper\"}, {\"font\": {\"size\": 16}, \"showarrow\": false, \"text\": \"Quarter 3\", \"x\": 0.225, \"xanchor\": \"center\", \"xref\": \"paper\", \"y\": 0.375, \"yanchor\": \"bottom\", \"yref\": \"paper\"}, {\"font\": {\"size\": 16}, \"showarrow\": false, \"text\": \"Quarter 4\", \"x\": 0.775, \"xanchor\": \"center\", \"xref\": \"paper\", \"y\": 0.375, \"yanchor\": \"bottom\", \"yref\": \"paper\"}], \"template\": {\"data\": {\"bar\": [{\"error_x\": {\"color\": \"#2a3f5f\"}, \"error_y\": {\"color\": \"#2a3f5f\"}, \"marker\": {\"line\": {\"color\": \"#E5ECF6\", \"width\": 0.5}}, \"type\": \"bar\"}], \"barpolar\": [{\"marker\": {\"line\": {\"color\": \"#E5ECF6\", \"width\": 0.5}}, \"type\": \"barpolar\"}], \"carpet\": [{\"aaxis\": {\"endlinecolor\": \"#2a3f5f\", \"gridcolor\": \"white\", \"linecolor\": \"white\", \"minorgridcolor\": \"white\", \"startlinecolor\": \"#2a3f5f\"}, \"baxis\": {\"endlinecolor\": \"#2a3f5f\", \"gridcolor\": \"white\", \"linecolor\": \"white\", \"minorgridcolor\": \"white\", \"startlinecolor\": \"#2a3f5f\"}, \"type\": \"carpet\"}], \"choropleth\": [{\"colorbar\": {\"outlinewidth\": 0, \"ticks\": \"\"}, \"type\": \"choropleth\"}], \"contour\": [{\"colorbar\": {\"outlinewidth\": 0, \"ticks\": \"\"}, \"colorscale\": [[0.0, \"#0d0887\"], [0.1111111111111111, \"#46039f\"], [0.2222222222222222, \"#7201a8\"], [0.3333333333333333, \"#9c179e\"], [0.4444444444444444, \"#bd3786\"], [0.5555555555555556, \"#d8576b\"], [0.6666666666666666, \"#ed7953\"], [0.7777777777777778, \"#fb9f3a\"], [0.8888888888888888, \"#fdca26\"], [1.0, \"#f0f921\"]], \"type\": \"contour\"}], \"contourcarpet\": [{\"colorbar\": {\"outlinewidth\": 0, \"ticks\": \"\"}, \"type\": \"contourcarpet\"}], \"heatmap\": [{\"colorbar\": {\"outlinewidth\": 0, \"ticks\": \"\"}, \"colorscale\": [[0.0, \"#0d0887\"], [0.1111111111111111, \"#46039f\"], [0.2222222222222222, \"#7201a8\"], [0.3333333333333333, \"#9c179e\"], [0.4444444444444444, \"#bd3786\"], [0.5555555555555556, \"#d8576b\"], [0.6666666666666666, \"#ed7953\"], [0.7777777777777778, \"#fb9f3a\"], [0.8888888888888888, \"#fdca26\"], [1.0, \"#f0f921\"]], \"type\": \"heatmap\"}], \"heatmapgl\": [{\"colorbar\": {\"outlinewidth\": 0, \"ticks\": \"\"}, \"colorscale\": [[0.0, \"#0d0887\"], [0.1111111111111111, \"#46039f\"], [0.2222222222222222, \"#7201a8\"], [0.3333333333333333, \"#9c179e\"], [0.4444444444444444, \"#bd3786\"], [0.5555555555555556, \"#d8576b\"], [0.6666666666666666, \"#ed7953\"], [0.7777777777777778, \"#fb9f3a\"], [0.8888888888888888, \"#fdca26\"], [1.0, \"#f0f921\"]], \"type\": \"heatmapgl\"}], \"histogram\": [{\"marker\": {\"colorbar\": {\"outlinewidth\": 0, \"ticks\": \"\"}}, \"type\": \"histogram\"}], \"histogram2d\": [{\"colorbar\": {\"outlinewidth\": 0, \"ticks\": \"\"}, \"colorscale\": [[0.0, \"#0d0887\"], [0.1111111111111111, \"#46039f\"], [0.2222222222222222, \"#7201a8\"], [0.3333333333333333, \"#9c179e\"], [0.4444444444444444, \"#bd3786\"], [0.5555555555555556, \"#d8576b\"], [0.6666666666666666, \"#ed7953\"], [0.7777777777777778, \"#fb9f3a\"], [0.8888888888888888, \"#fdca26\"], [1.0, \"#f0f921\"]], \"type\": \"histogram2d\"}], \"histogram2dcontour\": [{\"colorbar\": {\"outlinewidth\": 0, \"ticks\": \"\"}, \"colorscale\": [[0.0, \"#0d0887\"], [0.1111111111111111, \"#46039f\"], [0.2222222222222222, \"#7201a8\"], [0.3333333333333333, \"#9c179e\"], [0.4444444444444444, \"#bd3786\"], [0.5555555555555556, \"#d8576b\"], [0.6666666666666666, \"#ed7953\"], [0.7777777777777778, \"#fb9f3a\"], [0.8888888888888888, \"#fdca26\"], [1.0, \"#f0f921\"]], \"type\": \"histogram2dcontour\"}], \"mesh3d\": [{\"colorbar\": {\"outlinewidth\": 0, \"ticks\": \"\"}, \"type\": \"mesh3d\"}], \"parcoords\": [{\"line\": {\"colorbar\": {\"outlinewidth\": 0, \"ticks\": \"\"}}, \"type\": \"parcoords\"}], \"scatter\": [{\"marker\": {\"colorbar\": {\"outlinewidth\": 0, \"ticks\": \"\"}}, \"type\": \"scatter\"}], \"scatter3d\": [{\"line\": {\"colorbar\": {\"outlinewidth\": 0, \"ticks\": \"\"}}, \"marker\": {\"colorbar\": {\"outlinewidth\": 0, \"ticks\": \"\"}}, \"type\": \"scatter3d\"}], \"scattercarpet\": [{\"marker\": {\"colorbar\": {\"outlinewidth\": 0, \"ticks\": \"\"}}, \"type\": \"scattercarpet\"}], \"scattergeo\": [{\"marker\": {\"colorbar\": {\"outlinewidth\": 0, \"ticks\": \"\"}}, \"type\": \"scattergeo\"}], \"scattergl\": [{\"marker\": {\"colorbar\": {\"outlinewidth\": 0, \"ticks\": \"\"}}, \"type\": \"scattergl\"}], \"scattermapbox\": [{\"marker\": {\"colorbar\": {\"outlinewidth\": 0, \"ticks\": \"\"}}, \"type\": \"scattermapbox\"}], \"scatterpolar\": [{\"marker\": {\"colorbar\": {\"outlinewidth\": 0, \"ticks\": \"\"}}, \"type\": \"scatterpolar\"}], \"scatterpolargl\": [{\"marker\": {\"colorbar\": {\"outlinewidth\": 0, \"ticks\": \"\"}}, \"type\": \"scatterpolargl\"}], \"scatterternary\": [{\"marker\": {\"colorbar\": {\"outlinewidth\": 0, \"ticks\": \"\"}}, \"type\": \"scatterternary\"}], \"surface\": [{\"colorbar\": {\"outlinewidth\": 0, \"ticks\": \"\"}, \"colorscale\": [[0.0, \"#0d0887\"], [0.1111111111111111, \"#46039f\"], [0.2222222222222222, \"#7201a8\"], [0.3333333333333333, \"#9c179e\"], [0.4444444444444444, \"#bd3786\"], [0.5555555555555556, \"#d8576b\"], [0.6666666666666666, \"#ed7953\"], [0.7777777777777778, \"#fb9f3a\"], [0.8888888888888888, \"#fdca26\"], [1.0, \"#f0f921\"]], \"type\": \"surface\"}], \"table\": [{\"cells\": {\"fill\": {\"color\": \"#EBF0F8\"}, \"line\": {\"color\": \"white\"}}, \"header\": {\"fill\": {\"color\": \"#C8D4E3\"}, \"line\": {\"color\": \"white\"}}, \"type\": \"table\"}]}, \"layout\": {\"annotationdefaults\": {\"arrowcolor\": \"#2a3f5f\", \"arrowhead\": 0, \"arrowwidth\": 1}, \"colorscale\": {\"diverging\": [[0, \"#8e0152\"], [0.1, \"#c51b7d\"], [0.2, \"#de77ae\"], [0.3, \"#f1b6da\"], [0.4, \"#fde0ef\"], [0.5, \"#f7f7f7\"], [0.6, \"#e6f5d0\"], [0.7, \"#b8e186\"], [0.8, \"#7fbc41\"], [0.9, \"#4d9221\"], [1, \"#276419\"]], \"sequential\": [[0.0, \"#0d0887\"], [0.1111111111111111, \"#46039f\"], [0.2222222222222222, \"#7201a8\"], [0.3333333333333333, \"#9c179e\"], [0.4444444444444444, \"#bd3786\"], [0.5555555555555556, \"#d8576b\"], [0.6666666666666666, \"#ed7953\"], [0.7777777777777778, \"#fb9f3a\"], [0.8888888888888888, \"#fdca26\"], [1.0, \"#f0f921\"]], \"sequentialminus\": [[0.0, \"#0d0887\"], [0.1111111111111111, \"#46039f\"], [0.2222222222222222, \"#7201a8\"], [0.3333333333333333, \"#9c179e\"], [0.4444444444444444, \"#bd3786\"], [0.5555555555555556, \"#d8576b\"], [0.6666666666666666, \"#ed7953\"], [0.7777777777777778, \"#fb9f3a\"], [0.8888888888888888, \"#fdca26\"], [1.0, \"#f0f921\"]]}, \"colorway\": [\"#636efa\", \"#EF553B\", \"#00cc96\", \"#ab63fa\", \"#FFA15A\", \"#19d3f3\", \"#FF6692\", \"#B6E880\", \"#FF97FF\", \"#FECB52\"], \"font\": {\"color\": \"#2a3f5f\"}, \"geo\": {\"bgcolor\": \"white\", \"lakecolor\": \"white\", \"landcolor\": \"#E5ECF6\", \"showlakes\": true, \"showland\": true, \"subunitcolor\": \"white\"}, \"hoverlabel\": {\"align\": \"left\"}, \"hovermode\": \"closest\", \"mapbox\": {\"style\": \"light\"}, \"paper_bgcolor\": \"white\", \"plot_bgcolor\": \"#E5ECF6\", \"polar\": {\"angularaxis\": {\"gridcolor\": \"white\", \"linecolor\": \"white\", \"ticks\": \"\"}, \"bgcolor\": \"#E5ECF6\", \"radialaxis\": {\"gridcolor\": \"white\", \"linecolor\": \"white\", \"ticks\": \"\"}}, \"scene\": {\"xaxis\": {\"backgroundcolor\": \"#E5ECF6\", \"gridcolor\": \"white\", \"gridwidth\": 2, \"linecolor\": \"white\", \"showbackground\": true, \"ticks\": \"\", \"zerolinecolor\": \"white\"}, \"yaxis\": {\"backgroundcolor\": \"#E5ECF6\", \"gridcolor\": \"white\", \"gridwidth\": 2, \"linecolor\": \"white\", \"showbackground\": true, \"ticks\": \"\", \"zerolinecolor\": \"white\"}, \"zaxis\": {\"backgroundcolor\": \"#E5ECF6\", \"gridcolor\": \"white\", \"gridwidth\": 2, \"linecolor\": \"white\", \"showbackground\": true, \"ticks\": \"\", \"zerolinecolor\": \"white\"}}, \"shapedefaults\": {\"line\": {\"color\": \"#2a3f5f\"}}, \"ternary\": {\"aaxis\": {\"gridcolor\": \"white\", \"linecolor\": \"white\", \"ticks\": \"\"}, \"baxis\": {\"gridcolor\": \"white\", \"linecolor\": \"white\", \"ticks\": \"\"}, \"bgcolor\": \"#E5ECF6\", \"caxis\": {\"gridcolor\": \"white\", \"linecolor\": \"white\", \"ticks\": \"\"}}, \"title\": {\"x\": 0.05}, \"xaxis\": {\"automargin\": true, \"gridcolor\": \"white\", \"linecolor\": \"white\", \"ticks\": \"\", \"zerolinecolor\": \"white\", \"zerolinewidth\": 2}, \"yaxis\": {\"automargin\": true, \"gridcolor\": \"white\", \"linecolor\": \"white\", \"ticks\": \"\", \"zerolinecolor\": \"white\", \"zerolinewidth\": 2}}}, \"title\": {\"text\": \"Properties sold for each quarter based on the number of bedrooms for the Year 2019 \"}},\n",
       "                        {\"responsive\": true}\n",
       "                    ).then(function(){\n",
       "                            \n",
       "var gd = document.getElementById('bfa60f90-b723-44c6-92ba-f52c8b016e4f');\n",
       "var x = new MutationObserver(function (mutations, observer) {{\n",
       "        var display = window.getComputedStyle(gd).display;\n",
       "        if (!display || display === 'none') {{\n",
       "            console.log([gd, 'removed!']);\n",
       "            Plotly.purge(gd);\n",
       "            observer.disconnect();\n",
       "        }}\n",
       "}});\n",
       "\n",
       "// Listen for the removal of the full notebook cells\n",
       "var notebookContainer = gd.closest('#notebook-container');\n",
       "if (notebookContainer) {{\n",
       "    x.observe(notebookContainer, {childList: true});\n",
       "}}\n",
       "\n",
       "// Listen for the clearing of the current output cell\n",
       "var outputEl = gd.closest('.output');\n",
       "if (outputEl) {{\n",
       "    x.observe(outputEl, {childList: true});\n",
       "}}\n",
       "\n",
       "                        })\n",
       "                };\n",
       "                });\n",
       "            </script>\n",
       "        </div>"
      ]
     },
     "metadata": {},
     "output_type": "display_data"
    }
   ],
   "source": [
    "#Using the make_subplots module of Ploty, plotting  interactive Pie Charts of a grid size 2x2 \n",
    "fig = make_subplots(rows=2,cols=2,\n",
    "                    specs=[[{'type':'domain'}, {'type':'domain'}], [{'type':'domain'}, {'type':'domain'}]],\n",
    "                   subplot_titles=(\"Quarter 1\", \"Quarter 2\", \"Quarter 3\", \"Quarter 4\" ))\n",
    "\n",
    "\n",
    "#Assigning the respective trace(pie) with the values and labels from the series and index list created above for each quarter\n",
    "\n",
    "\n",
    "fig.add_trace(go.Pie(labels= bedrooms_labels1, values=bedroom_values1, name=\"Bedrooms\"),\n",
    "              1, 1)\n",
    "fig.add_trace(go.Pie(labels=bedrooms_labels2, values=bedroom_values2, name=\"Bedrooms\"),\n",
    "              1, 2)\n",
    "                    \n",
    "fig.add_trace(go.Pie(labels= bedrooms_labels3, values=bedroom_values3, name=\"Bedrooms\"),\n",
    "              2, 1)\n",
    "                    \n",
    "fig.add_trace(go.Pie(labels= bedrooms_labels4, values=bedroom_values4, name=\"Bedrooms\"),\n",
    "              2, 2)\n",
    "\n",
    "#Updating the layout by adding a title\n",
    "\n",
    "fig.update_layout(title_text=\"Properties sold for each quarter based on the number of bedrooms for the Year 2019 \")\n",
    "    \n",
    "                 \n",
    "\n"
   ]
  },
  {
   "cell_type": "markdown",
   "metadata": {},
   "source": [
    "# Extracting the data frames for each quarter of the year 2019 to do analysis on number of properties sold for each quarter(Snehitha's Part)"
   ]
  },
  {
   "cell_type": "code",
   "execution_count": 128,
   "metadata": {},
   "outputs": [
    {
     "data": {
      "application/vnd.plotly.v1+json": {
       "config": {
        "plotlyServerURL": "https://plot.ly"
       },
       "data": [
        {
         "type": "bar",
         "x": [
          "Quarter 1",
          "Quarter 2",
          "Quarter 3",
          " Quarter 4"
         ],
         "xaxis": "x",
         "y": [
          28449,
          31200,
          36235,
          47909
         ],
         "yaxis": "y"
        }
       ],
       "layout": {
        "template": {
         "data": {
          "bar": [
           {
            "error_x": {
             "color": "#2a3f5f"
            },
            "error_y": {
             "color": "#2a3f5f"
            },
            "marker": {
             "line": {
              "color": "#E5ECF6",
              "width": 0.5
             }
            },
            "type": "bar"
           }
          ],
          "barpolar": [
           {
            "marker": {
             "line": {
              "color": "#E5ECF6",
              "width": 0.5
             }
            },
            "type": "barpolar"
           }
          ],
          "carpet": [
           {
            "aaxis": {
             "endlinecolor": "#2a3f5f",
             "gridcolor": "white",
             "linecolor": "white",
             "minorgridcolor": "white",
             "startlinecolor": "#2a3f5f"
            },
            "baxis": {
             "endlinecolor": "#2a3f5f",
             "gridcolor": "white",
             "linecolor": "white",
             "minorgridcolor": "white",
             "startlinecolor": "#2a3f5f"
            },
            "type": "carpet"
           }
          ],
          "choropleth": [
           {
            "colorbar": {
             "outlinewidth": 0,
             "ticks": ""
            },
            "type": "choropleth"
           }
          ],
          "contour": [
           {
            "colorbar": {
             "outlinewidth": 0,
             "ticks": ""
            },
            "colorscale": [
             [
              0,
              "#0d0887"
             ],
             [
              0.1111111111111111,
              "#46039f"
             ],
             [
              0.2222222222222222,
              "#7201a8"
             ],
             [
              0.3333333333333333,
              "#9c179e"
             ],
             [
              0.4444444444444444,
              "#bd3786"
             ],
             [
              0.5555555555555556,
              "#d8576b"
             ],
             [
              0.6666666666666666,
              "#ed7953"
             ],
             [
              0.7777777777777778,
              "#fb9f3a"
             ],
             [
              0.8888888888888888,
              "#fdca26"
             ],
             [
              1,
              "#f0f921"
             ]
            ],
            "type": "contour"
           }
          ],
          "contourcarpet": [
           {
            "colorbar": {
             "outlinewidth": 0,
             "ticks": ""
            },
            "type": "contourcarpet"
           }
          ],
          "heatmap": [
           {
            "colorbar": {
             "outlinewidth": 0,
             "ticks": ""
            },
            "colorscale": [
             [
              0,
              "#0d0887"
             ],
             [
              0.1111111111111111,
              "#46039f"
             ],
             [
              0.2222222222222222,
              "#7201a8"
             ],
             [
              0.3333333333333333,
              "#9c179e"
             ],
             [
              0.4444444444444444,
              "#bd3786"
             ],
             [
              0.5555555555555556,
              "#d8576b"
             ],
             [
              0.6666666666666666,
              "#ed7953"
             ],
             [
              0.7777777777777778,
              "#fb9f3a"
             ],
             [
              0.8888888888888888,
              "#fdca26"
             ],
             [
              1,
              "#f0f921"
             ]
            ],
            "type": "heatmap"
           }
          ],
          "heatmapgl": [
           {
            "colorbar": {
             "outlinewidth": 0,
             "ticks": ""
            },
            "colorscale": [
             [
              0,
              "#0d0887"
             ],
             [
              0.1111111111111111,
              "#46039f"
             ],
             [
              0.2222222222222222,
              "#7201a8"
             ],
             [
              0.3333333333333333,
              "#9c179e"
             ],
             [
              0.4444444444444444,
              "#bd3786"
             ],
             [
              0.5555555555555556,
              "#d8576b"
             ],
             [
              0.6666666666666666,
              "#ed7953"
             ],
             [
              0.7777777777777778,
              "#fb9f3a"
             ],
             [
              0.8888888888888888,
              "#fdca26"
             ],
             [
              1,
              "#f0f921"
             ]
            ],
            "type": "heatmapgl"
           }
          ],
          "histogram": [
           {
            "marker": {
             "colorbar": {
              "outlinewidth": 0,
              "ticks": ""
             }
            },
            "type": "histogram"
           }
          ],
          "histogram2d": [
           {
            "colorbar": {
             "outlinewidth": 0,
             "ticks": ""
            },
            "colorscale": [
             [
              0,
              "#0d0887"
             ],
             [
              0.1111111111111111,
              "#46039f"
             ],
             [
              0.2222222222222222,
              "#7201a8"
             ],
             [
              0.3333333333333333,
              "#9c179e"
             ],
             [
              0.4444444444444444,
              "#bd3786"
             ],
             [
              0.5555555555555556,
              "#d8576b"
             ],
             [
              0.6666666666666666,
              "#ed7953"
             ],
             [
              0.7777777777777778,
              "#fb9f3a"
             ],
             [
              0.8888888888888888,
              "#fdca26"
             ],
             [
              1,
              "#f0f921"
             ]
            ],
            "type": "histogram2d"
           }
          ],
          "histogram2dcontour": [
           {
            "colorbar": {
             "outlinewidth": 0,
             "ticks": ""
            },
            "colorscale": [
             [
              0,
              "#0d0887"
             ],
             [
              0.1111111111111111,
              "#46039f"
             ],
             [
              0.2222222222222222,
              "#7201a8"
             ],
             [
              0.3333333333333333,
              "#9c179e"
             ],
             [
              0.4444444444444444,
              "#bd3786"
             ],
             [
              0.5555555555555556,
              "#d8576b"
             ],
             [
              0.6666666666666666,
              "#ed7953"
             ],
             [
              0.7777777777777778,
              "#fb9f3a"
             ],
             [
              0.8888888888888888,
              "#fdca26"
             ],
             [
              1,
              "#f0f921"
             ]
            ],
            "type": "histogram2dcontour"
           }
          ],
          "mesh3d": [
           {
            "colorbar": {
             "outlinewidth": 0,
             "ticks": ""
            },
            "type": "mesh3d"
           }
          ],
          "parcoords": [
           {
            "line": {
             "colorbar": {
              "outlinewidth": 0,
              "ticks": ""
             }
            },
            "type": "parcoords"
           }
          ],
          "scatter": [
           {
            "marker": {
             "colorbar": {
              "outlinewidth": 0,
              "ticks": ""
             }
            },
            "type": "scatter"
           }
          ],
          "scatter3d": [
           {
            "line": {
             "colorbar": {
              "outlinewidth": 0,
              "ticks": ""
             }
            },
            "marker": {
             "colorbar": {
              "outlinewidth": 0,
              "ticks": ""
             }
            },
            "type": "scatter3d"
           }
          ],
          "scattercarpet": [
           {
            "marker": {
             "colorbar": {
              "outlinewidth": 0,
              "ticks": ""
             }
            },
            "type": "scattercarpet"
           }
          ],
          "scattergeo": [
           {
            "marker": {
             "colorbar": {
              "outlinewidth": 0,
              "ticks": ""
             }
            },
            "type": "scattergeo"
           }
          ],
          "scattergl": [
           {
            "marker": {
             "colorbar": {
              "outlinewidth": 0,
              "ticks": ""
             }
            },
            "type": "scattergl"
           }
          ],
          "scattermapbox": [
           {
            "marker": {
             "colorbar": {
              "outlinewidth": 0,
              "ticks": ""
             }
            },
            "type": "scattermapbox"
           }
          ],
          "scatterpolar": [
           {
            "marker": {
             "colorbar": {
              "outlinewidth": 0,
              "ticks": ""
             }
            },
            "type": "scatterpolar"
           }
          ],
          "scatterpolargl": [
           {
            "marker": {
             "colorbar": {
              "outlinewidth": 0,
              "ticks": ""
             }
            },
            "type": "scatterpolargl"
           }
          ],
          "scatterternary": [
           {
            "marker": {
             "colorbar": {
              "outlinewidth": 0,
              "ticks": ""
             }
            },
            "type": "scatterternary"
           }
          ],
          "surface": [
           {
            "colorbar": {
             "outlinewidth": 0,
             "ticks": ""
            },
            "colorscale": [
             [
              0,
              "#0d0887"
             ],
             [
              0.1111111111111111,
              "#46039f"
             ],
             [
              0.2222222222222222,
              "#7201a8"
             ],
             [
              0.3333333333333333,
              "#9c179e"
             ],
             [
              0.4444444444444444,
              "#bd3786"
             ],
             [
              0.5555555555555556,
              "#d8576b"
             ],
             [
              0.6666666666666666,
              "#ed7953"
             ],
             [
              0.7777777777777778,
              "#fb9f3a"
             ],
             [
              0.8888888888888888,
              "#fdca26"
             ],
             [
              1,
              "#f0f921"
             ]
            ],
            "type": "surface"
           }
          ],
          "table": [
           {
            "cells": {
             "fill": {
              "color": "#EBF0F8"
             },
             "line": {
              "color": "white"
             }
            },
            "header": {
             "fill": {
              "color": "#C8D4E3"
             },
             "line": {
              "color": "white"
             }
            },
            "type": "table"
           }
          ]
         },
         "layout": {
          "annotationdefaults": {
           "arrowcolor": "#2a3f5f",
           "arrowhead": 0,
           "arrowwidth": 1
          },
          "colorscale": {
           "diverging": [
            [
             0,
             "#8e0152"
            ],
            [
             0.1,
             "#c51b7d"
            ],
            [
             0.2,
             "#de77ae"
            ],
            [
             0.3,
             "#f1b6da"
            ],
            [
             0.4,
             "#fde0ef"
            ],
            [
             0.5,
             "#f7f7f7"
            ],
            [
             0.6,
             "#e6f5d0"
            ],
            [
             0.7,
             "#b8e186"
            ],
            [
             0.8,
             "#7fbc41"
            ],
            [
             0.9,
             "#4d9221"
            ],
            [
             1,
             "#276419"
            ]
           ],
           "sequential": [
            [
             0,
             "#0d0887"
            ],
            [
             0.1111111111111111,
             "#46039f"
            ],
            [
             0.2222222222222222,
             "#7201a8"
            ],
            [
             0.3333333333333333,
             "#9c179e"
            ],
            [
             0.4444444444444444,
             "#bd3786"
            ],
            [
             0.5555555555555556,
             "#d8576b"
            ],
            [
             0.6666666666666666,
             "#ed7953"
            ],
            [
             0.7777777777777778,
             "#fb9f3a"
            ],
            [
             0.8888888888888888,
             "#fdca26"
            ],
            [
             1,
             "#f0f921"
            ]
           ],
           "sequentialminus": [
            [
             0,
             "#0d0887"
            ],
            [
             0.1111111111111111,
             "#46039f"
            ],
            [
             0.2222222222222222,
             "#7201a8"
            ],
            [
             0.3333333333333333,
             "#9c179e"
            ],
            [
             0.4444444444444444,
             "#bd3786"
            ],
            [
             0.5555555555555556,
             "#d8576b"
            ],
            [
             0.6666666666666666,
             "#ed7953"
            ],
            [
             0.7777777777777778,
             "#fb9f3a"
            ],
            [
             0.8888888888888888,
             "#fdca26"
            ],
            [
             1,
             "#f0f921"
            ]
           ]
          },
          "colorway": [
           "#636efa",
           "#EF553B",
           "#00cc96",
           "#ab63fa",
           "#FFA15A",
           "#19d3f3",
           "#FF6692",
           "#B6E880",
           "#FF97FF",
           "#FECB52"
          ],
          "font": {
           "color": "#2a3f5f"
          },
          "geo": {
           "bgcolor": "white",
           "lakecolor": "white",
           "landcolor": "#E5ECF6",
           "showlakes": true,
           "showland": true,
           "subunitcolor": "white"
          },
          "hoverlabel": {
           "align": "left"
          },
          "hovermode": "closest",
          "mapbox": {
           "style": "light"
          },
          "paper_bgcolor": "white",
          "plot_bgcolor": "#E5ECF6",
          "polar": {
           "angularaxis": {
            "gridcolor": "white",
            "linecolor": "white",
            "ticks": ""
           },
           "bgcolor": "#E5ECF6",
           "radialaxis": {
            "gridcolor": "white",
            "linecolor": "white",
            "ticks": ""
           }
          },
          "scene": {
           "xaxis": {
            "backgroundcolor": "#E5ECF6",
            "gridcolor": "white",
            "gridwidth": 2,
            "linecolor": "white",
            "showbackground": true,
            "ticks": "",
            "zerolinecolor": "white"
           },
           "yaxis": {
            "backgroundcolor": "#E5ECF6",
            "gridcolor": "white",
            "gridwidth": 2,
            "linecolor": "white",
            "showbackground": true,
            "ticks": "",
            "zerolinecolor": "white"
           },
           "zaxis": {
            "backgroundcolor": "#E5ECF6",
            "gridcolor": "white",
            "gridwidth": 2,
            "linecolor": "white",
            "showbackground": true,
            "ticks": "",
            "zerolinecolor": "white"
           }
          },
          "shapedefaults": {
           "line": {
            "color": "#2a3f5f"
           }
          },
          "ternary": {
           "aaxis": {
            "gridcolor": "white",
            "linecolor": "white",
            "ticks": ""
           },
           "baxis": {
            "gridcolor": "white",
            "linecolor": "white",
            "ticks": ""
           },
           "bgcolor": "#E5ECF6",
           "caxis": {
            "gridcolor": "white",
            "linecolor": "white",
            "ticks": ""
           }
          },
          "title": {
           "x": 0.05
          },
          "xaxis": {
           "automargin": true,
           "gridcolor": "white",
           "linecolor": "white",
           "ticks": "",
           "zerolinecolor": "white",
           "zerolinewidth": 2
          },
          "yaxis": {
           "automargin": true,
           "gridcolor": "white",
           "linecolor": "white",
           "ticks": "",
           "zerolinecolor": "white",
           "zerolinewidth": 2
          }
         }
        },
        "title": {
         "text": "Total number of properties sold for every quarter of 2019 "
        },
        "xaxis": {
         "anchor": "y",
         "domain": [
          0,
          1
         ]
        },
        "yaxis": {
         "anchor": "x",
         "domain": [
          0,
          1
         ]
        }
       }
      },
      "text/html": [
       "<div>\n",
       "        \n",
       "        \n",
       "            <div id=\"6d12e1fb-06d2-416a-98fb-521945a8c2d4\" class=\"plotly-graph-div\" style=\"height:525px; width:100%;\"></div>\n",
       "            <script type=\"text/javascript\">\n",
       "                require([\"plotly\"], function(Plotly) {\n",
       "                    window.PLOTLYENV=window.PLOTLYENV || {};\n",
       "                    \n",
       "                if (document.getElementById(\"6d12e1fb-06d2-416a-98fb-521945a8c2d4\")) {\n",
       "                    Plotly.newPlot(\n",
       "                        '6d12e1fb-06d2-416a-98fb-521945a8c2d4',\n",
       "                        [{\"type\": \"bar\", \"x\": [\"Quarter 1\", \"Quarter 2\", \"Quarter 3\", \" Quarter 4\"], \"xaxis\": \"x\", \"y\": [28449, 31200, 36235, 47909], \"yaxis\": \"y\"}],\n",
       "                        {\"template\": {\"data\": {\"bar\": [{\"error_x\": {\"color\": \"#2a3f5f\"}, \"error_y\": {\"color\": \"#2a3f5f\"}, \"marker\": {\"line\": {\"color\": \"#E5ECF6\", \"width\": 0.5}}, \"type\": \"bar\"}], \"barpolar\": [{\"marker\": {\"line\": {\"color\": \"#E5ECF6\", \"width\": 0.5}}, \"type\": \"barpolar\"}], \"carpet\": [{\"aaxis\": {\"endlinecolor\": \"#2a3f5f\", \"gridcolor\": \"white\", \"linecolor\": \"white\", \"minorgridcolor\": \"white\", \"startlinecolor\": \"#2a3f5f\"}, \"baxis\": {\"endlinecolor\": \"#2a3f5f\", \"gridcolor\": \"white\", \"linecolor\": \"white\", \"minorgridcolor\": \"white\", \"startlinecolor\": \"#2a3f5f\"}, \"type\": \"carpet\"}], \"choropleth\": [{\"colorbar\": {\"outlinewidth\": 0, \"ticks\": \"\"}, \"type\": \"choropleth\"}], \"contour\": [{\"colorbar\": {\"outlinewidth\": 0, \"ticks\": \"\"}, \"colorscale\": [[0.0, \"#0d0887\"], [0.1111111111111111, \"#46039f\"], [0.2222222222222222, \"#7201a8\"], [0.3333333333333333, \"#9c179e\"], [0.4444444444444444, \"#bd3786\"], [0.5555555555555556, \"#d8576b\"], [0.6666666666666666, \"#ed7953\"], [0.7777777777777778, \"#fb9f3a\"], [0.8888888888888888, \"#fdca26\"], [1.0, \"#f0f921\"]], \"type\": \"contour\"}], \"contourcarpet\": [{\"colorbar\": {\"outlinewidth\": 0, \"ticks\": \"\"}, \"type\": \"contourcarpet\"}], \"heatmap\": [{\"colorbar\": {\"outlinewidth\": 0, \"ticks\": \"\"}, \"colorscale\": [[0.0, \"#0d0887\"], [0.1111111111111111, \"#46039f\"], [0.2222222222222222, \"#7201a8\"], [0.3333333333333333, \"#9c179e\"], [0.4444444444444444, \"#bd3786\"], [0.5555555555555556, \"#d8576b\"], [0.6666666666666666, \"#ed7953\"], [0.7777777777777778, \"#fb9f3a\"], [0.8888888888888888, \"#fdca26\"], [1.0, \"#f0f921\"]], \"type\": \"heatmap\"}], \"heatmapgl\": [{\"colorbar\": {\"outlinewidth\": 0, \"ticks\": \"\"}, \"colorscale\": [[0.0, \"#0d0887\"], [0.1111111111111111, \"#46039f\"], [0.2222222222222222, \"#7201a8\"], [0.3333333333333333, \"#9c179e\"], [0.4444444444444444, \"#bd3786\"], [0.5555555555555556, \"#d8576b\"], [0.6666666666666666, \"#ed7953\"], [0.7777777777777778, \"#fb9f3a\"], [0.8888888888888888, \"#fdca26\"], [1.0, \"#f0f921\"]], \"type\": \"heatmapgl\"}], \"histogram\": [{\"marker\": {\"colorbar\": {\"outlinewidth\": 0, \"ticks\": \"\"}}, \"type\": \"histogram\"}], \"histogram2d\": [{\"colorbar\": {\"outlinewidth\": 0, \"ticks\": \"\"}, \"colorscale\": [[0.0, \"#0d0887\"], [0.1111111111111111, \"#46039f\"], [0.2222222222222222, \"#7201a8\"], [0.3333333333333333, \"#9c179e\"], [0.4444444444444444, \"#bd3786\"], [0.5555555555555556, \"#d8576b\"], [0.6666666666666666, \"#ed7953\"], [0.7777777777777778, \"#fb9f3a\"], [0.8888888888888888, \"#fdca26\"], [1.0, \"#f0f921\"]], \"type\": \"histogram2d\"}], \"histogram2dcontour\": [{\"colorbar\": {\"outlinewidth\": 0, \"ticks\": \"\"}, \"colorscale\": [[0.0, \"#0d0887\"], [0.1111111111111111, \"#46039f\"], [0.2222222222222222, \"#7201a8\"], [0.3333333333333333, \"#9c179e\"], [0.4444444444444444, \"#bd3786\"], [0.5555555555555556, \"#d8576b\"], [0.6666666666666666, \"#ed7953\"], [0.7777777777777778, \"#fb9f3a\"], [0.8888888888888888, \"#fdca26\"], [1.0, \"#f0f921\"]], \"type\": \"histogram2dcontour\"}], \"mesh3d\": [{\"colorbar\": {\"outlinewidth\": 0, \"ticks\": \"\"}, \"type\": \"mesh3d\"}], \"parcoords\": [{\"line\": {\"colorbar\": {\"outlinewidth\": 0, \"ticks\": \"\"}}, \"type\": \"parcoords\"}], \"scatter\": [{\"marker\": {\"colorbar\": {\"outlinewidth\": 0, \"ticks\": \"\"}}, \"type\": \"scatter\"}], \"scatter3d\": [{\"line\": {\"colorbar\": {\"outlinewidth\": 0, \"ticks\": \"\"}}, \"marker\": {\"colorbar\": {\"outlinewidth\": 0, \"ticks\": \"\"}}, \"type\": \"scatter3d\"}], \"scattercarpet\": [{\"marker\": {\"colorbar\": {\"outlinewidth\": 0, \"ticks\": \"\"}}, \"type\": \"scattercarpet\"}], \"scattergeo\": [{\"marker\": {\"colorbar\": {\"outlinewidth\": 0, \"ticks\": \"\"}}, \"type\": \"scattergeo\"}], \"scattergl\": [{\"marker\": {\"colorbar\": {\"outlinewidth\": 0, \"ticks\": \"\"}}, \"type\": \"scattergl\"}], \"scattermapbox\": [{\"marker\": {\"colorbar\": {\"outlinewidth\": 0, \"ticks\": \"\"}}, \"type\": \"scattermapbox\"}], \"scatterpolar\": [{\"marker\": {\"colorbar\": {\"outlinewidth\": 0, \"ticks\": \"\"}}, \"type\": \"scatterpolar\"}], \"scatterpolargl\": [{\"marker\": {\"colorbar\": {\"outlinewidth\": 0, \"ticks\": \"\"}}, \"type\": \"scatterpolargl\"}], \"scatterternary\": [{\"marker\": {\"colorbar\": {\"outlinewidth\": 0, \"ticks\": \"\"}}, \"type\": \"scatterternary\"}], \"surface\": [{\"colorbar\": {\"outlinewidth\": 0, \"ticks\": \"\"}, \"colorscale\": [[0.0, \"#0d0887\"], [0.1111111111111111, \"#46039f\"], [0.2222222222222222, \"#7201a8\"], [0.3333333333333333, \"#9c179e\"], [0.4444444444444444, \"#bd3786\"], [0.5555555555555556, \"#d8576b\"], [0.6666666666666666, \"#ed7953\"], [0.7777777777777778, \"#fb9f3a\"], [0.8888888888888888, \"#fdca26\"], [1.0, \"#f0f921\"]], \"type\": \"surface\"}], \"table\": [{\"cells\": {\"fill\": {\"color\": \"#EBF0F8\"}, \"line\": {\"color\": \"white\"}}, \"header\": {\"fill\": {\"color\": \"#C8D4E3\"}, \"line\": {\"color\": \"white\"}}, \"type\": \"table\"}]}, \"layout\": {\"annotationdefaults\": {\"arrowcolor\": \"#2a3f5f\", \"arrowhead\": 0, \"arrowwidth\": 1}, \"colorscale\": {\"diverging\": [[0, \"#8e0152\"], [0.1, \"#c51b7d\"], [0.2, \"#de77ae\"], [0.3, \"#f1b6da\"], [0.4, \"#fde0ef\"], [0.5, \"#f7f7f7\"], [0.6, \"#e6f5d0\"], [0.7, \"#b8e186\"], [0.8, \"#7fbc41\"], [0.9, \"#4d9221\"], [1, \"#276419\"]], \"sequential\": [[0.0, \"#0d0887\"], [0.1111111111111111, \"#46039f\"], [0.2222222222222222, \"#7201a8\"], [0.3333333333333333, \"#9c179e\"], [0.4444444444444444, \"#bd3786\"], [0.5555555555555556, \"#d8576b\"], [0.6666666666666666, \"#ed7953\"], [0.7777777777777778, \"#fb9f3a\"], [0.8888888888888888, \"#fdca26\"], [1.0, \"#f0f921\"]], \"sequentialminus\": [[0.0, \"#0d0887\"], [0.1111111111111111, \"#46039f\"], [0.2222222222222222, \"#7201a8\"], [0.3333333333333333, \"#9c179e\"], [0.4444444444444444, \"#bd3786\"], [0.5555555555555556, \"#d8576b\"], [0.6666666666666666, \"#ed7953\"], [0.7777777777777778, \"#fb9f3a\"], [0.8888888888888888, \"#fdca26\"], [1.0, \"#f0f921\"]]}, \"colorway\": [\"#636efa\", \"#EF553B\", \"#00cc96\", \"#ab63fa\", \"#FFA15A\", \"#19d3f3\", \"#FF6692\", \"#B6E880\", \"#FF97FF\", \"#FECB52\"], \"font\": {\"color\": \"#2a3f5f\"}, \"geo\": {\"bgcolor\": \"white\", \"lakecolor\": \"white\", \"landcolor\": \"#E5ECF6\", \"showlakes\": true, \"showland\": true, \"subunitcolor\": \"white\"}, \"hoverlabel\": {\"align\": \"left\"}, \"hovermode\": \"closest\", \"mapbox\": {\"style\": \"light\"}, \"paper_bgcolor\": \"white\", \"plot_bgcolor\": \"#E5ECF6\", \"polar\": {\"angularaxis\": {\"gridcolor\": \"white\", \"linecolor\": \"white\", \"ticks\": \"\"}, \"bgcolor\": \"#E5ECF6\", \"radialaxis\": {\"gridcolor\": \"white\", \"linecolor\": \"white\", \"ticks\": \"\"}}, \"scene\": {\"xaxis\": {\"backgroundcolor\": \"#E5ECF6\", \"gridcolor\": \"white\", \"gridwidth\": 2, \"linecolor\": \"white\", \"showbackground\": true, \"ticks\": \"\", \"zerolinecolor\": \"white\"}, \"yaxis\": {\"backgroundcolor\": \"#E5ECF6\", \"gridcolor\": \"white\", \"gridwidth\": 2, \"linecolor\": \"white\", \"showbackground\": true, \"ticks\": \"\", \"zerolinecolor\": \"white\"}, \"zaxis\": {\"backgroundcolor\": \"#E5ECF6\", \"gridcolor\": \"white\", \"gridwidth\": 2, \"linecolor\": \"white\", \"showbackground\": true, \"ticks\": \"\", \"zerolinecolor\": \"white\"}}, \"shapedefaults\": {\"line\": {\"color\": \"#2a3f5f\"}}, \"ternary\": {\"aaxis\": {\"gridcolor\": \"white\", \"linecolor\": \"white\", \"ticks\": \"\"}, \"baxis\": {\"gridcolor\": \"white\", \"linecolor\": \"white\", \"ticks\": \"\"}, \"bgcolor\": \"#E5ECF6\", \"caxis\": {\"gridcolor\": \"white\", \"linecolor\": \"white\", \"ticks\": \"\"}}, \"title\": {\"x\": 0.05}, \"xaxis\": {\"automargin\": true, \"gridcolor\": \"white\", \"linecolor\": \"white\", \"ticks\": \"\", \"zerolinecolor\": \"white\", \"zerolinewidth\": 2}, \"yaxis\": {\"automargin\": true, \"gridcolor\": \"white\", \"linecolor\": \"white\", \"ticks\": \"\", \"zerolinecolor\": \"white\", \"zerolinewidth\": 2}}}, \"title\": {\"text\": \"Total number of properties sold for every quarter of 2019 \"}, \"xaxis\": {\"anchor\": \"y\", \"domain\": [0.0, 1.0]}, \"yaxis\": {\"anchor\": \"x\", \"domain\": [0.0, 1.0]}},\n",
       "                        {\"responsive\": true}\n",
       "                    ).then(function(){\n",
       "                            \n",
       "var gd = document.getElementById('6d12e1fb-06d2-416a-98fb-521945a8c2d4');\n",
       "var x = new MutationObserver(function (mutations, observer) {{\n",
       "        var display = window.getComputedStyle(gd).display;\n",
       "        if (!display || display === 'none') {{\n",
       "            console.log([gd, 'removed!']);\n",
       "            Plotly.purge(gd);\n",
       "            observer.disconnect();\n",
       "        }}\n",
       "}});\n",
       "\n",
       "// Listen for the removal of the full notebook cells\n",
       "var notebookContainer = gd.closest('#notebook-container');\n",
       "if (notebookContainer) {{\n",
       "    x.observe(notebookContainer, {childList: true});\n",
       "}}\n",
       "\n",
       "// Listen for the clearing of the current output cell\n",
       "var outputEl = gd.closest('.output');\n",
       "if (outputEl) {{\n",
       "    x.observe(outputEl, {childList: true});\n",
       "}}\n",
       "\n",
       "                        })\n",
       "                };\n",
       "                });\n",
       "            </script>\n",
       "        </div>"
      ]
     },
     "metadata": {},
     "output_type": "display_data"
    }
   ],
   "source": [
    "# Extracting the data frames for each quarter of the year 2019 to do analysis on number of properties sold for each quarter\n",
    "\n",
    "property_data_q1 = data_2019.loc[(data_2019['date_sold'] >=\"2019-01-01\") & (data_2019['date_sold'] <= \"2019-03-31\")]\n",
    "\n",
    "property_data_q2 = data_2019.loc[(data_2019['date_sold'] >=\"2019-04-01\") & (data_2019['date_sold'] <= \"2019-06-30\")]\n",
    "\n",
    "property_data_q3 = data_2019.loc[(data_2019['date_sold'] >=\"2019-07-01\") & (data_2019['date_sold'] <= \"2019-09-30\")]\n",
    " \n",
    "property_data_q4 = data_2019.loc[(data_2019['date_sold'] >= \" 2019-10-01\") & (data_2019['date_sold'] <= \"2019-12-31\")]\n",
    "\n",
    "\n",
    "\n",
    "#Plotting a interactive bar using make_subplots module of plotly\n",
    "\n",
    "fig = make_subplots(rows=1, cols=1)\n",
    "\n",
    "a= len(property_data_q1[\"date_sold\"])\n",
    "b= len(property_data_q2[\"date_sold\"])\n",
    "c= len(property_data_q3[\"date_sold\"])\n",
    "d= len(property_data_q4[\"date_sold\"])\n",
    "\n",
    "#Assigning the axis titles and \n",
    "\n",
    "fig.add_trace(go.Bar(x=[\"Quarter 1\", \"Quarter 2\", \"Quarter 3\",\" Quarter 4\"], y=[a,b,c,d]), \n",
    "                     1, 1)\n",
    "                   \n",
    "fig.update_layout(title_text=\"Total number of properties sold for every quarter of 2019 \")#,coloraxis=dict(colorscale='Bluered_r'), showlegend=False)\n",
    "fig.show()\n",
    "\n",
    "\n",
    "\n"
   ]
  },
  {
   "cell_type": "code",
   "execution_count": 129,
   "metadata": {},
   "outputs": [
    {
     "data": {
      "application/vnd.plotly.v1+json": {
       "config": {
        "plotlyServerURL": "https://plot.ly"
       },
       "data": [
        {
         "domain": {
          "x": [
           0,
           1
          ],
          "y": [
           0,
           1
          ]
         },
         "hole": 0.3,
         "hoverinfo": "label+value+name",
         "labels": [
          "Quarter 1",
          "Quarter 2",
          "Quarter 3",
          " Quarter 4"
         ],
         "marker": {
          "colors": [
           "gold",
           "mediumturquoise",
           "darkorange",
           "lightgreen"
          ],
          "line": {
           "color": "#000000",
           "width": 2
          }
         },
         "name": "Sales",
         "textposition": "inside",
         "type": "pie",
         "values": [
          28449,
          31200,
          36235,
          47909
         ]
        }
       ],
       "layout": {
        "template": {
         "data": {
          "bar": [
           {
            "error_x": {
             "color": "#2a3f5f"
            },
            "error_y": {
             "color": "#2a3f5f"
            },
            "marker": {
             "line": {
              "color": "#E5ECF6",
              "width": 0.5
             }
            },
            "type": "bar"
           }
          ],
          "barpolar": [
           {
            "marker": {
             "line": {
              "color": "#E5ECF6",
              "width": 0.5
             }
            },
            "type": "barpolar"
           }
          ],
          "carpet": [
           {
            "aaxis": {
             "endlinecolor": "#2a3f5f",
             "gridcolor": "white",
             "linecolor": "white",
             "minorgridcolor": "white",
             "startlinecolor": "#2a3f5f"
            },
            "baxis": {
             "endlinecolor": "#2a3f5f",
             "gridcolor": "white",
             "linecolor": "white",
             "minorgridcolor": "white",
             "startlinecolor": "#2a3f5f"
            },
            "type": "carpet"
           }
          ],
          "choropleth": [
           {
            "colorbar": {
             "outlinewidth": 0,
             "ticks": ""
            },
            "type": "choropleth"
           }
          ],
          "contour": [
           {
            "colorbar": {
             "outlinewidth": 0,
             "ticks": ""
            },
            "colorscale": [
             [
              0,
              "#0d0887"
             ],
             [
              0.1111111111111111,
              "#46039f"
             ],
             [
              0.2222222222222222,
              "#7201a8"
             ],
             [
              0.3333333333333333,
              "#9c179e"
             ],
             [
              0.4444444444444444,
              "#bd3786"
             ],
             [
              0.5555555555555556,
              "#d8576b"
             ],
             [
              0.6666666666666666,
              "#ed7953"
             ],
             [
              0.7777777777777778,
              "#fb9f3a"
             ],
             [
              0.8888888888888888,
              "#fdca26"
             ],
             [
              1,
              "#f0f921"
             ]
            ],
            "type": "contour"
           }
          ],
          "contourcarpet": [
           {
            "colorbar": {
             "outlinewidth": 0,
             "ticks": ""
            },
            "type": "contourcarpet"
           }
          ],
          "heatmap": [
           {
            "colorbar": {
             "outlinewidth": 0,
             "ticks": ""
            },
            "colorscale": [
             [
              0,
              "#0d0887"
             ],
             [
              0.1111111111111111,
              "#46039f"
             ],
             [
              0.2222222222222222,
              "#7201a8"
             ],
             [
              0.3333333333333333,
              "#9c179e"
             ],
             [
              0.4444444444444444,
              "#bd3786"
             ],
             [
              0.5555555555555556,
              "#d8576b"
             ],
             [
              0.6666666666666666,
              "#ed7953"
             ],
             [
              0.7777777777777778,
              "#fb9f3a"
             ],
             [
              0.8888888888888888,
              "#fdca26"
             ],
             [
              1,
              "#f0f921"
             ]
            ],
            "type": "heatmap"
           }
          ],
          "heatmapgl": [
           {
            "colorbar": {
             "outlinewidth": 0,
             "ticks": ""
            },
            "colorscale": [
             [
              0,
              "#0d0887"
             ],
             [
              0.1111111111111111,
              "#46039f"
             ],
             [
              0.2222222222222222,
              "#7201a8"
             ],
             [
              0.3333333333333333,
              "#9c179e"
             ],
             [
              0.4444444444444444,
              "#bd3786"
             ],
             [
              0.5555555555555556,
              "#d8576b"
             ],
             [
              0.6666666666666666,
              "#ed7953"
             ],
             [
              0.7777777777777778,
              "#fb9f3a"
             ],
             [
              0.8888888888888888,
              "#fdca26"
             ],
             [
              1,
              "#f0f921"
             ]
            ],
            "type": "heatmapgl"
           }
          ],
          "histogram": [
           {
            "marker": {
             "colorbar": {
              "outlinewidth": 0,
              "ticks": ""
             }
            },
            "type": "histogram"
           }
          ],
          "histogram2d": [
           {
            "colorbar": {
             "outlinewidth": 0,
             "ticks": ""
            },
            "colorscale": [
             [
              0,
              "#0d0887"
             ],
             [
              0.1111111111111111,
              "#46039f"
             ],
             [
              0.2222222222222222,
              "#7201a8"
             ],
             [
              0.3333333333333333,
              "#9c179e"
             ],
             [
              0.4444444444444444,
              "#bd3786"
             ],
             [
              0.5555555555555556,
              "#d8576b"
             ],
             [
              0.6666666666666666,
              "#ed7953"
             ],
             [
              0.7777777777777778,
              "#fb9f3a"
             ],
             [
              0.8888888888888888,
              "#fdca26"
             ],
             [
              1,
              "#f0f921"
             ]
            ],
            "type": "histogram2d"
           }
          ],
          "histogram2dcontour": [
           {
            "colorbar": {
             "outlinewidth": 0,
             "ticks": ""
            },
            "colorscale": [
             [
              0,
              "#0d0887"
             ],
             [
              0.1111111111111111,
              "#46039f"
             ],
             [
              0.2222222222222222,
              "#7201a8"
             ],
             [
              0.3333333333333333,
              "#9c179e"
             ],
             [
              0.4444444444444444,
              "#bd3786"
             ],
             [
              0.5555555555555556,
              "#d8576b"
             ],
             [
              0.6666666666666666,
              "#ed7953"
             ],
             [
              0.7777777777777778,
              "#fb9f3a"
             ],
             [
              0.8888888888888888,
              "#fdca26"
             ],
             [
              1,
              "#f0f921"
             ]
            ],
            "type": "histogram2dcontour"
           }
          ],
          "mesh3d": [
           {
            "colorbar": {
             "outlinewidth": 0,
             "ticks": ""
            },
            "type": "mesh3d"
           }
          ],
          "parcoords": [
           {
            "line": {
             "colorbar": {
              "outlinewidth": 0,
              "ticks": ""
             }
            },
            "type": "parcoords"
           }
          ],
          "scatter": [
           {
            "marker": {
             "colorbar": {
              "outlinewidth": 0,
              "ticks": ""
             }
            },
            "type": "scatter"
           }
          ],
          "scatter3d": [
           {
            "line": {
             "colorbar": {
              "outlinewidth": 0,
              "ticks": ""
             }
            },
            "marker": {
             "colorbar": {
              "outlinewidth": 0,
              "ticks": ""
             }
            },
            "type": "scatter3d"
           }
          ],
          "scattercarpet": [
           {
            "marker": {
             "colorbar": {
              "outlinewidth": 0,
              "ticks": ""
             }
            },
            "type": "scattercarpet"
           }
          ],
          "scattergeo": [
           {
            "marker": {
             "colorbar": {
              "outlinewidth": 0,
              "ticks": ""
             }
            },
            "type": "scattergeo"
           }
          ],
          "scattergl": [
           {
            "marker": {
             "colorbar": {
              "outlinewidth": 0,
              "ticks": ""
             }
            },
            "type": "scattergl"
           }
          ],
          "scattermapbox": [
           {
            "marker": {
             "colorbar": {
              "outlinewidth": 0,
              "ticks": ""
             }
            },
            "type": "scattermapbox"
           }
          ],
          "scatterpolar": [
           {
            "marker": {
             "colorbar": {
              "outlinewidth": 0,
              "ticks": ""
             }
            },
            "type": "scatterpolar"
           }
          ],
          "scatterpolargl": [
           {
            "marker": {
             "colorbar": {
              "outlinewidth": 0,
              "ticks": ""
             }
            },
            "type": "scatterpolargl"
           }
          ],
          "scatterternary": [
           {
            "marker": {
             "colorbar": {
              "outlinewidth": 0,
              "ticks": ""
             }
            },
            "type": "scatterternary"
           }
          ],
          "surface": [
           {
            "colorbar": {
             "outlinewidth": 0,
             "ticks": ""
            },
            "colorscale": [
             [
              0,
              "#0d0887"
             ],
             [
              0.1111111111111111,
              "#46039f"
             ],
             [
              0.2222222222222222,
              "#7201a8"
             ],
             [
              0.3333333333333333,
              "#9c179e"
             ],
             [
              0.4444444444444444,
              "#bd3786"
             ],
             [
              0.5555555555555556,
              "#d8576b"
             ],
             [
              0.6666666666666666,
              "#ed7953"
             ],
             [
              0.7777777777777778,
              "#fb9f3a"
             ],
             [
              0.8888888888888888,
              "#fdca26"
             ],
             [
              1,
              "#f0f921"
             ]
            ],
            "type": "surface"
           }
          ],
          "table": [
           {
            "cells": {
             "fill": {
              "color": "#EBF0F8"
             },
             "line": {
              "color": "white"
             }
            },
            "header": {
             "fill": {
              "color": "#C8D4E3"
             },
             "line": {
              "color": "white"
             }
            },
            "type": "table"
           }
          ]
         },
         "layout": {
          "annotationdefaults": {
           "arrowcolor": "#2a3f5f",
           "arrowhead": 0,
           "arrowwidth": 1
          },
          "colorscale": {
           "diverging": [
            [
             0,
             "#8e0152"
            ],
            [
             0.1,
             "#c51b7d"
            ],
            [
             0.2,
             "#de77ae"
            ],
            [
             0.3,
             "#f1b6da"
            ],
            [
             0.4,
             "#fde0ef"
            ],
            [
             0.5,
             "#f7f7f7"
            ],
            [
             0.6,
             "#e6f5d0"
            ],
            [
             0.7,
             "#b8e186"
            ],
            [
             0.8,
             "#7fbc41"
            ],
            [
             0.9,
             "#4d9221"
            ],
            [
             1,
             "#276419"
            ]
           ],
           "sequential": [
            [
             0,
             "#0d0887"
            ],
            [
             0.1111111111111111,
             "#46039f"
            ],
            [
             0.2222222222222222,
             "#7201a8"
            ],
            [
             0.3333333333333333,
             "#9c179e"
            ],
            [
             0.4444444444444444,
             "#bd3786"
            ],
            [
             0.5555555555555556,
             "#d8576b"
            ],
            [
             0.6666666666666666,
             "#ed7953"
            ],
            [
             0.7777777777777778,
             "#fb9f3a"
            ],
            [
             0.8888888888888888,
             "#fdca26"
            ],
            [
             1,
             "#f0f921"
            ]
           ],
           "sequentialminus": [
            [
             0,
             "#0d0887"
            ],
            [
             0.1111111111111111,
             "#46039f"
            ],
            [
             0.2222222222222222,
             "#7201a8"
            ],
            [
             0.3333333333333333,
             "#9c179e"
            ],
            [
             0.4444444444444444,
             "#bd3786"
            ],
            [
             0.5555555555555556,
             "#d8576b"
            ],
            [
             0.6666666666666666,
             "#ed7953"
            ],
            [
             0.7777777777777778,
             "#fb9f3a"
            ],
            [
             0.8888888888888888,
             "#fdca26"
            ],
            [
             1,
             "#f0f921"
            ]
           ]
          },
          "colorway": [
           "#636efa",
           "#EF553B",
           "#00cc96",
           "#ab63fa",
           "#FFA15A",
           "#19d3f3",
           "#FF6692",
           "#B6E880",
           "#FF97FF",
           "#FECB52"
          ],
          "font": {
           "color": "#2a3f5f"
          },
          "geo": {
           "bgcolor": "white",
           "lakecolor": "white",
           "landcolor": "#E5ECF6",
           "showlakes": true,
           "showland": true,
           "subunitcolor": "white"
          },
          "hoverlabel": {
           "align": "left"
          },
          "hovermode": "closest",
          "mapbox": {
           "style": "light"
          },
          "paper_bgcolor": "white",
          "plot_bgcolor": "#E5ECF6",
          "polar": {
           "angularaxis": {
            "gridcolor": "white",
            "linecolor": "white",
            "ticks": ""
           },
           "bgcolor": "#E5ECF6",
           "radialaxis": {
            "gridcolor": "white",
            "linecolor": "white",
            "ticks": ""
           }
          },
          "scene": {
           "xaxis": {
            "backgroundcolor": "#E5ECF6",
            "gridcolor": "white",
            "gridwidth": 2,
            "linecolor": "white",
            "showbackground": true,
            "ticks": "",
            "zerolinecolor": "white"
           },
           "yaxis": {
            "backgroundcolor": "#E5ECF6",
            "gridcolor": "white",
            "gridwidth": 2,
            "linecolor": "white",
            "showbackground": true,
            "ticks": "",
            "zerolinecolor": "white"
           },
           "zaxis": {
            "backgroundcolor": "#E5ECF6",
            "gridcolor": "white",
            "gridwidth": 2,
            "linecolor": "white",
            "showbackground": true,
            "ticks": "",
            "zerolinecolor": "white"
           }
          },
          "shapedefaults": {
           "line": {
            "color": "#2a3f5f"
           }
          },
          "ternary": {
           "aaxis": {
            "gridcolor": "white",
            "linecolor": "white",
            "ticks": ""
           },
           "baxis": {
            "gridcolor": "white",
            "linecolor": "white",
            "ticks": ""
           },
           "bgcolor": "#E5ECF6",
           "caxis": {
            "gridcolor": "white",
            "linecolor": "white",
            "ticks": ""
           }
          },
          "title": {
           "x": 0.05
          },
          "xaxis": {
           "automargin": true,
           "gridcolor": "white",
           "linecolor": "white",
           "ticks": "",
           "zerolinecolor": "white",
           "zerolinewidth": 2
          },
          "yaxis": {
           "automargin": true,
           "gridcolor": "white",
           "linecolor": "white",
           "ticks": "",
           "zerolinecolor": "white",
           "zerolinewidth": 2
          }
         }
        },
        "title": {
         "text": "Variation(%) in the number of sales per quarter "
        }
       }
      },
      "text/html": [
       "<div>\n",
       "        \n",
       "        \n",
       "            <div id=\"c53f3d78-3459-4a44-8abc-235623add311\" class=\"plotly-graph-div\" style=\"height:525px; width:100%;\"></div>\n",
       "            <script type=\"text/javascript\">\n",
       "                require([\"plotly\"], function(Plotly) {\n",
       "                    window.PLOTLYENV=window.PLOTLYENV || {};\n",
       "                    \n",
       "                if (document.getElementById(\"c53f3d78-3459-4a44-8abc-235623add311\")) {\n",
       "                    Plotly.newPlot(\n",
       "                        'c53f3d78-3459-4a44-8abc-235623add311',\n",
       "                        [{\"domain\": {\"x\": [0.0, 1.0], \"y\": [0.0, 1.0]}, \"hole\": 0.3, \"hoverinfo\": \"label+value+name\", \"labels\": [\"Quarter 1\", \"Quarter 2\", \"Quarter 3\", \" Quarter 4\"], \"marker\": {\"colors\": [\"gold\", \"mediumturquoise\", \"darkorange\", \"lightgreen\"], \"line\": {\"color\": \"#000000\", \"width\": 2}}, \"name\": \"Sales\", \"textposition\": \"inside\", \"type\": \"pie\", \"values\": [28449, 31200, 36235, 47909]}],\n",
       "                        {\"template\": {\"data\": {\"bar\": [{\"error_x\": {\"color\": \"#2a3f5f\"}, \"error_y\": {\"color\": \"#2a3f5f\"}, \"marker\": {\"line\": {\"color\": \"#E5ECF6\", \"width\": 0.5}}, \"type\": \"bar\"}], \"barpolar\": [{\"marker\": {\"line\": {\"color\": \"#E5ECF6\", \"width\": 0.5}}, \"type\": \"barpolar\"}], \"carpet\": [{\"aaxis\": {\"endlinecolor\": \"#2a3f5f\", \"gridcolor\": \"white\", \"linecolor\": \"white\", \"minorgridcolor\": \"white\", \"startlinecolor\": \"#2a3f5f\"}, \"baxis\": {\"endlinecolor\": \"#2a3f5f\", \"gridcolor\": \"white\", \"linecolor\": \"white\", \"minorgridcolor\": \"white\", \"startlinecolor\": \"#2a3f5f\"}, \"type\": \"carpet\"}], \"choropleth\": [{\"colorbar\": {\"outlinewidth\": 0, \"ticks\": \"\"}, \"type\": \"choropleth\"}], \"contour\": [{\"colorbar\": {\"outlinewidth\": 0, \"ticks\": \"\"}, \"colorscale\": [[0.0, \"#0d0887\"], [0.1111111111111111, \"#46039f\"], [0.2222222222222222, \"#7201a8\"], [0.3333333333333333, \"#9c179e\"], [0.4444444444444444, \"#bd3786\"], [0.5555555555555556, \"#d8576b\"], [0.6666666666666666, \"#ed7953\"], [0.7777777777777778, \"#fb9f3a\"], [0.8888888888888888, \"#fdca26\"], [1.0, \"#f0f921\"]], \"type\": \"contour\"}], \"contourcarpet\": [{\"colorbar\": {\"outlinewidth\": 0, \"ticks\": \"\"}, \"type\": \"contourcarpet\"}], \"heatmap\": [{\"colorbar\": {\"outlinewidth\": 0, \"ticks\": \"\"}, \"colorscale\": [[0.0, \"#0d0887\"], [0.1111111111111111, \"#46039f\"], [0.2222222222222222, \"#7201a8\"], [0.3333333333333333, \"#9c179e\"], [0.4444444444444444, \"#bd3786\"], [0.5555555555555556, \"#d8576b\"], [0.6666666666666666, \"#ed7953\"], [0.7777777777777778, \"#fb9f3a\"], [0.8888888888888888, \"#fdca26\"], [1.0, \"#f0f921\"]], \"type\": \"heatmap\"}], \"heatmapgl\": [{\"colorbar\": {\"outlinewidth\": 0, \"ticks\": \"\"}, \"colorscale\": [[0.0, \"#0d0887\"], [0.1111111111111111, \"#46039f\"], [0.2222222222222222, \"#7201a8\"], [0.3333333333333333, \"#9c179e\"], [0.4444444444444444, \"#bd3786\"], [0.5555555555555556, \"#d8576b\"], [0.6666666666666666, \"#ed7953\"], [0.7777777777777778, \"#fb9f3a\"], [0.8888888888888888, \"#fdca26\"], [1.0, \"#f0f921\"]], \"type\": \"heatmapgl\"}], \"histogram\": [{\"marker\": {\"colorbar\": {\"outlinewidth\": 0, \"ticks\": \"\"}}, \"type\": \"histogram\"}], \"histogram2d\": [{\"colorbar\": {\"outlinewidth\": 0, \"ticks\": \"\"}, \"colorscale\": [[0.0, \"#0d0887\"], [0.1111111111111111, \"#46039f\"], [0.2222222222222222, \"#7201a8\"], [0.3333333333333333, \"#9c179e\"], [0.4444444444444444, \"#bd3786\"], [0.5555555555555556, \"#d8576b\"], [0.6666666666666666, \"#ed7953\"], [0.7777777777777778, \"#fb9f3a\"], [0.8888888888888888, \"#fdca26\"], [1.0, \"#f0f921\"]], \"type\": \"histogram2d\"}], \"histogram2dcontour\": [{\"colorbar\": {\"outlinewidth\": 0, \"ticks\": \"\"}, \"colorscale\": [[0.0, \"#0d0887\"], [0.1111111111111111, \"#46039f\"], [0.2222222222222222, \"#7201a8\"], [0.3333333333333333, \"#9c179e\"], [0.4444444444444444, \"#bd3786\"], [0.5555555555555556, \"#d8576b\"], [0.6666666666666666, \"#ed7953\"], [0.7777777777777778, \"#fb9f3a\"], [0.8888888888888888, \"#fdca26\"], [1.0, \"#f0f921\"]], \"type\": \"histogram2dcontour\"}], \"mesh3d\": [{\"colorbar\": {\"outlinewidth\": 0, \"ticks\": \"\"}, \"type\": \"mesh3d\"}], \"parcoords\": [{\"line\": {\"colorbar\": {\"outlinewidth\": 0, \"ticks\": \"\"}}, \"type\": \"parcoords\"}], \"scatter\": [{\"marker\": {\"colorbar\": {\"outlinewidth\": 0, \"ticks\": \"\"}}, \"type\": \"scatter\"}], \"scatter3d\": [{\"line\": {\"colorbar\": {\"outlinewidth\": 0, \"ticks\": \"\"}}, \"marker\": {\"colorbar\": {\"outlinewidth\": 0, \"ticks\": \"\"}}, \"type\": \"scatter3d\"}], \"scattercarpet\": [{\"marker\": {\"colorbar\": {\"outlinewidth\": 0, \"ticks\": \"\"}}, \"type\": \"scattercarpet\"}], \"scattergeo\": [{\"marker\": {\"colorbar\": {\"outlinewidth\": 0, \"ticks\": \"\"}}, \"type\": \"scattergeo\"}], \"scattergl\": [{\"marker\": {\"colorbar\": {\"outlinewidth\": 0, \"ticks\": \"\"}}, \"type\": \"scattergl\"}], \"scattermapbox\": [{\"marker\": {\"colorbar\": {\"outlinewidth\": 0, \"ticks\": \"\"}}, \"type\": \"scattermapbox\"}], \"scatterpolar\": [{\"marker\": {\"colorbar\": {\"outlinewidth\": 0, \"ticks\": \"\"}}, \"type\": \"scatterpolar\"}], \"scatterpolargl\": [{\"marker\": {\"colorbar\": {\"outlinewidth\": 0, \"ticks\": \"\"}}, \"type\": \"scatterpolargl\"}], \"scatterternary\": [{\"marker\": {\"colorbar\": {\"outlinewidth\": 0, \"ticks\": \"\"}}, \"type\": \"scatterternary\"}], \"surface\": [{\"colorbar\": {\"outlinewidth\": 0, \"ticks\": \"\"}, \"colorscale\": [[0.0, \"#0d0887\"], [0.1111111111111111, \"#46039f\"], [0.2222222222222222, \"#7201a8\"], [0.3333333333333333, \"#9c179e\"], [0.4444444444444444, \"#bd3786\"], [0.5555555555555556, \"#d8576b\"], [0.6666666666666666, \"#ed7953\"], [0.7777777777777778, \"#fb9f3a\"], [0.8888888888888888, \"#fdca26\"], [1.0, \"#f0f921\"]], \"type\": \"surface\"}], \"table\": [{\"cells\": {\"fill\": {\"color\": \"#EBF0F8\"}, \"line\": {\"color\": \"white\"}}, \"header\": {\"fill\": {\"color\": \"#C8D4E3\"}, \"line\": {\"color\": \"white\"}}, \"type\": \"table\"}]}, \"layout\": {\"annotationdefaults\": {\"arrowcolor\": \"#2a3f5f\", \"arrowhead\": 0, \"arrowwidth\": 1}, \"colorscale\": {\"diverging\": [[0, \"#8e0152\"], [0.1, \"#c51b7d\"], [0.2, \"#de77ae\"], [0.3, \"#f1b6da\"], [0.4, \"#fde0ef\"], [0.5, \"#f7f7f7\"], [0.6, \"#e6f5d0\"], [0.7, \"#b8e186\"], [0.8, \"#7fbc41\"], [0.9, \"#4d9221\"], [1, \"#276419\"]], \"sequential\": [[0.0, \"#0d0887\"], [0.1111111111111111, \"#46039f\"], [0.2222222222222222, \"#7201a8\"], [0.3333333333333333, \"#9c179e\"], [0.4444444444444444, \"#bd3786\"], [0.5555555555555556, \"#d8576b\"], [0.6666666666666666, \"#ed7953\"], [0.7777777777777778, \"#fb9f3a\"], [0.8888888888888888, \"#fdca26\"], [1.0, \"#f0f921\"]], \"sequentialminus\": [[0.0, \"#0d0887\"], [0.1111111111111111, \"#46039f\"], [0.2222222222222222, \"#7201a8\"], [0.3333333333333333, \"#9c179e\"], [0.4444444444444444, \"#bd3786\"], [0.5555555555555556, \"#d8576b\"], [0.6666666666666666, \"#ed7953\"], [0.7777777777777778, \"#fb9f3a\"], [0.8888888888888888, \"#fdca26\"], [1.0, \"#f0f921\"]]}, \"colorway\": [\"#636efa\", \"#EF553B\", \"#00cc96\", \"#ab63fa\", \"#FFA15A\", \"#19d3f3\", \"#FF6692\", \"#B6E880\", \"#FF97FF\", \"#FECB52\"], \"font\": {\"color\": \"#2a3f5f\"}, \"geo\": {\"bgcolor\": \"white\", \"lakecolor\": \"white\", \"landcolor\": \"#E5ECF6\", \"showlakes\": true, \"showland\": true, \"subunitcolor\": \"white\"}, \"hoverlabel\": {\"align\": \"left\"}, \"hovermode\": \"closest\", \"mapbox\": {\"style\": \"light\"}, \"paper_bgcolor\": \"white\", \"plot_bgcolor\": \"#E5ECF6\", \"polar\": {\"angularaxis\": {\"gridcolor\": \"white\", \"linecolor\": \"white\", \"ticks\": \"\"}, \"bgcolor\": \"#E5ECF6\", \"radialaxis\": {\"gridcolor\": \"white\", \"linecolor\": \"white\", \"ticks\": \"\"}}, \"scene\": {\"xaxis\": {\"backgroundcolor\": \"#E5ECF6\", \"gridcolor\": \"white\", \"gridwidth\": 2, \"linecolor\": \"white\", \"showbackground\": true, \"ticks\": \"\", \"zerolinecolor\": \"white\"}, \"yaxis\": {\"backgroundcolor\": \"#E5ECF6\", \"gridcolor\": \"white\", \"gridwidth\": 2, \"linecolor\": \"white\", \"showbackground\": true, \"ticks\": \"\", \"zerolinecolor\": \"white\"}, \"zaxis\": {\"backgroundcolor\": \"#E5ECF6\", \"gridcolor\": \"white\", \"gridwidth\": 2, \"linecolor\": \"white\", \"showbackground\": true, \"ticks\": \"\", \"zerolinecolor\": \"white\"}}, \"shapedefaults\": {\"line\": {\"color\": \"#2a3f5f\"}}, \"ternary\": {\"aaxis\": {\"gridcolor\": \"white\", \"linecolor\": \"white\", \"ticks\": \"\"}, \"baxis\": {\"gridcolor\": \"white\", \"linecolor\": \"white\", \"ticks\": \"\"}, \"bgcolor\": \"#E5ECF6\", \"caxis\": {\"gridcolor\": \"white\", \"linecolor\": \"white\", \"ticks\": \"\"}}, \"title\": {\"x\": 0.05}, \"xaxis\": {\"automargin\": true, \"gridcolor\": \"white\", \"linecolor\": \"white\", \"ticks\": \"\", \"zerolinecolor\": \"white\", \"zerolinewidth\": 2}, \"yaxis\": {\"automargin\": true, \"gridcolor\": \"white\", \"linecolor\": \"white\", \"ticks\": \"\", \"zerolinecolor\": \"white\", \"zerolinewidth\": 2}}}, \"title\": {\"text\": \"Variation(%) in the number of sales per quarter \"}},\n",
       "                        {\"responsive\": true}\n",
       "                    ).then(function(){\n",
       "                            \n",
       "var gd = document.getElementById('c53f3d78-3459-4a44-8abc-235623add311');\n",
       "var x = new MutationObserver(function (mutations, observer) {{\n",
       "        var display = window.getComputedStyle(gd).display;\n",
       "        if (!display || display === 'none') {{\n",
       "            console.log([gd, 'removed!']);\n",
       "            Plotly.purge(gd);\n",
       "            observer.disconnect();\n",
       "        }}\n",
       "}});\n",
       "\n",
       "// Listen for the removal of the full notebook cells\n",
       "var notebookContainer = gd.closest('#notebook-container');\n",
       "if (notebookContainer) {{\n",
       "    x.observe(notebookContainer, {childList: true});\n",
       "}}\n",
       "\n",
       "// Listen for the clearing of the current output cell\n",
       "var outputEl = gd.closest('.output');\n",
       "if (outputEl) {{\n",
       "    x.observe(outputEl, {childList: true});\n",
       "}}\n",
       "\n",
       "                        })\n",
       "                };\n",
       "                });\n",
       "            </script>\n",
       "        </div>"
      ]
     },
     "metadata": {},
     "output_type": "display_data"
    }
   ],
   "source": [
    "#Using the make_subplots module of Ploty, plotting  interactive Pie Charts of a grid size 1x1\n",
    "fig = make_subplots(rows=1, cols=1 , specs=[[{'type':'domain'}]])\n",
    "\n",
    "#Assigning the respective trace(pie) with the values and labels from the series and index list created above for each quarter\n",
    "\n",
    "fig.add_trace(go.Pie(labels=[\"Quarter 1\", \"Quarter 2\", \"Quarter 3\",\" Quarter 4\"], values=[a,b,c,d], name=\"Sales\"),\n",
    "              1, 1)\n",
    "#For donut like pies and all visi\n",
    "colors = ['gold', 'mediumturquoise', 'darkorange', 'lightgreen']\n",
    "\n",
    "fig.update_traces(hole=.3, hoverinfo=\"label+value+name\" ,  marker=dict(colors=colors, line=dict(color='#000000', width=2) ),\n",
    "                 textposition='inside')\n",
    "\n",
    "fig.update_layout(title_text=\"Variation(%) in the number of sales per quarter \")\n",
    "    \n",
    "    \n",
    "                 \n",
    "fig.show()\n"
   ]
  },
  {
   "cell_type": "markdown",
   "metadata": {},
   "source": [
    "# Extracting the data frames for each quarter of the year 2019 to do analysis on type of properties sold for each quarter(Snehitha's Part)"
   ]
  },
  {
   "cell_type": "code",
   "execution_count": 130,
   "metadata": {},
   "outputs": [],
   "source": [
    "# Extracting the data frames for each quarter of the year 2019 to do analysis on type of properties sold for each quarter\n",
    "\n",
    "#Extracting the  dateframe for Quarter 1( 01-01-2019 to 31-03-2019) and the required dataframes and series which will be used for plotting\n",
    "property_type_q1 = data_2019.loc[(data_2019['date_sold'] >=\"2019-01-01\") & (data_2019['date_sold'] <= \"2019-03-31\")]\n",
    "property_type_count1 = pd.DataFrame(property_type_q1[\"property_type\"].value_counts())\n",
    "property_type_count1.sort_values(by=['property_type'] , ascending=False)\n",
    "property_type_labels1= property_type_count1['property_type'].index \n",
    "property_type_values1 =property_type_count1['property_type'] \n",
    "\n",
    "\n",
    "#Extracting the  dateframe for Quarter 2( 2019-04-01 to 2019-06-30) and the required dataframes and series which will be used for plotting\n",
    "property_type_q2 = data_2019.loc[(data_2019['date_sold'] >=\"2019-04-01\") & (data_2019['date_sold'] <= \"2019-06-30\")]\n",
    "property_type_count2 = pd.DataFrame(property_type_q2[\"property_type\"].value_counts())\n",
    "property_type_count2.sort_values(by=['property_type'] , ascending=False)\n",
    "property_type_labels2= property_type_count2['property_type'].index \n",
    "property_type_values2 =property_type_count2['property_type'] \n",
    "\n",
    "#Extracting the  dateframe for Quarter 3( 2019-07-01 to 2019-09-30) and the required dataframes and series which will be used for plotting\n",
    "property_type_q3 = data_2019.loc[(data_2019['date_sold'] >=\"2019-07-01\") & (data_2019['date_sold'] <= \"2019-09-30\")]\n",
    "property_type_count3 = pd.DataFrame(property_type_q3[\"property_type\"].value_counts())\n",
    "property_type_count3.sort_values(by=['property_type'] , ascending=False)\n",
    "property_type_labels3= property_type_count3['property_type'].index \n",
    "property_type_values3 =property_type_count3['property_type'] \n",
    "\n",
    "#Extracting the  dateframe for Quarter 3( 2019-10-01 to 2019-12-31) and the required dataframes and series which will be used for plotting\n",
    "property_type_q4 = data_2019.loc[(data_2019['date_sold'] >= \" 2019-10-01\") & (data_2019['date_sold'] <= \"2019-12-31\")]\n",
    "property_type_count4 = pd.DataFrame(property_type_q4[\"property_type\"].value_counts())\n",
    "property_type_count4.sort_values(by=['property_type'] , ascending=False)\n",
    "property_type_labels4= property_type_count4['property_type'].index \n",
    "property_type_values4 =property_type_count4['property_type'] "
   ]
  },
  {
   "cell_type": "code",
   "execution_count": 131,
   "metadata": {
    "scrolled": false
   },
   "outputs": [
    {
     "data": {
      "application/vnd.plotly.v1+json": {
       "config": {
        "plotlyServerURL": "https://plot.ly"
       },
       "data": [
        {
         "type": "bar",
         "x": [
          "house",
          "unit",
          "townhouse"
         ],
         "xaxis": "x",
         "y": [
          20090,
          6401,
          1958
         ],
         "yaxis": "y"
        },
        {
         "type": "bar",
         "x": [
          "house",
          "unit",
          "townhouse"
         ],
         "xaxis": "x2",
         "y": [
          22014,
          6960,
          2226
         ],
         "yaxis": "y2"
        },
        {
         "type": "bar",
         "x": [
          "house",
          "unit",
          "townhouse"
         ],
         "xaxis": "x3",
         "y": [
          24845,
          8422,
          2968
         ],
         "yaxis": "y3"
        },
        {
         "type": "bar",
         "x": [
          "house",
          "unit",
          "townhouse"
         ],
         "xaxis": "x4",
         "y": [
          32926,
          11190,
          3793
         ],
         "yaxis": "y4"
        }
       ],
       "layout": {
        "annotations": [
         {
          "font": {
           "size": 16
          },
          "showarrow": false,
          "text": "Quarter 1",
          "x": 0.225,
          "xanchor": "center",
          "xref": "paper",
          "y": 1,
          "yanchor": "bottom",
          "yref": "paper"
         },
         {
          "font": {
           "size": 16
          },
          "showarrow": false,
          "text": "Quarter 2",
          "x": 0.775,
          "xanchor": "center",
          "xref": "paper",
          "y": 1,
          "yanchor": "bottom",
          "yref": "paper"
         },
         {
          "font": {
           "size": 16
          },
          "showarrow": false,
          "text": "Quarter 3",
          "x": 0.225,
          "xanchor": "center",
          "xref": "paper",
          "y": 0.375,
          "yanchor": "bottom",
          "yref": "paper"
         },
         {
          "font": {
           "size": 16
          },
          "showarrow": false,
          "text": "Quarter4",
          "x": 0.775,
          "xanchor": "center",
          "xref": "paper",
          "y": 0.375,
          "yanchor": "bottom",
          "yref": "paper"
         }
        ],
        "template": {
         "data": {
          "bar": [
           {
            "error_x": {
             "color": "#2a3f5f"
            },
            "error_y": {
             "color": "#2a3f5f"
            },
            "marker": {
             "line": {
              "color": "#E5ECF6",
              "width": 0.5
             }
            },
            "type": "bar"
           }
          ],
          "barpolar": [
           {
            "marker": {
             "line": {
              "color": "#E5ECF6",
              "width": 0.5
             }
            },
            "type": "barpolar"
           }
          ],
          "carpet": [
           {
            "aaxis": {
             "endlinecolor": "#2a3f5f",
             "gridcolor": "white",
             "linecolor": "white",
             "minorgridcolor": "white",
             "startlinecolor": "#2a3f5f"
            },
            "baxis": {
             "endlinecolor": "#2a3f5f",
             "gridcolor": "white",
             "linecolor": "white",
             "minorgridcolor": "white",
             "startlinecolor": "#2a3f5f"
            },
            "type": "carpet"
           }
          ],
          "choropleth": [
           {
            "colorbar": {
             "outlinewidth": 0,
             "ticks": ""
            },
            "type": "choropleth"
           }
          ],
          "contour": [
           {
            "colorbar": {
             "outlinewidth": 0,
             "ticks": ""
            },
            "colorscale": [
             [
              0,
              "#0d0887"
             ],
             [
              0.1111111111111111,
              "#46039f"
             ],
             [
              0.2222222222222222,
              "#7201a8"
             ],
             [
              0.3333333333333333,
              "#9c179e"
             ],
             [
              0.4444444444444444,
              "#bd3786"
             ],
             [
              0.5555555555555556,
              "#d8576b"
             ],
             [
              0.6666666666666666,
              "#ed7953"
             ],
             [
              0.7777777777777778,
              "#fb9f3a"
             ],
             [
              0.8888888888888888,
              "#fdca26"
             ],
             [
              1,
              "#f0f921"
             ]
            ],
            "type": "contour"
           }
          ],
          "contourcarpet": [
           {
            "colorbar": {
             "outlinewidth": 0,
             "ticks": ""
            },
            "type": "contourcarpet"
           }
          ],
          "heatmap": [
           {
            "colorbar": {
             "outlinewidth": 0,
             "ticks": ""
            },
            "colorscale": [
             [
              0,
              "#0d0887"
             ],
             [
              0.1111111111111111,
              "#46039f"
             ],
             [
              0.2222222222222222,
              "#7201a8"
             ],
             [
              0.3333333333333333,
              "#9c179e"
             ],
             [
              0.4444444444444444,
              "#bd3786"
             ],
             [
              0.5555555555555556,
              "#d8576b"
             ],
             [
              0.6666666666666666,
              "#ed7953"
             ],
             [
              0.7777777777777778,
              "#fb9f3a"
             ],
             [
              0.8888888888888888,
              "#fdca26"
             ],
             [
              1,
              "#f0f921"
             ]
            ],
            "type": "heatmap"
           }
          ],
          "heatmapgl": [
           {
            "colorbar": {
             "outlinewidth": 0,
             "ticks": ""
            },
            "colorscale": [
             [
              0,
              "#0d0887"
             ],
             [
              0.1111111111111111,
              "#46039f"
             ],
             [
              0.2222222222222222,
              "#7201a8"
             ],
             [
              0.3333333333333333,
              "#9c179e"
             ],
             [
              0.4444444444444444,
              "#bd3786"
             ],
             [
              0.5555555555555556,
              "#d8576b"
             ],
             [
              0.6666666666666666,
              "#ed7953"
             ],
             [
              0.7777777777777778,
              "#fb9f3a"
             ],
             [
              0.8888888888888888,
              "#fdca26"
             ],
             [
              1,
              "#f0f921"
             ]
            ],
            "type": "heatmapgl"
           }
          ],
          "histogram": [
           {
            "marker": {
             "colorbar": {
              "outlinewidth": 0,
              "ticks": ""
             }
            },
            "type": "histogram"
           }
          ],
          "histogram2d": [
           {
            "colorbar": {
             "outlinewidth": 0,
             "ticks": ""
            },
            "colorscale": [
             [
              0,
              "#0d0887"
             ],
             [
              0.1111111111111111,
              "#46039f"
             ],
             [
              0.2222222222222222,
              "#7201a8"
             ],
             [
              0.3333333333333333,
              "#9c179e"
             ],
             [
              0.4444444444444444,
              "#bd3786"
             ],
             [
              0.5555555555555556,
              "#d8576b"
             ],
             [
              0.6666666666666666,
              "#ed7953"
             ],
             [
              0.7777777777777778,
              "#fb9f3a"
             ],
             [
              0.8888888888888888,
              "#fdca26"
             ],
             [
              1,
              "#f0f921"
             ]
            ],
            "type": "histogram2d"
           }
          ],
          "histogram2dcontour": [
           {
            "colorbar": {
             "outlinewidth": 0,
             "ticks": ""
            },
            "colorscale": [
             [
              0,
              "#0d0887"
             ],
             [
              0.1111111111111111,
              "#46039f"
             ],
             [
              0.2222222222222222,
              "#7201a8"
             ],
             [
              0.3333333333333333,
              "#9c179e"
             ],
             [
              0.4444444444444444,
              "#bd3786"
             ],
             [
              0.5555555555555556,
              "#d8576b"
             ],
             [
              0.6666666666666666,
              "#ed7953"
             ],
             [
              0.7777777777777778,
              "#fb9f3a"
             ],
             [
              0.8888888888888888,
              "#fdca26"
             ],
             [
              1,
              "#f0f921"
             ]
            ],
            "type": "histogram2dcontour"
           }
          ],
          "mesh3d": [
           {
            "colorbar": {
             "outlinewidth": 0,
             "ticks": ""
            },
            "type": "mesh3d"
           }
          ],
          "parcoords": [
           {
            "line": {
             "colorbar": {
              "outlinewidth": 0,
              "ticks": ""
             }
            },
            "type": "parcoords"
           }
          ],
          "scatter": [
           {
            "marker": {
             "colorbar": {
              "outlinewidth": 0,
              "ticks": ""
             }
            },
            "type": "scatter"
           }
          ],
          "scatter3d": [
           {
            "line": {
             "colorbar": {
              "outlinewidth": 0,
              "ticks": ""
             }
            },
            "marker": {
             "colorbar": {
              "outlinewidth": 0,
              "ticks": ""
             }
            },
            "type": "scatter3d"
           }
          ],
          "scattercarpet": [
           {
            "marker": {
             "colorbar": {
              "outlinewidth": 0,
              "ticks": ""
             }
            },
            "type": "scattercarpet"
           }
          ],
          "scattergeo": [
           {
            "marker": {
             "colorbar": {
              "outlinewidth": 0,
              "ticks": ""
             }
            },
            "type": "scattergeo"
           }
          ],
          "scattergl": [
           {
            "marker": {
             "colorbar": {
              "outlinewidth": 0,
              "ticks": ""
             }
            },
            "type": "scattergl"
           }
          ],
          "scattermapbox": [
           {
            "marker": {
             "colorbar": {
              "outlinewidth": 0,
              "ticks": ""
             }
            },
            "type": "scattermapbox"
           }
          ],
          "scatterpolar": [
           {
            "marker": {
             "colorbar": {
              "outlinewidth": 0,
              "ticks": ""
             }
            },
            "type": "scatterpolar"
           }
          ],
          "scatterpolargl": [
           {
            "marker": {
             "colorbar": {
              "outlinewidth": 0,
              "ticks": ""
             }
            },
            "type": "scatterpolargl"
           }
          ],
          "scatterternary": [
           {
            "marker": {
             "colorbar": {
              "outlinewidth": 0,
              "ticks": ""
             }
            },
            "type": "scatterternary"
           }
          ],
          "surface": [
           {
            "colorbar": {
             "outlinewidth": 0,
             "ticks": ""
            },
            "colorscale": [
             [
              0,
              "#0d0887"
             ],
             [
              0.1111111111111111,
              "#46039f"
             ],
             [
              0.2222222222222222,
              "#7201a8"
             ],
             [
              0.3333333333333333,
              "#9c179e"
             ],
             [
              0.4444444444444444,
              "#bd3786"
             ],
             [
              0.5555555555555556,
              "#d8576b"
             ],
             [
              0.6666666666666666,
              "#ed7953"
             ],
             [
              0.7777777777777778,
              "#fb9f3a"
             ],
             [
              0.8888888888888888,
              "#fdca26"
             ],
             [
              1,
              "#f0f921"
             ]
            ],
            "type": "surface"
           }
          ],
          "table": [
           {
            "cells": {
             "fill": {
              "color": "#EBF0F8"
             },
             "line": {
              "color": "white"
             }
            },
            "header": {
             "fill": {
              "color": "#C8D4E3"
             },
             "line": {
              "color": "white"
             }
            },
            "type": "table"
           }
          ]
         },
         "layout": {
          "annotationdefaults": {
           "arrowcolor": "#2a3f5f",
           "arrowhead": 0,
           "arrowwidth": 1
          },
          "colorscale": {
           "diverging": [
            [
             0,
             "#8e0152"
            ],
            [
             0.1,
             "#c51b7d"
            ],
            [
             0.2,
             "#de77ae"
            ],
            [
             0.3,
             "#f1b6da"
            ],
            [
             0.4,
             "#fde0ef"
            ],
            [
             0.5,
             "#f7f7f7"
            ],
            [
             0.6,
             "#e6f5d0"
            ],
            [
             0.7,
             "#b8e186"
            ],
            [
             0.8,
             "#7fbc41"
            ],
            [
             0.9,
             "#4d9221"
            ],
            [
             1,
             "#276419"
            ]
           ],
           "sequential": [
            [
             0,
             "#0d0887"
            ],
            [
             0.1111111111111111,
             "#46039f"
            ],
            [
             0.2222222222222222,
             "#7201a8"
            ],
            [
             0.3333333333333333,
             "#9c179e"
            ],
            [
             0.4444444444444444,
             "#bd3786"
            ],
            [
             0.5555555555555556,
             "#d8576b"
            ],
            [
             0.6666666666666666,
             "#ed7953"
            ],
            [
             0.7777777777777778,
             "#fb9f3a"
            ],
            [
             0.8888888888888888,
             "#fdca26"
            ],
            [
             1,
             "#f0f921"
            ]
           ],
           "sequentialminus": [
            [
             0,
             "#0d0887"
            ],
            [
             0.1111111111111111,
             "#46039f"
            ],
            [
             0.2222222222222222,
             "#7201a8"
            ],
            [
             0.3333333333333333,
             "#9c179e"
            ],
            [
             0.4444444444444444,
             "#bd3786"
            ],
            [
             0.5555555555555556,
             "#d8576b"
            ],
            [
             0.6666666666666666,
             "#ed7953"
            ],
            [
             0.7777777777777778,
             "#fb9f3a"
            ],
            [
             0.8888888888888888,
             "#fdca26"
            ],
            [
             1,
             "#f0f921"
            ]
           ]
          },
          "colorway": [
           "#636efa",
           "#EF553B",
           "#00cc96",
           "#ab63fa",
           "#FFA15A",
           "#19d3f3",
           "#FF6692",
           "#B6E880",
           "#FF97FF",
           "#FECB52"
          ],
          "font": {
           "color": "#2a3f5f"
          },
          "geo": {
           "bgcolor": "white",
           "lakecolor": "white",
           "landcolor": "#E5ECF6",
           "showlakes": true,
           "showland": true,
           "subunitcolor": "white"
          },
          "hoverlabel": {
           "align": "left"
          },
          "hovermode": "closest",
          "mapbox": {
           "style": "light"
          },
          "paper_bgcolor": "white",
          "plot_bgcolor": "#E5ECF6",
          "polar": {
           "angularaxis": {
            "gridcolor": "white",
            "linecolor": "white",
            "ticks": ""
           },
           "bgcolor": "#E5ECF6",
           "radialaxis": {
            "gridcolor": "white",
            "linecolor": "white",
            "ticks": ""
           }
          },
          "scene": {
           "xaxis": {
            "backgroundcolor": "#E5ECF6",
            "gridcolor": "white",
            "gridwidth": 2,
            "linecolor": "white",
            "showbackground": true,
            "ticks": "",
            "zerolinecolor": "white"
           },
           "yaxis": {
            "backgroundcolor": "#E5ECF6",
            "gridcolor": "white",
            "gridwidth": 2,
            "linecolor": "white",
            "showbackground": true,
            "ticks": "",
            "zerolinecolor": "white"
           },
           "zaxis": {
            "backgroundcolor": "#E5ECF6",
            "gridcolor": "white",
            "gridwidth": 2,
            "linecolor": "white",
            "showbackground": true,
            "ticks": "",
            "zerolinecolor": "white"
           }
          },
          "shapedefaults": {
           "line": {
            "color": "#2a3f5f"
           }
          },
          "ternary": {
           "aaxis": {
            "gridcolor": "white",
            "linecolor": "white",
            "ticks": ""
           },
           "baxis": {
            "gridcolor": "white",
            "linecolor": "white",
            "ticks": ""
           },
           "bgcolor": "#E5ECF6",
           "caxis": {
            "gridcolor": "white",
            "linecolor": "white",
            "ticks": ""
           }
          },
          "title": {
           "x": 0.05
          },
          "xaxis": {
           "automargin": true,
           "gridcolor": "white",
           "linecolor": "white",
           "ticks": "",
           "zerolinecolor": "white",
           "zerolinewidth": 2
          },
          "yaxis": {
           "automargin": true,
           "gridcolor": "white",
           "linecolor": "white",
           "ticks": "",
           "zerolinecolor": "white",
           "zerolinewidth": 2
          }
         }
        },
        "title": {
         "text": "Sales depending on Property type for each quarter of 2019 "
        },
        "xaxis": {
         "anchor": "y",
         "domain": [
          0,
          0.45
         ]
        },
        "xaxis2": {
         "anchor": "y2",
         "domain": [
          0.55,
          1
         ]
        },
        "xaxis3": {
         "anchor": "y3",
         "domain": [
          0,
          0.45
         ]
        },
        "xaxis4": {
         "anchor": "y4",
         "domain": [
          0.55,
          1
         ]
        },
        "yaxis": {
         "anchor": "x",
         "domain": [
          0.625,
          1
         ]
        },
        "yaxis2": {
         "anchor": "x2",
         "domain": [
          0.625,
          1
         ]
        },
        "yaxis3": {
         "anchor": "x3",
         "domain": [
          0,
          0.375
         ]
        },
        "yaxis4": {
         "anchor": "x4",
         "domain": [
          0,
          0.375
         ]
        }
       }
      },
      "text/html": [
       "<div>\n",
       "        \n",
       "        \n",
       "            <div id=\"b31e07a7-a608-4f96-8a99-cf12641b68be\" class=\"plotly-graph-div\" style=\"height:525px; width:100%;\"></div>\n",
       "            <script type=\"text/javascript\">\n",
       "                require([\"plotly\"], function(Plotly) {\n",
       "                    window.PLOTLYENV=window.PLOTLYENV || {};\n",
       "                    \n",
       "                if (document.getElementById(\"b31e07a7-a608-4f96-8a99-cf12641b68be\")) {\n",
       "                    Plotly.newPlot(\n",
       "                        'b31e07a7-a608-4f96-8a99-cf12641b68be',\n",
       "                        [{\"type\": \"bar\", \"x\": [\"house\", \"unit\", \"townhouse\"], \"xaxis\": \"x\", \"y\": [20090, 6401, 1958], \"yaxis\": \"y\"}, {\"type\": \"bar\", \"x\": [\"house\", \"unit\", \"townhouse\"], \"xaxis\": \"x2\", \"y\": [22014, 6960, 2226], \"yaxis\": \"y2\"}, {\"type\": \"bar\", \"x\": [\"house\", \"unit\", \"townhouse\"], \"xaxis\": \"x3\", \"y\": [24845, 8422, 2968], \"yaxis\": \"y3\"}, {\"type\": \"bar\", \"x\": [\"house\", \"unit\", \"townhouse\"], \"xaxis\": \"x4\", \"y\": [32926, 11190, 3793], \"yaxis\": \"y4\"}],\n",
       "                        {\"annotations\": [{\"font\": {\"size\": 16}, \"showarrow\": false, \"text\": \"Quarter 1\", \"x\": 0.225, \"xanchor\": \"center\", \"xref\": \"paper\", \"y\": 1.0, \"yanchor\": \"bottom\", \"yref\": \"paper\"}, {\"font\": {\"size\": 16}, \"showarrow\": false, \"text\": \"Quarter 2\", \"x\": 0.775, \"xanchor\": \"center\", \"xref\": \"paper\", \"y\": 1.0, \"yanchor\": \"bottom\", \"yref\": \"paper\"}, {\"font\": {\"size\": 16}, \"showarrow\": false, \"text\": \"Quarter 3\", \"x\": 0.225, \"xanchor\": \"center\", \"xref\": \"paper\", \"y\": 0.375, \"yanchor\": \"bottom\", \"yref\": \"paper\"}, {\"font\": {\"size\": 16}, \"showarrow\": false, \"text\": \"Quarter4\", \"x\": 0.775, \"xanchor\": \"center\", \"xref\": \"paper\", \"y\": 0.375, \"yanchor\": \"bottom\", \"yref\": \"paper\"}], \"template\": {\"data\": {\"bar\": [{\"error_x\": {\"color\": \"#2a3f5f\"}, \"error_y\": {\"color\": \"#2a3f5f\"}, \"marker\": {\"line\": {\"color\": \"#E5ECF6\", \"width\": 0.5}}, \"type\": \"bar\"}], \"barpolar\": [{\"marker\": {\"line\": {\"color\": \"#E5ECF6\", \"width\": 0.5}}, \"type\": \"barpolar\"}], \"carpet\": [{\"aaxis\": {\"endlinecolor\": \"#2a3f5f\", \"gridcolor\": \"white\", \"linecolor\": \"white\", \"minorgridcolor\": \"white\", \"startlinecolor\": \"#2a3f5f\"}, \"baxis\": {\"endlinecolor\": \"#2a3f5f\", \"gridcolor\": \"white\", \"linecolor\": \"white\", \"minorgridcolor\": \"white\", \"startlinecolor\": \"#2a3f5f\"}, \"type\": \"carpet\"}], \"choropleth\": [{\"colorbar\": {\"outlinewidth\": 0, \"ticks\": \"\"}, \"type\": \"choropleth\"}], \"contour\": [{\"colorbar\": {\"outlinewidth\": 0, \"ticks\": \"\"}, \"colorscale\": [[0.0, \"#0d0887\"], [0.1111111111111111, \"#46039f\"], [0.2222222222222222, \"#7201a8\"], [0.3333333333333333, \"#9c179e\"], [0.4444444444444444, \"#bd3786\"], [0.5555555555555556, \"#d8576b\"], [0.6666666666666666, \"#ed7953\"], [0.7777777777777778, \"#fb9f3a\"], [0.8888888888888888, \"#fdca26\"], [1.0, \"#f0f921\"]], \"type\": \"contour\"}], \"contourcarpet\": [{\"colorbar\": {\"outlinewidth\": 0, \"ticks\": \"\"}, \"type\": \"contourcarpet\"}], \"heatmap\": [{\"colorbar\": {\"outlinewidth\": 0, \"ticks\": \"\"}, \"colorscale\": [[0.0, \"#0d0887\"], [0.1111111111111111, \"#46039f\"], [0.2222222222222222, \"#7201a8\"], [0.3333333333333333, \"#9c179e\"], [0.4444444444444444, \"#bd3786\"], [0.5555555555555556, \"#d8576b\"], [0.6666666666666666, \"#ed7953\"], [0.7777777777777778, \"#fb9f3a\"], [0.8888888888888888, \"#fdca26\"], [1.0, \"#f0f921\"]], \"type\": \"heatmap\"}], \"heatmapgl\": [{\"colorbar\": {\"outlinewidth\": 0, \"ticks\": \"\"}, \"colorscale\": [[0.0, \"#0d0887\"], [0.1111111111111111, \"#46039f\"], [0.2222222222222222, \"#7201a8\"], [0.3333333333333333, \"#9c179e\"], [0.4444444444444444, \"#bd3786\"], [0.5555555555555556, \"#d8576b\"], [0.6666666666666666, \"#ed7953\"], [0.7777777777777778, \"#fb9f3a\"], [0.8888888888888888, \"#fdca26\"], [1.0, \"#f0f921\"]], \"type\": \"heatmapgl\"}], \"histogram\": [{\"marker\": {\"colorbar\": {\"outlinewidth\": 0, \"ticks\": \"\"}}, \"type\": \"histogram\"}], \"histogram2d\": [{\"colorbar\": {\"outlinewidth\": 0, \"ticks\": \"\"}, \"colorscale\": [[0.0, \"#0d0887\"], [0.1111111111111111, \"#46039f\"], [0.2222222222222222, \"#7201a8\"], [0.3333333333333333, \"#9c179e\"], [0.4444444444444444, \"#bd3786\"], [0.5555555555555556, \"#d8576b\"], [0.6666666666666666, \"#ed7953\"], [0.7777777777777778, \"#fb9f3a\"], [0.8888888888888888, \"#fdca26\"], [1.0, \"#f0f921\"]], \"type\": \"histogram2d\"}], \"histogram2dcontour\": [{\"colorbar\": {\"outlinewidth\": 0, \"ticks\": \"\"}, \"colorscale\": [[0.0, \"#0d0887\"], [0.1111111111111111, \"#46039f\"], [0.2222222222222222, \"#7201a8\"], [0.3333333333333333, \"#9c179e\"], [0.4444444444444444, \"#bd3786\"], [0.5555555555555556, \"#d8576b\"], [0.6666666666666666, \"#ed7953\"], [0.7777777777777778, \"#fb9f3a\"], [0.8888888888888888, \"#fdca26\"], [1.0, \"#f0f921\"]], \"type\": \"histogram2dcontour\"}], \"mesh3d\": [{\"colorbar\": {\"outlinewidth\": 0, \"ticks\": \"\"}, \"type\": \"mesh3d\"}], \"parcoords\": [{\"line\": {\"colorbar\": {\"outlinewidth\": 0, \"ticks\": \"\"}}, \"type\": \"parcoords\"}], \"scatter\": [{\"marker\": {\"colorbar\": {\"outlinewidth\": 0, \"ticks\": \"\"}}, \"type\": \"scatter\"}], \"scatter3d\": [{\"line\": {\"colorbar\": {\"outlinewidth\": 0, \"ticks\": \"\"}}, \"marker\": {\"colorbar\": {\"outlinewidth\": 0, \"ticks\": \"\"}}, \"type\": \"scatter3d\"}], \"scattercarpet\": [{\"marker\": {\"colorbar\": {\"outlinewidth\": 0, \"ticks\": \"\"}}, \"type\": \"scattercarpet\"}], \"scattergeo\": [{\"marker\": {\"colorbar\": {\"outlinewidth\": 0, \"ticks\": \"\"}}, \"type\": \"scattergeo\"}], \"scattergl\": [{\"marker\": {\"colorbar\": {\"outlinewidth\": 0, \"ticks\": \"\"}}, \"type\": \"scattergl\"}], \"scattermapbox\": [{\"marker\": {\"colorbar\": {\"outlinewidth\": 0, \"ticks\": \"\"}}, \"type\": \"scattermapbox\"}], \"scatterpolar\": [{\"marker\": {\"colorbar\": {\"outlinewidth\": 0, \"ticks\": \"\"}}, \"type\": \"scatterpolar\"}], \"scatterpolargl\": [{\"marker\": {\"colorbar\": {\"outlinewidth\": 0, \"ticks\": \"\"}}, \"type\": \"scatterpolargl\"}], \"scatterternary\": [{\"marker\": {\"colorbar\": {\"outlinewidth\": 0, \"ticks\": \"\"}}, \"type\": \"scatterternary\"}], \"surface\": [{\"colorbar\": {\"outlinewidth\": 0, \"ticks\": \"\"}, \"colorscale\": [[0.0, \"#0d0887\"], [0.1111111111111111, \"#46039f\"], [0.2222222222222222, \"#7201a8\"], [0.3333333333333333, \"#9c179e\"], [0.4444444444444444, \"#bd3786\"], [0.5555555555555556, \"#d8576b\"], [0.6666666666666666, \"#ed7953\"], [0.7777777777777778, \"#fb9f3a\"], [0.8888888888888888, \"#fdca26\"], [1.0, \"#f0f921\"]], \"type\": \"surface\"}], \"table\": [{\"cells\": {\"fill\": {\"color\": \"#EBF0F8\"}, \"line\": {\"color\": \"white\"}}, \"header\": {\"fill\": {\"color\": \"#C8D4E3\"}, \"line\": {\"color\": \"white\"}}, \"type\": \"table\"}]}, \"layout\": {\"annotationdefaults\": {\"arrowcolor\": \"#2a3f5f\", \"arrowhead\": 0, \"arrowwidth\": 1}, \"colorscale\": {\"diverging\": [[0, \"#8e0152\"], [0.1, \"#c51b7d\"], [0.2, \"#de77ae\"], [0.3, \"#f1b6da\"], [0.4, \"#fde0ef\"], [0.5, \"#f7f7f7\"], [0.6, \"#e6f5d0\"], [0.7, \"#b8e186\"], [0.8, \"#7fbc41\"], [0.9, \"#4d9221\"], [1, \"#276419\"]], \"sequential\": [[0.0, \"#0d0887\"], [0.1111111111111111, \"#46039f\"], [0.2222222222222222, \"#7201a8\"], [0.3333333333333333, \"#9c179e\"], [0.4444444444444444, \"#bd3786\"], [0.5555555555555556, \"#d8576b\"], [0.6666666666666666, \"#ed7953\"], [0.7777777777777778, \"#fb9f3a\"], [0.8888888888888888, \"#fdca26\"], [1.0, \"#f0f921\"]], \"sequentialminus\": [[0.0, \"#0d0887\"], [0.1111111111111111, \"#46039f\"], [0.2222222222222222, \"#7201a8\"], [0.3333333333333333, \"#9c179e\"], [0.4444444444444444, \"#bd3786\"], [0.5555555555555556, \"#d8576b\"], [0.6666666666666666, \"#ed7953\"], [0.7777777777777778, \"#fb9f3a\"], [0.8888888888888888, \"#fdca26\"], [1.0, \"#f0f921\"]]}, \"colorway\": [\"#636efa\", \"#EF553B\", \"#00cc96\", \"#ab63fa\", \"#FFA15A\", \"#19d3f3\", \"#FF6692\", \"#B6E880\", \"#FF97FF\", \"#FECB52\"], \"font\": {\"color\": \"#2a3f5f\"}, \"geo\": {\"bgcolor\": \"white\", \"lakecolor\": \"white\", \"landcolor\": \"#E5ECF6\", \"showlakes\": true, \"showland\": true, \"subunitcolor\": \"white\"}, \"hoverlabel\": {\"align\": \"left\"}, \"hovermode\": \"closest\", \"mapbox\": {\"style\": \"light\"}, \"paper_bgcolor\": \"white\", \"plot_bgcolor\": \"#E5ECF6\", \"polar\": {\"angularaxis\": {\"gridcolor\": \"white\", \"linecolor\": \"white\", \"ticks\": \"\"}, \"bgcolor\": \"#E5ECF6\", \"radialaxis\": {\"gridcolor\": \"white\", \"linecolor\": \"white\", \"ticks\": \"\"}}, \"scene\": {\"xaxis\": {\"backgroundcolor\": \"#E5ECF6\", \"gridcolor\": \"white\", \"gridwidth\": 2, \"linecolor\": \"white\", \"showbackground\": true, \"ticks\": \"\", \"zerolinecolor\": \"white\"}, \"yaxis\": {\"backgroundcolor\": \"#E5ECF6\", \"gridcolor\": \"white\", \"gridwidth\": 2, \"linecolor\": \"white\", \"showbackground\": true, \"ticks\": \"\", \"zerolinecolor\": \"white\"}, \"zaxis\": {\"backgroundcolor\": \"#E5ECF6\", \"gridcolor\": \"white\", \"gridwidth\": 2, \"linecolor\": \"white\", \"showbackground\": true, \"ticks\": \"\", \"zerolinecolor\": \"white\"}}, \"shapedefaults\": {\"line\": {\"color\": \"#2a3f5f\"}}, \"ternary\": {\"aaxis\": {\"gridcolor\": \"white\", \"linecolor\": \"white\", \"ticks\": \"\"}, \"baxis\": {\"gridcolor\": \"white\", \"linecolor\": \"white\", \"ticks\": \"\"}, \"bgcolor\": \"#E5ECF6\", \"caxis\": {\"gridcolor\": \"white\", \"linecolor\": \"white\", \"ticks\": \"\"}}, \"title\": {\"x\": 0.05}, \"xaxis\": {\"automargin\": true, \"gridcolor\": \"white\", \"linecolor\": \"white\", \"ticks\": \"\", \"zerolinecolor\": \"white\", \"zerolinewidth\": 2}, \"yaxis\": {\"automargin\": true, \"gridcolor\": \"white\", \"linecolor\": \"white\", \"ticks\": \"\", \"zerolinecolor\": \"white\", \"zerolinewidth\": 2}}}, \"title\": {\"text\": \"Sales depending on Property type for each quarter of 2019 \"}, \"xaxis\": {\"anchor\": \"y\", \"domain\": [0.0, 0.45]}, \"xaxis2\": {\"anchor\": \"y2\", \"domain\": [0.55, 1.0]}, \"xaxis3\": {\"anchor\": \"y3\", \"domain\": [0.0, 0.45]}, \"xaxis4\": {\"anchor\": \"y4\", \"domain\": [0.55, 1.0]}, \"yaxis\": {\"anchor\": \"x\", \"domain\": [0.625, 1.0]}, \"yaxis2\": {\"anchor\": \"x2\", \"domain\": [0.625, 1.0]}, \"yaxis3\": {\"anchor\": \"x3\", \"domain\": [0.0, 0.375]}, \"yaxis4\": {\"anchor\": \"x4\", \"domain\": [0.0, 0.375]}},\n",
       "                        {\"responsive\": true}\n",
       "                    ).then(function(){\n",
       "                            \n",
       "var gd = document.getElementById('b31e07a7-a608-4f96-8a99-cf12641b68be');\n",
       "var x = new MutationObserver(function (mutations, observer) {{\n",
       "        var display = window.getComputedStyle(gd).display;\n",
       "        if (!display || display === 'none') {{\n",
       "            console.log([gd, 'removed!']);\n",
       "            Plotly.purge(gd);\n",
       "            observer.disconnect();\n",
       "        }}\n",
       "}});\n",
       "\n",
       "// Listen for the removal of the full notebook cells\n",
       "var notebookContainer = gd.closest('#notebook-container');\n",
       "if (notebookContainer) {{\n",
       "    x.observe(notebookContainer, {childList: true});\n",
       "}}\n",
       "\n",
       "// Listen for the clearing of the current output cell\n",
       "var outputEl = gd.closest('.output');\n",
       "if (outputEl) {{\n",
       "    x.observe(outputEl, {childList: true});\n",
       "}}\n",
       "\n",
       "                        })\n",
       "                };\n",
       "                });\n",
       "            </script>\n",
       "        </div>"
      ]
     },
     "metadata": {},
     "output_type": "display_data"
    }
   ],
   "source": [
    "#Plotting a interactive bar using make_subplots module of plotly of grid 2x2\n",
    "\n",
    "fig = make_subplots(rows=2, cols=2 , \n",
    "                   subplot_titles=(\"Quarter 1\", \"Quarter 2\", \"Quarter 3\", \"Quarter4\"))\n",
    "\n",
    "#Assigning the respective trace(Bar) with the values and labels from the series and index list created above for each quarter\n",
    "\n",
    "fig.add_trace(go.Bar(x=property_type_labels1, y=property_type_values1),                 \n",
    "              1, 1)\n",
    "fig.add_trace(go.Bar(x=property_type_labels2, y=property_type_values2),                 \n",
    "              1, 2)\n",
    "fig.add_trace(go.Bar(x=property_type_labels3, y=property_type_values3),                 \n",
    "              2, 1)\n",
    "fig.add_trace(go.Bar(x=property_type_labels4, y=property_type_values4),                 \n",
    "              2, 2)\n",
    "#Updating the layout with title\n",
    "fig.update_layout(title_text=\"Sales depending on Property type for each quarter of 2019 \")"
   ]
  },
  {
   "cell_type": "markdown",
   "metadata": {},
   "source": [
    "# Analysing prices for 3-Bedroom and 4-Bedroom properties in the city with most number of sales and suburb with most number of properties sold (Snehitha's Part)"
   ]
  },
  {
   "cell_type": "code",
   "execution_count": 132,
   "metadata": {},
   "outputs": [
    {
     "data": {
      "text/html": [
       "<div>\n",
       "<style scoped>\n",
       "    .dataframe tbody tr th:only-of-type {\n",
       "        vertical-align: middle;\n",
       "    }\n",
       "\n",
       "    .dataframe tbody tr th {\n",
       "        vertical-align: top;\n",
       "    }\n",
       "\n",
       "    .dataframe thead th {\n",
       "        text-align: right;\n",
       "    }\n",
       "</style>\n",
       "<table border=\"1\" class=\"dataframe\">\n",
       "  <thead>\n",
       "    <tr style=\"text-align: right;\">\n",
       "      <th></th>\n",
       "      <th>date_sold</th>\n",
       "      <th>price</th>\n",
       "      <th>suburb</th>\n",
       "      <th>city_name</th>\n",
       "      <th>state</th>\n",
       "      <th>lat</th>\n",
       "      <th>lon</th>\n",
       "      <th>bedrooms</th>\n",
       "      <th>property_type</th>\n",
       "      <th>loc_pid</th>\n",
       "      <th>lga_pid</th>\n",
       "    </tr>\n",
       "  </thead>\n",
       "  <tbody>\n",
       "    <tr>\n",
       "      <th>51691</th>\n",
       "      <td>2018-09-18</td>\n",
       "      <td>390000.0</td>\n",
       "      <td>Pakenham</td>\n",
       "      <td>Melbourne</td>\n",
       "      <td>VIC</td>\n",
       "      <td>-38.071377</td>\n",
       "      <td>145.467437</td>\n",
       "      <td>3</td>\n",
       "      <td>unit</td>\n",
       "      <td>VIC2023</td>\n",
       "      <td>VIC161</td>\n",
       "    </tr>\n",
       "    <tr>\n",
       "      <th>51693</th>\n",
       "      <td>2018-09-26</td>\n",
       "      <td>455200.0</td>\n",
       "      <td>Pakenham</td>\n",
       "      <td>Melbourne</td>\n",
       "      <td>VIC</td>\n",
       "      <td>-38.062642</td>\n",
       "      <td>145.488504</td>\n",
       "      <td>3</td>\n",
       "      <td>unit</td>\n",
       "      <td>VIC2023</td>\n",
       "      <td>VIC161</td>\n",
       "    </tr>\n",
       "    <tr>\n",
       "      <th>51698</th>\n",
       "      <td>2018-10-17</td>\n",
       "      <td>510000.0</td>\n",
       "      <td>Pakenham</td>\n",
       "      <td>Melbourne</td>\n",
       "      <td>VIC</td>\n",
       "      <td>-38.056892</td>\n",
       "      <td>145.441886</td>\n",
       "      <td>3</td>\n",
       "      <td>unit</td>\n",
       "      <td>VIC2023</td>\n",
       "      <td>VIC161</td>\n",
       "    </tr>\n",
       "    <tr>\n",
       "      <th>51699</th>\n",
       "      <td>2018-10-19</td>\n",
       "      <td>400000.0</td>\n",
       "      <td>Pakenham</td>\n",
       "      <td>Melbourne</td>\n",
       "      <td>VIC</td>\n",
       "      <td>-38.056231</td>\n",
       "      <td>145.493485</td>\n",
       "      <td>3</td>\n",
       "      <td>unit</td>\n",
       "      <td>VIC2023</td>\n",
       "      <td>VIC161</td>\n",
       "    </tr>\n",
       "    <tr>\n",
       "      <th>51700</th>\n",
       "      <td>2018-11-01</td>\n",
       "      <td>360000.0</td>\n",
       "      <td>Pakenham</td>\n",
       "      <td>Melbourne</td>\n",
       "      <td>VIC</td>\n",
       "      <td>-38.056805</td>\n",
       "      <td>145.473083</td>\n",
       "      <td>3</td>\n",
       "      <td>unit</td>\n",
       "      <td>VIC2023</td>\n",
       "      <td>VIC161</td>\n",
       "    </tr>\n",
       "    <tr>\n",
       "      <th>...</th>\n",
       "      <td>...</td>\n",
       "      <td>...</td>\n",
       "      <td>...</td>\n",
       "      <td>...</td>\n",
       "      <td>...</td>\n",
       "      <td>...</td>\n",
       "      <td>...</td>\n",
       "      <td>...</td>\n",
       "      <td>...</td>\n",
       "      <td>...</td>\n",
       "      <td>...</td>\n",
       "    </tr>\n",
       "    <tr>\n",
       "      <th>310928</th>\n",
       "      <td>2020-03-03</td>\n",
       "      <td>415000.0</td>\n",
       "      <td>Pakenham</td>\n",
       "      <td>Melbourne</td>\n",
       "      <td>VIC</td>\n",
       "      <td>-38.064011</td>\n",
       "      <td>145.446151</td>\n",
       "      <td>3</td>\n",
       "      <td>townhouse</td>\n",
       "      <td>VIC2023</td>\n",
       "      <td>VIC161</td>\n",
       "    </tr>\n",
       "    <tr>\n",
       "      <th>310932</th>\n",
       "      <td>2020-04-14</td>\n",
       "      <td>423000.0</td>\n",
       "      <td>Pakenham</td>\n",
       "      <td>Melbourne</td>\n",
       "      <td>VIC</td>\n",
       "      <td>-38.067800</td>\n",
       "      <td>145.471292</td>\n",
       "      <td>3</td>\n",
       "      <td>townhouse</td>\n",
       "      <td>VIC2023</td>\n",
       "      <td>VIC161</td>\n",
       "    </tr>\n",
       "    <tr>\n",
       "      <th>310933</th>\n",
       "      <td>2020-04-14</td>\n",
       "      <td>475000.0</td>\n",
       "      <td>Pakenham</td>\n",
       "      <td>Melbourne</td>\n",
       "      <td>VIC</td>\n",
       "      <td>-38.067029</td>\n",
       "      <td>145.454217</td>\n",
       "      <td>3</td>\n",
       "      <td>townhouse</td>\n",
       "      <td>VIC2023</td>\n",
       "      <td>VIC161</td>\n",
       "    </tr>\n",
       "    <tr>\n",
       "      <th>310934</th>\n",
       "      <td>2020-04-23</td>\n",
       "      <td>410000.0</td>\n",
       "      <td>Pakenham</td>\n",
       "      <td>Melbourne</td>\n",
       "      <td>VIC</td>\n",
       "      <td>-38.065659</td>\n",
       "      <td>145.454242</td>\n",
       "      <td>3</td>\n",
       "      <td>townhouse</td>\n",
       "      <td>VIC2023</td>\n",
       "      <td>VIC161</td>\n",
       "    </tr>\n",
       "    <tr>\n",
       "      <th>310937</th>\n",
       "      <td>2020-06-19</td>\n",
       "      <td>521000.0</td>\n",
       "      <td>Pakenham</td>\n",
       "      <td>Melbourne</td>\n",
       "      <td>VIC</td>\n",
       "      <td>-38.065750</td>\n",
       "      <td>145.446289</td>\n",
       "      <td>3</td>\n",
       "      <td>townhouse</td>\n",
       "      <td>VIC2023</td>\n",
       "      <td>VIC161</td>\n",
       "    </tr>\n",
       "  </tbody>\n",
       "</table>\n",
       "<p>807 rows × 11 columns</p>\n",
       "</div>"
      ],
      "text/plain": [
       "        date_sold     price    suburb  city_name state        lat         lon  \\\n",
       "51691  2018-09-18  390000.0  Pakenham  Melbourne   VIC -38.071377  145.467437   \n",
       "51693  2018-09-26  455200.0  Pakenham  Melbourne   VIC -38.062642  145.488504   \n",
       "51698  2018-10-17  510000.0  Pakenham  Melbourne   VIC -38.056892  145.441886   \n",
       "51699  2018-10-19  400000.0  Pakenham  Melbourne   VIC -38.056231  145.493485   \n",
       "51700  2018-11-01  360000.0  Pakenham  Melbourne   VIC -38.056805  145.473083   \n",
       "...           ...       ...       ...        ...   ...        ...         ...   \n",
       "310928 2020-03-03  415000.0  Pakenham  Melbourne   VIC -38.064011  145.446151   \n",
       "310932 2020-04-14  423000.0  Pakenham  Melbourne   VIC -38.067800  145.471292   \n",
       "310933 2020-04-14  475000.0  Pakenham  Melbourne   VIC -38.067029  145.454217   \n",
       "310934 2020-04-23  410000.0  Pakenham  Melbourne   VIC -38.065659  145.454242   \n",
       "310937 2020-06-19  521000.0  Pakenham  Melbourne   VIC -38.065750  145.446289   \n",
       "\n",
       "        bedrooms property_type  loc_pid lga_pid  \n",
       "51691          3          unit  VIC2023  VIC161  \n",
       "51693          3          unit  VIC2023  VIC161  \n",
       "51698          3          unit  VIC2023  VIC161  \n",
       "51699          3          unit  VIC2023  VIC161  \n",
       "51700          3          unit  VIC2023  VIC161  \n",
       "...          ...           ...      ...     ...  \n",
       "310928         3     townhouse  VIC2023  VIC161  \n",
       "310932         3     townhouse  VIC2023  VIC161  \n",
       "310933         3     townhouse  VIC2023  VIC161  \n",
       "310934         3     townhouse  VIC2023  VIC161  \n",
       "310937         3     townhouse  VIC2023  VIC161  \n",
       "\n",
       "[807 rows x 11 columns]"
      ]
     },
     "execution_count": 132,
     "metadata": {},
     "output_type": "execute_result"
    }
   ],
   "source": [
    "#Extracting the dataframe with all the properties with 3- bedrooms for only Victoria state\n",
    "bedrooms_count3 = data.loc[(data[\"bedrooms\"]==3) & (data[\"state\"]== \"VIC\") & (data[\"suburb\"] == \"Pakenham\")]\n",
    "\n",
    "\n",
    "#Viewing the dataframe with 3-Bedroom property sales of Pakenham,Melbourne\n",
    "bedrooms_count3    \n",
    "\n",
    "\n",
    "\n"
   ]
  },
  {
   "cell_type": "code",
   "execution_count": 133,
   "metadata": {},
   "outputs": [
    {
     "data": {
      "text/html": [
       "<div>\n",
       "<style scoped>\n",
       "    .dataframe tbody tr th:only-of-type {\n",
       "        vertical-align: middle;\n",
       "    }\n",
       "\n",
       "    .dataframe tbody tr th {\n",
       "        vertical-align: top;\n",
       "    }\n",
       "\n",
       "    .dataframe thead th {\n",
       "        text-align: right;\n",
       "    }\n",
       "</style>\n",
       "<table border=\"1\" class=\"dataframe\">\n",
       "  <thead>\n",
       "    <tr style=\"text-align: right;\">\n",
       "      <th></th>\n",
       "      <th>date_sold</th>\n",
       "      <th>price</th>\n",
       "      <th>suburb</th>\n",
       "      <th>city_name</th>\n",
       "      <th>state</th>\n",
       "      <th>lat</th>\n",
       "      <th>lon</th>\n",
       "      <th>bedrooms</th>\n",
       "      <th>property_type</th>\n",
       "      <th>loc_pid</th>\n",
       "      <th>lga_pid</th>\n",
       "    </tr>\n",
       "  </thead>\n",
       "  <tbody>\n",
       "    <tr>\n",
       "      <th>191172</th>\n",
       "      <td>2018-09-02</td>\n",
       "      <td>620000.0</td>\n",
       "      <td>Pakenham</td>\n",
       "      <td>Melbourne</td>\n",
       "      <td>VIC</td>\n",
       "      <td>-38.058174</td>\n",
       "      <td>145.454603</td>\n",
       "      <td>4</td>\n",
       "      <td>house</td>\n",
       "      <td>VIC2023</td>\n",
       "      <td>VIC161</td>\n",
       "    </tr>\n",
       "    <tr>\n",
       "      <th>191179</th>\n",
       "      <td>2018-09-04</td>\n",
       "      <td>630000.0</td>\n",
       "      <td>Pakenham</td>\n",
       "      <td>Melbourne</td>\n",
       "      <td>VIC</td>\n",
       "      <td>-38.087018</td>\n",
       "      <td>145.461284</td>\n",
       "      <td>4</td>\n",
       "      <td>house</td>\n",
       "      <td>VIC2023</td>\n",
       "      <td>VIC161</td>\n",
       "    </tr>\n",
       "    <tr>\n",
       "      <th>191180</th>\n",
       "      <td>2018-09-05</td>\n",
       "      <td>605000.0</td>\n",
       "      <td>Pakenham</td>\n",
       "      <td>Melbourne</td>\n",
       "      <td>VIC</td>\n",
       "      <td>-38.077214</td>\n",
       "      <td>145.444266</td>\n",
       "      <td>4</td>\n",
       "      <td>house</td>\n",
       "      <td>VIC2023</td>\n",
       "      <td>VIC161</td>\n",
       "    </tr>\n",
       "    <tr>\n",
       "      <th>191181</th>\n",
       "      <td>2018-09-05</td>\n",
       "      <td>540000.0</td>\n",
       "      <td>Pakenham</td>\n",
       "      <td>Melbourne</td>\n",
       "      <td>VIC</td>\n",
       "      <td>-38.079428</td>\n",
       "      <td>145.467845</td>\n",
       "      <td>4</td>\n",
       "      <td>house</td>\n",
       "      <td>VIC2023</td>\n",
       "      <td>VIC161</td>\n",
       "    </tr>\n",
       "    <tr>\n",
       "      <th>191182</th>\n",
       "      <td>2018-09-05</td>\n",
       "      <td>525000.0</td>\n",
       "      <td>Pakenham</td>\n",
       "      <td>Melbourne</td>\n",
       "      <td>VIC</td>\n",
       "      <td>-38.056417</td>\n",
       "      <td>145.487354</td>\n",
       "      <td>4</td>\n",
       "      <td>house</td>\n",
       "      <td>VIC2023</td>\n",
       "      <td>VIC161</td>\n",
       "    </tr>\n",
       "    <tr>\n",
       "      <th>...</th>\n",
       "      <td>...</td>\n",
       "      <td>...</td>\n",
       "      <td>...</td>\n",
       "      <td>...</td>\n",
       "      <td>...</td>\n",
       "      <td>...</td>\n",
       "      <td>...</td>\n",
       "      <td>...</td>\n",
       "      <td>...</td>\n",
       "      <td>...</td>\n",
       "      <td>...</td>\n",
       "    </tr>\n",
       "    <tr>\n",
       "      <th>310897</th>\n",
       "      <td>2019-04-15</td>\n",
       "      <td>412000.0</td>\n",
       "      <td>Pakenham</td>\n",
       "      <td>Melbourne</td>\n",
       "      <td>VIC</td>\n",
       "      <td>-38.073149</td>\n",
       "      <td>145.467738</td>\n",
       "      <td>4</td>\n",
       "      <td>townhouse</td>\n",
       "      <td>VIC2023</td>\n",
       "      <td>VIC161</td>\n",
       "    </tr>\n",
       "    <tr>\n",
       "      <th>310899</th>\n",
       "      <td>2019-06-19</td>\n",
       "      <td>448000.0</td>\n",
       "      <td>Pakenham</td>\n",
       "      <td>Melbourne</td>\n",
       "      <td>VIC</td>\n",
       "      <td>-38.068992</td>\n",
       "      <td>145.451410</td>\n",
       "      <td>4</td>\n",
       "      <td>townhouse</td>\n",
       "      <td>VIC2023</td>\n",
       "      <td>VIC161</td>\n",
       "    </tr>\n",
       "    <tr>\n",
       "      <th>310902</th>\n",
       "      <td>2019-07-19</td>\n",
       "      <td>415600.0</td>\n",
       "      <td>Pakenham</td>\n",
       "      <td>Melbourne</td>\n",
       "      <td>VIC</td>\n",
       "      <td>-38.056789</td>\n",
       "      <td>145.512459</td>\n",
       "      <td>4</td>\n",
       "      <td>townhouse</td>\n",
       "      <td>VIC2023</td>\n",
       "      <td>VIC161</td>\n",
       "    </tr>\n",
       "    <tr>\n",
       "      <th>310905</th>\n",
       "      <td>2019-08-21</td>\n",
       "      <td>436000.0</td>\n",
       "      <td>Pakenham</td>\n",
       "      <td>Melbourne</td>\n",
       "      <td>VIC</td>\n",
       "      <td>-38.077598</td>\n",
       "      <td>145.451039</td>\n",
       "      <td>4</td>\n",
       "      <td>townhouse</td>\n",
       "      <td>VIC2023</td>\n",
       "      <td>VIC161</td>\n",
       "    </tr>\n",
       "    <tr>\n",
       "      <th>310930</th>\n",
       "      <td>2020-03-11</td>\n",
       "      <td>442000.0</td>\n",
       "      <td>Pakenham</td>\n",
       "      <td>Melbourne</td>\n",
       "      <td>VIC</td>\n",
       "      <td>-38.063132</td>\n",
       "      <td>145.511397</td>\n",
       "      <td>4</td>\n",
       "      <td>townhouse</td>\n",
       "      <td>VIC2023</td>\n",
       "      <td>VIC161</td>\n",
       "    </tr>\n",
       "  </tbody>\n",
       "</table>\n",
       "<p>678 rows × 11 columns</p>\n",
       "</div>"
      ],
      "text/plain": [
       "        date_sold     price    suburb  city_name state        lat         lon  \\\n",
       "191172 2018-09-02  620000.0  Pakenham  Melbourne   VIC -38.058174  145.454603   \n",
       "191179 2018-09-04  630000.0  Pakenham  Melbourne   VIC -38.087018  145.461284   \n",
       "191180 2018-09-05  605000.0  Pakenham  Melbourne   VIC -38.077214  145.444266   \n",
       "191181 2018-09-05  540000.0  Pakenham  Melbourne   VIC -38.079428  145.467845   \n",
       "191182 2018-09-05  525000.0  Pakenham  Melbourne   VIC -38.056417  145.487354   \n",
       "...           ...       ...       ...        ...   ...        ...         ...   \n",
       "310897 2019-04-15  412000.0  Pakenham  Melbourne   VIC -38.073149  145.467738   \n",
       "310899 2019-06-19  448000.0  Pakenham  Melbourne   VIC -38.068992  145.451410   \n",
       "310902 2019-07-19  415600.0  Pakenham  Melbourne   VIC -38.056789  145.512459   \n",
       "310905 2019-08-21  436000.0  Pakenham  Melbourne   VIC -38.077598  145.451039   \n",
       "310930 2020-03-11  442000.0  Pakenham  Melbourne   VIC -38.063132  145.511397   \n",
       "\n",
       "        bedrooms property_type  loc_pid lga_pid  \n",
       "191172         4         house  VIC2023  VIC161  \n",
       "191179         4         house  VIC2023  VIC161  \n",
       "191180         4         house  VIC2023  VIC161  \n",
       "191181         4         house  VIC2023  VIC161  \n",
       "191182         4         house  VIC2023  VIC161  \n",
       "...          ...           ...      ...     ...  \n",
       "310897         4     townhouse  VIC2023  VIC161  \n",
       "310899         4     townhouse  VIC2023  VIC161  \n",
       "310902         4     townhouse  VIC2023  VIC161  \n",
       "310905         4     townhouse  VIC2023  VIC161  \n",
       "310930         4     townhouse  VIC2023  VIC161  \n",
       "\n",
       "[678 rows x 11 columns]"
      ]
     },
     "execution_count": 133,
     "metadata": {},
     "output_type": "execute_result"
    }
   ],
   "source": [
    "#Extracting the dataframe with all the properties with 4- bedrooms for only Victoria state\n",
    "bedrooms_count4 = data.loc[(data[\"bedrooms\"]==4) & (data[\"state\"]== \"VIC\") & (data[\"suburb\"] == \"Pakenham\") ]\n",
    "\n",
    "#Viewing the dataframe with 4-Bedroom property sales of Pakenham,Melbourne\n",
    "bedrooms_count4"
   ]
  },
  {
   "cell_type": "code",
   "execution_count": 134,
   "metadata": {},
   "outputs": [
    {
     "data": {
      "application/vnd.plotly.v1+json": {
       "config": {
        "plotlyServerURL": "https://plot.ly"
       },
       "data": [
        {
         "type": "bar",
         "x": [
          "Bedroom 3 Properties",
          "Bedroom  4 Properties"
         ],
         "xaxis": "x",
         "y": [
          461374.4622057001,
          570153.8967551623
         ],
         "yaxis": "y"
        }
       ],
       "layout": {
        "template": {
         "data": {
          "bar": [
           {
            "error_x": {
             "color": "#2a3f5f"
            },
            "error_y": {
             "color": "#2a3f5f"
            },
            "marker": {
             "line": {
              "color": "#E5ECF6",
              "width": 0.5
             }
            },
            "type": "bar"
           }
          ],
          "barpolar": [
           {
            "marker": {
             "line": {
              "color": "#E5ECF6",
              "width": 0.5
             }
            },
            "type": "barpolar"
           }
          ],
          "carpet": [
           {
            "aaxis": {
             "endlinecolor": "#2a3f5f",
             "gridcolor": "white",
             "linecolor": "white",
             "minorgridcolor": "white",
             "startlinecolor": "#2a3f5f"
            },
            "baxis": {
             "endlinecolor": "#2a3f5f",
             "gridcolor": "white",
             "linecolor": "white",
             "minorgridcolor": "white",
             "startlinecolor": "#2a3f5f"
            },
            "type": "carpet"
           }
          ],
          "choropleth": [
           {
            "colorbar": {
             "outlinewidth": 0,
             "ticks": ""
            },
            "type": "choropleth"
           }
          ],
          "contour": [
           {
            "colorbar": {
             "outlinewidth": 0,
             "ticks": ""
            },
            "colorscale": [
             [
              0,
              "#0d0887"
             ],
             [
              0.1111111111111111,
              "#46039f"
             ],
             [
              0.2222222222222222,
              "#7201a8"
             ],
             [
              0.3333333333333333,
              "#9c179e"
             ],
             [
              0.4444444444444444,
              "#bd3786"
             ],
             [
              0.5555555555555556,
              "#d8576b"
             ],
             [
              0.6666666666666666,
              "#ed7953"
             ],
             [
              0.7777777777777778,
              "#fb9f3a"
             ],
             [
              0.8888888888888888,
              "#fdca26"
             ],
             [
              1,
              "#f0f921"
             ]
            ],
            "type": "contour"
           }
          ],
          "contourcarpet": [
           {
            "colorbar": {
             "outlinewidth": 0,
             "ticks": ""
            },
            "type": "contourcarpet"
           }
          ],
          "heatmap": [
           {
            "colorbar": {
             "outlinewidth": 0,
             "ticks": ""
            },
            "colorscale": [
             [
              0,
              "#0d0887"
             ],
             [
              0.1111111111111111,
              "#46039f"
             ],
             [
              0.2222222222222222,
              "#7201a8"
             ],
             [
              0.3333333333333333,
              "#9c179e"
             ],
             [
              0.4444444444444444,
              "#bd3786"
             ],
             [
              0.5555555555555556,
              "#d8576b"
             ],
             [
              0.6666666666666666,
              "#ed7953"
             ],
             [
              0.7777777777777778,
              "#fb9f3a"
             ],
             [
              0.8888888888888888,
              "#fdca26"
             ],
             [
              1,
              "#f0f921"
             ]
            ],
            "type": "heatmap"
           }
          ],
          "heatmapgl": [
           {
            "colorbar": {
             "outlinewidth": 0,
             "ticks": ""
            },
            "colorscale": [
             [
              0,
              "#0d0887"
             ],
             [
              0.1111111111111111,
              "#46039f"
             ],
             [
              0.2222222222222222,
              "#7201a8"
             ],
             [
              0.3333333333333333,
              "#9c179e"
             ],
             [
              0.4444444444444444,
              "#bd3786"
             ],
             [
              0.5555555555555556,
              "#d8576b"
             ],
             [
              0.6666666666666666,
              "#ed7953"
             ],
             [
              0.7777777777777778,
              "#fb9f3a"
             ],
             [
              0.8888888888888888,
              "#fdca26"
             ],
             [
              1,
              "#f0f921"
             ]
            ],
            "type": "heatmapgl"
           }
          ],
          "histogram": [
           {
            "marker": {
             "colorbar": {
              "outlinewidth": 0,
              "ticks": ""
             }
            },
            "type": "histogram"
           }
          ],
          "histogram2d": [
           {
            "colorbar": {
             "outlinewidth": 0,
             "ticks": ""
            },
            "colorscale": [
             [
              0,
              "#0d0887"
             ],
             [
              0.1111111111111111,
              "#46039f"
             ],
             [
              0.2222222222222222,
              "#7201a8"
             ],
             [
              0.3333333333333333,
              "#9c179e"
             ],
             [
              0.4444444444444444,
              "#bd3786"
             ],
             [
              0.5555555555555556,
              "#d8576b"
             ],
             [
              0.6666666666666666,
              "#ed7953"
             ],
             [
              0.7777777777777778,
              "#fb9f3a"
             ],
             [
              0.8888888888888888,
              "#fdca26"
             ],
             [
              1,
              "#f0f921"
             ]
            ],
            "type": "histogram2d"
           }
          ],
          "histogram2dcontour": [
           {
            "colorbar": {
             "outlinewidth": 0,
             "ticks": ""
            },
            "colorscale": [
             [
              0,
              "#0d0887"
             ],
             [
              0.1111111111111111,
              "#46039f"
             ],
             [
              0.2222222222222222,
              "#7201a8"
             ],
             [
              0.3333333333333333,
              "#9c179e"
             ],
             [
              0.4444444444444444,
              "#bd3786"
             ],
             [
              0.5555555555555556,
              "#d8576b"
             ],
             [
              0.6666666666666666,
              "#ed7953"
             ],
             [
              0.7777777777777778,
              "#fb9f3a"
             ],
             [
              0.8888888888888888,
              "#fdca26"
             ],
             [
              1,
              "#f0f921"
             ]
            ],
            "type": "histogram2dcontour"
           }
          ],
          "mesh3d": [
           {
            "colorbar": {
             "outlinewidth": 0,
             "ticks": ""
            },
            "type": "mesh3d"
           }
          ],
          "parcoords": [
           {
            "line": {
             "colorbar": {
              "outlinewidth": 0,
              "ticks": ""
             }
            },
            "type": "parcoords"
           }
          ],
          "scatter": [
           {
            "marker": {
             "colorbar": {
              "outlinewidth": 0,
              "ticks": ""
             }
            },
            "type": "scatter"
           }
          ],
          "scatter3d": [
           {
            "line": {
             "colorbar": {
              "outlinewidth": 0,
              "ticks": ""
             }
            },
            "marker": {
             "colorbar": {
              "outlinewidth": 0,
              "ticks": ""
             }
            },
            "type": "scatter3d"
           }
          ],
          "scattercarpet": [
           {
            "marker": {
             "colorbar": {
              "outlinewidth": 0,
              "ticks": ""
             }
            },
            "type": "scattercarpet"
           }
          ],
          "scattergeo": [
           {
            "marker": {
             "colorbar": {
              "outlinewidth": 0,
              "ticks": ""
             }
            },
            "type": "scattergeo"
           }
          ],
          "scattergl": [
           {
            "marker": {
             "colorbar": {
              "outlinewidth": 0,
              "ticks": ""
             }
            },
            "type": "scattergl"
           }
          ],
          "scattermapbox": [
           {
            "marker": {
             "colorbar": {
              "outlinewidth": 0,
              "ticks": ""
             }
            },
            "type": "scattermapbox"
           }
          ],
          "scatterpolar": [
           {
            "marker": {
             "colorbar": {
              "outlinewidth": 0,
              "ticks": ""
             }
            },
            "type": "scatterpolar"
           }
          ],
          "scatterpolargl": [
           {
            "marker": {
             "colorbar": {
              "outlinewidth": 0,
              "ticks": ""
             }
            },
            "type": "scatterpolargl"
           }
          ],
          "scatterternary": [
           {
            "marker": {
             "colorbar": {
              "outlinewidth": 0,
              "ticks": ""
             }
            },
            "type": "scatterternary"
           }
          ],
          "surface": [
           {
            "colorbar": {
             "outlinewidth": 0,
             "ticks": ""
            },
            "colorscale": [
             [
              0,
              "#0d0887"
             ],
             [
              0.1111111111111111,
              "#46039f"
             ],
             [
              0.2222222222222222,
              "#7201a8"
             ],
             [
              0.3333333333333333,
              "#9c179e"
             ],
             [
              0.4444444444444444,
              "#bd3786"
             ],
             [
              0.5555555555555556,
              "#d8576b"
             ],
             [
              0.6666666666666666,
              "#ed7953"
             ],
             [
              0.7777777777777778,
              "#fb9f3a"
             ],
             [
              0.8888888888888888,
              "#fdca26"
             ],
             [
              1,
              "#f0f921"
             ]
            ],
            "type": "surface"
           }
          ],
          "table": [
           {
            "cells": {
             "fill": {
              "color": "#EBF0F8"
             },
             "line": {
              "color": "white"
             }
            },
            "header": {
             "fill": {
              "color": "#C8D4E3"
             },
             "line": {
              "color": "white"
             }
            },
            "type": "table"
           }
          ]
         },
         "layout": {
          "annotationdefaults": {
           "arrowcolor": "#2a3f5f",
           "arrowhead": 0,
           "arrowwidth": 1
          },
          "colorscale": {
           "diverging": [
            [
             0,
             "#8e0152"
            ],
            [
             0.1,
             "#c51b7d"
            ],
            [
             0.2,
             "#de77ae"
            ],
            [
             0.3,
             "#f1b6da"
            ],
            [
             0.4,
             "#fde0ef"
            ],
            [
             0.5,
             "#f7f7f7"
            ],
            [
             0.6,
             "#e6f5d0"
            ],
            [
             0.7,
             "#b8e186"
            ],
            [
             0.8,
             "#7fbc41"
            ],
            [
             0.9,
             "#4d9221"
            ],
            [
             1,
             "#276419"
            ]
           ],
           "sequential": [
            [
             0,
             "#0d0887"
            ],
            [
             0.1111111111111111,
             "#46039f"
            ],
            [
             0.2222222222222222,
             "#7201a8"
            ],
            [
             0.3333333333333333,
             "#9c179e"
            ],
            [
             0.4444444444444444,
             "#bd3786"
            ],
            [
             0.5555555555555556,
             "#d8576b"
            ],
            [
             0.6666666666666666,
             "#ed7953"
            ],
            [
             0.7777777777777778,
             "#fb9f3a"
            ],
            [
             0.8888888888888888,
             "#fdca26"
            ],
            [
             1,
             "#f0f921"
            ]
           ],
           "sequentialminus": [
            [
             0,
             "#0d0887"
            ],
            [
             0.1111111111111111,
             "#46039f"
            ],
            [
             0.2222222222222222,
             "#7201a8"
            ],
            [
             0.3333333333333333,
             "#9c179e"
            ],
            [
             0.4444444444444444,
             "#bd3786"
            ],
            [
             0.5555555555555556,
             "#d8576b"
            ],
            [
             0.6666666666666666,
             "#ed7953"
            ],
            [
             0.7777777777777778,
             "#fb9f3a"
            ],
            [
             0.8888888888888888,
             "#fdca26"
            ],
            [
             1,
             "#f0f921"
            ]
           ]
          },
          "colorway": [
           "#636efa",
           "#EF553B",
           "#00cc96",
           "#ab63fa",
           "#FFA15A",
           "#19d3f3",
           "#FF6692",
           "#B6E880",
           "#FF97FF",
           "#FECB52"
          ],
          "font": {
           "color": "#2a3f5f"
          },
          "geo": {
           "bgcolor": "white",
           "lakecolor": "white",
           "landcolor": "#E5ECF6",
           "showlakes": true,
           "showland": true,
           "subunitcolor": "white"
          },
          "hoverlabel": {
           "align": "left"
          },
          "hovermode": "closest",
          "mapbox": {
           "style": "light"
          },
          "paper_bgcolor": "white",
          "plot_bgcolor": "#E5ECF6",
          "polar": {
           "angularaxis": {
            "gridcolor": "white",
            "linecolor": "white",
            "ticks": ""
           },
           "bgcolor": "#E5ECF6",
           "radialaxis": {
            "gridcolor": "white",
            "linecolor": "white",
            "ticks": ""
           }
          },
          "scene": {
           "xaxis": {
            "backgroundcolor": "#E5ECF6",
            "gridcolor": "white",
            "gridwidth": 2,
            "linecolor": "white",
            "showbackground": true,
            "ticks": "",
            "zerolinecolor": "white"
           },
           "yaxis": {
            "backgroundcolor": "#E5ECF6",
            "gridcolor": "white",
            "gridwidth": 2,
            "linecolor": "white",
            "showbackground": true,
            "ticks": "",
            "zerolinecolor": "white"
           },
           "zaxis": {
            "backgroundcolor": "#E5ECF6",
            "gridcolor": "white",
            "gridwidth": 2,
            "linecolor": "white",
            "showbackground": true,
            "ticks": "",
            "zerolinecolor": "white"
           }
          },
          "shapedefaults": {
           "line": {
            "color": "#2a3f5f"
           }
          },
          "ternary": {
           "aaxis": {
            "gridcolor": "white",
            "linecolor": "white",
            "ticks": ""
           },
           "baxis": {
            "gridcolor": "white",
            "linecolor": "white",
            "ticks": ""
           },
           "bgcolor": "#E5ECF6",
           "caxis": {
            "gridcolor": "white",
            "linecolor": "white",
            "ticks": ""
           }
          },
          "title": {
           "x": 0.05
          },
          "xaxis": {
           "automargin": true,
           "gridcolor": "white",
           "linecolor": "white",
           "ticks": "",
           "zerolinecolor": "white",
           "zerolinewidth": 2
          },
          "yaxis": {
           "automargin": true,
           "gridcolor": "white",
           "linecolor": "white",
           "ticks": "",
           "zerolinecolor": "white",
           "zerolinewidth": 2
          }
         }
        },
        "title": {
         "text": " Average Price distribution for 3-Bedroom and 4-Bedroom properties in Pakenham, Melbourne "
        },
        "xaxis": {
         "anchor": "y",
         "domain": [
          0,
          1
         ]
        },
        "yaxis": {
         "anchor": "x",
         "domain": [
          0,
          1
         ]
        }
       }
      },
      "text/html": [
       "<div>\n",
       "        \n",
       "        \n",
       "            <div id=\"c56a3b0a-b121-4512-aeaf-97ce944e60e4\" class=\"plotly-graph-div\" style=\"height:525px; width:100%;\"></div>\n",
       "            <script type=\"text/javascript\">\n",
       "                require([\"plotly\"], function(Plotly) {\n",
       "                    window.PLOTLYENV=window.PLOTLYENV || {};\n",
       "                    \n",
       "                if (document.getElementById(\"c56a3b0a-b121-4512-aeaf-97ce944e60e4\")) {\n",
       "                    Plotly.newPlot(\n",
       "                        'c56a3b0a-b121-4512-aeaf-97ce944e60e4',\n",
       "                        [{\"type\": \"bar\", \"x\": [\"Bedroom 3 Properties\", \"Bedroom  4 Properties\"], \"xaxis\": \"x\", \"y\": [461374.4622057001, 570153.8967551623], \"yaxis\": \"y\"}],\n",
       "                        {\"template\": {\"data\": {\"bar\": [{\"error_x\": {\"color\": \"#2a3f5f\"}, \"error_y\": {\"color\": \"#2a3f5f\"}, \"marker\": {\"line\": {\"color\": \"#E5ECF6\", \"width\": 0.5}}, \"type\": \"bar\"}], \"barpolar\": [{\"marker\": {\"line\": {\"color\": \"#E5ECF6\", \"width\": 0.5}}, \"type\": \"barpolar\"}], \"carpet\": [{\"aaxis\": {\"endlinecolor\": \"#2a3f5f\", \"gridcolor\": \"white\", \"linecolor\": \"white\", \"minorgridcolor\": \"white\", \"startlinecolor\": \"#2a3f5f\"}, \"baxis\": {\"endlinecolor\": \"#2a3f5f\", \"gridcolor\": \"white\", \"linecolor\": \"white\", \"minorgridcolor\": \"white\", \"startlinecolor\": \"#2a3f5f\"}, \"type\": \"carpet\"}], \"choropleth\": [{\"colorbar\": {\"outlinewidth\": 0, \"ticks\": \"\"}, \"type\": \"choropleth\"}], \"contour\": [{\"colorbar\": {\"outlinewidth\": 0, \"ticks\": \"\"}, \"colorscale\": [[0.0, \"#0d0887\"], [0.1111111111111111, \"#46039f\"], [0.2222222222222222, \"#7201a8\"], [0.3333333333333333, \"#9c179e\"], [0.4444444444444444, \"#bd3786\"], [0.5555555555555556, \"#d8576b\"], [0.6666666666666666, \"#ed7953\"], [0.7777777777777778, \"#fb9f3a\"], [0.8888888888888888, \"#fdca26\"], [1.0, \"#f0f921\"]], \"type\": \"contour\"}], \"contourcarpet\": [{\"colorbar\": {\"outlinewidth\": 0, \"ticks\": \"\"}, \"type\": \"contourcarpet\"}], \"heatmap\": [{\"colorbar\": {\"outlinewidth\": 0, \"ticks\": \"\"}, \"colorscale\": [[0.0, \"#0d0887\"], [0.1111111111111111, \"#46039f\"], [0.2222222222222222, \"#7201a8\"], [0.3333333333333333, \"#9c179e\"], [0.4444444444444444, \"#bd3786\"], [0.5555555555555556, \"#d8576b\"], [0.6666666666666666, \"#ed7953\"], [0.7777777777777778, \"#fb9f3a\"], [0.8888888888888888, \"#fdca26\"], [1.0, \"#f0f921\"]], \"type\": \"heatmap\"}], \"heatmapgl\": [{\"colorbar\": {\"outlinewidth\": 0, \"ticks\": \"\"}, \"colorscale\": [[0.0, \"#0d0887\"], [0.1111111111111111, \"#46039f\"], [0.2222222222222222, \"#7201a8\"], [0.3333333333333333, \"#9c179e\"], [0.4444444444444444, \"#bd3786\"], [0.5555555555555556, \"#d8576b\"], [0.6666666666666666, \"#ed7953\"], [0.7777777777777778, \"#fb9f3a\"], [0.8888888888888888, \"#fdca26\"], [1.0, \"#f0f921\"]], \"type\": \"heatmapgl\"}], \"histogram\": [{\"marker\": {\"colorbar\": {\"outlinewidth\": 0, \"ticks\": \"\"}}, \"type\": \"histogram\"}], \"histogram2d\": [{\"colorbar\": {\"outlinewidth\": 0, \"ticks\": \"\"}, \"colorscale\": [[0.0, \"#0d0887\"], [0.1111111111111111, \"#46039f\"], [0.2222222222222222, \"#7201a8\"], [0.3333333333333333, \"#9c179e\"], [0.4444444444444444, \"#bd3786\"], [0.5555555555555556, \"#d8576b\"], [0.6666666666666666, \"#ed7953\"], [0.7777777777777778, \"#fb9f3a\"], [0.8888888888888888, \"#fdca26\"], [1.0, \"#f0f921\"]], \"type\": \"histogram2d\"}], \"histogram2dcontour\": [{\"colorbar\": {\"outlinewidth\": 0, \"ticks\": \"\"}, \"colorscale\": [[0.0, \"#0d0887\"], [0.1111111111111111, \"#46039f\"], [0.2222222222222222, \"#7201a8\"], [0.3333333333333333, \"#9c179e\"], [0.4444444444444444, \"#bd3786\"], [0.5555555555555556, \"#d8576b\"], [0.6666666666666666, \"#ed7953\"], [0.7777777777777778, \"#fb9f3a\"], [0.8888888888888888, \"#fdca26\"], [1.0, \"#f0f921\"]], \"type\": \"histogram2dcontour\"}], \"mesh3d\": [{\"colorbar\": {\"outlinewidth\": 0, \"ticks\": \"\"}, \"type\": \"mesh3d\"}], \"parcoords\": [{\"line\": {\"colorbar\": {\"outlinewidth\": 0, \"ticks\": \"\"}}, \"type\": \"parcoords\"}], \"scatter\": [{\"marker\": {\"colorbar\": {\"outlinewidth\": 0, \"ticks\": \"\"}}, \"type\": \"scatter\"}], \"scatter3d\": [{\"line\": {\"colorbar\": {\"outlinewidth\": 0, \"ticks\": \"\"}}, \"marker\": {\"colorbar\": {\"outlinewidth\": 0, \"ticks\": \"\"}}, \"type\": \"scatter3d\"}], \"scattercarpet\": [{\"marker\": {\"colorbar\": {\"outlinewidth\": 0, \"ticks\": \"\"}}, \"type\": \"scattercarpet\"}], \"scattergeo\": [{\"marker\": {\"colorbar\": {\"outlinewidth\": 0, \"ticks\": \"\"}}, \"type\": \"scattergeo\"}], \"scattergl\": [{\"marker\": {\"colorbar\": {\"outlinewidth\": 0, \"ticks\": \"\"}}, \"type\": \"scattergl\"}], \"scattermapbox\": [{\"marker\": {\"colorbar\": {\"outlinewidth\": 0, \"ticks\": \"\"}}, \"type\": \"scattermapbox\"}], \"scatterpolar\": [{\"marker\": {\"colorbar\": {\"outlinewidth\": 0, \"ticks\": \"\"}}, \"type\": \"scatterpolar\"}], \"scatterpolargl\": [{\"marker\": {\"colorbar\": {\"outlinewidth\": 0, \"ticks\": \"\"}}, \"type\": \"scatterpolargl\"}], \"scatterternary\": [{\"marker\": {\"colorbar\": {\"outlinewidth\": 0, \"ticks\": \"\"}}, \"type\": \"scatterternary\"}], \"surface\": [{\"colorbar\": {\"outlinewidth\": 0, \"ticks\": \"\"}, \"colorscale\": [[0.0, \"#0d0887\"], [0.1111111111111111, \"#46039f\"], [0.2222222222222222, \"#7201a8\"], [0.3333333333333333, \"#9c179e\"], [0.4444444444444444, \"#bd3786\"], [0.5555555555555556, \"#d8576b\"], [0.6666666666666666, \"#ed7953\"], [0.7777777777777778, \"#fb9f3a\"], [0.8888888888888888, \"#fdca26\"], [1.0, \"#f0f921\"]], \"type\": \"surface\"}], \"table\": [{\"cells\": {\"fill\": {\"color\": \"#EBF0F8\"}, \"line\": {\"color\": \"white\"}}, \"header\": {\"fill\": {\"color\": \"#C8D4E3\"}, \"line\": {\"color\": \"white\"}}, \"type\": \"table\"}]}, \"layout\": {\"annotationdefaults\": {\"arrowcolor\": \"#2a3f5f\", \"arrowhead\": 0, \"arrowwidth\": 1}, \"colorscale\": {\"diverging\": [[0, \"#8e0152\"], [0.1, \"#c51b7d\"], [0.2, \"#de77ae\"], [0.3, \"#f1b6da\"], [0.4, \"#fde0ef\"], [0.5, \"#f7f7f7\"], [0.6, \"#e6f5d0\"], [0.7, \"#b8e186\"], [0.8, \"#7fbc41\"], [0.9, \"#4d9221\"], [1, \"#276419\"]], \"sequential\": [[0.0, \"#0d0887\"], [0.1111111111111111, \"#46039f\"], [0.2222222222222222, \"#7201a8\"], [0.3333333333333333, \"#9c179e\"], [0.4444444444444444, \"#bd3786\"], [0.5555555555555556, \"#d8576b\"], [0.6666666666666666, \"#ed7953\"], [0.7777777777777778, \"#fb9f3a\"], [0.8888888888888888, \"#fdca26\"], [1.0, \"#f0f921\"]], \"sequentialminus\": [[0.0, \"#0d0887\"], [0.1111111111111111, \"#46039f\"], [0.2222222222222222, \"#7201a8\"], [0.3333333333333333, \"#9c179e\"], [0.4444444444444444, \"#bd3786\"], [0.5555555555555556, \"#d8576b\"], [0.6666666666666666, \"#ed7953\"], [0.7777777777777778, \"#fb9f3a\"], [0.8888888888888888, \"#fdca26\"], [1.0, \"#f0f921\"]]}, \"colorway\": [\"#636efa\", \"#EF553B\", \"#00cc96\", \"#ab63fa\", \"#FFA15A\", \"#19d3f3\", \"#FF6692\", \"#B6E880\", \"#FF97FF\", \"#FECB52\"], \"font\": {\"color\": \"#2a3f5f\"}, \"geo\": {\"bgcolor\": \"white\", \"lakecolor\": \"white\", \"landcolor\": \"#E5ECF6\", \"showlakes\": true, \"showland\": true, \"subunitcolor\": \"white\"}, \"hoverlabel\": {\"align\": \"left\"}, \"hovermode\": \"closest\", \"mapbox\": {\"style\": \"light\"}, \"paper_bgcolor\": \"white\", \"plot_bgcolor\": \"#E5ECF6\", \"polar\": {\"angularaxis\": {\"gridcolor\": \"white\", \"linecolor\": \"white\", \"ticks\": \"\"}, \"bgcolor\": \"#E5ECF6\", \"radialaxis\": {\"gridcolor\": \"white\", \"linecolor\": \"white\", \"ticks\": \"\"}}, \"scene\": {\"xaxis\": {\"backgroundcolor\": \"#E5ECF6\", \"gridcolor\": \"white\", \"gridwidth\": 2, \"linecolor\": \"white\", \"showbackground\": true, \"ticks\": \"\", \"zerolinecolor\": \"white\"}, \"yaxis\": {\"backgroundcolor\": \"#E5ECF6\", \"gridcolor\": \"white\", \"gridwidth\": 2, \"linecolor\": \"white\", \"showbackground\": true, \"ticks\": \"\", \"zerolinecolor\": \"white\"}, \"zaxis\": {\"backgroundcolor\": \"#E5ECF6\", \"gridcolor\": \"white\", \"gridwidth\": 2, \"linecolor\": \"white\", \"showbackground\": true, \"ticks\": \"\", \"zerolinecolor\": \"white\"}}, \"shapedefaults\": {\"line\": {\"color\": \"#2a3f5f\"}}, \"ternary\": {\"aaxis\": {\"gridcolor\": \"white\", \"linecolor\": \"white\", \"ticks\": \"\"}, \"baxis\": {\"gridcolor\": \"white\", \"linecolor\": \"white\", \"ticks\": \"\"}, \"bgcolor\": \"#E5ECF6\", \"caxis\": {\"gridcolor\": \"white\", \"linecolor\": \"white\", \"ticks\": \"\"}}, \"title\": {\"x\": 0.05}, \"xaxis\": {\"automargin\": true, \"gridcolor\": \"white\", \"linecolor\": \"white\", \"ticks\": \"\", \"zerolinecolor\": \"white\", \"zerolinewidth\": 2}, \"yaxis\": {\"automargin\": true, \"gridcolor\": \"white\", \"linecolor\": \"white\", \"ticks\": \"\", \"zerolinecolor\": \"white\", \"zerolinewidth\": 2}}}, \"title\": {\"text\": \" Average Price distribution for 3-Bedroom and 4-Bedroom properties in Pakenham, Melbourne \"}, \"xaxis\": {\"anchor\": \"y\", \"domain\": [0.0, 1.0]}, \"yaxis\": {\"anchor\": \"x\", \"domain\": [0.0, 1.0]}},\n",
       "                        {\"responsive\": true}\n",
       "                    ).then(function(){\n",
       "                            \n",
       "var gd = document.getElementById('c56a3b0a-b121-4512-aeaf-97ce944e60e4');\n",
       "var x = new MutationObserver(function (mutations, observer) {{\n",
       "        var display = window.getComputedStyle(gd).display;\n",
       "        if (!display || display === 'none') {{\n",
       "            console.log([gd, 'removed!']);\n",
       "            Plotly.purge(gd);\n",
       "            observer.disconnect();\n",
       "        }}\n",
       "}});\n",
       "\n",
       "// Listen for the removal of the full notebook cells\n",
       "var notebookContainer = gd.closest('#notebook-container');\n",
       "if (notebookContainer) {{\n",
       "    x.observe(notebookContainer, {childList: true});\n",
       "}}\n",
       "\n",
       "// Listen for the clearing of the current output cell\n",
       "var outputEl = gd.closest('.output');\n",
       "if (outputEl) {{\n",
       "    x.observe(outputEl, {childList: true});\n",
       "}}\n",
       "\n",
       "                        })\n",
       "                };\n",
       "                });\n",
       "            </script>\n",
       "        </div>"
      ]
     },
     "metadata": {},
     "output_type": "display_data"
    }
   ],
   "source": [
    "#Creating a interactive Bar chart using ploty module of grid size 1x1\n",
    "fig = make_subplots(rows=1, cols=1)\n",
    "\n",
    "#Calculating the average price values of 3- Bedroom and 4-Bedroom property\n",
    "a=bedrooms_count3[\"price\"].mean()\n",
    "b= bedrooms_count4[\"price\"].mean()\n",
    "\n",
    "#Assigning the respective trace(Bar) with the values and labels created above for each quarter\n",
    "fig.add_trace(go.Bar(x=[\"Bedroom 3 Properties\", \"Bedroom  4 Properties\"], y=[a,b]),\n",
    "              1, 1)\n",
    "\n",
    "                     \n",
    "#Updating the layout by adding the Title                   \n",
    "fig.update_layout(title_text=\" Average Price distribution for 3-Bedroom and 4-Bedroom properties in Pakenham, Melbourne \")#,coloraxis=dict(colorscale='Bluered_r'), showlegend=False)\n",
    "fig.show()"
   ]
  },
  {
   "cell_type": "code",
   "execution_count": 135,
   "metadata": {},
   "outputs": [
    {
     "data": {
      "image/png": "[encoded data removed]",
      "text/plain": [
       "<Figure size 432x288 with 2 Axes>"
      ]
     },
     "metadata": {
      "needs_background": "light"
     },
     "output_type": "display_data"
    }
   ],
   "source": [
    "plt.scatter(data['lon'],data['lat'],c=data['price'])\n",
    "clb = plt.colorbar()\n",
    "plt.xlabel(\"Longitude\")\n",
    "plt.ylabel(\"Latitude\")\n",
    "clb.set_label(\"Price\")\n",
    "plt.show()"
   ]
  },
  {
   "cell_type": "code",
   "execution_count": 136,
   "metadata": {},
   "outputs": [
    {
     "data": {
      "text/html": [
       "<div>\n",
       "<style scoped>\n",
       "    .dataframe tbody tr th:only-of-type {\n",
       "        vertical-align: middle;\n",
       "    }\n",
       "\n",
       "    .dataframe tbody tr th {\n",
       "        vertical-align: top;\n",
       "    }\n",
       "\n",
       "    .dataframe thead th {\n",
       "        text-align: right;\n",
       "    }\n",
       "</style>\n",
       "<table border=\"1\" class=\"dataframe\">\n",
       "  <thead>\n",
       "    <tr style=\"text-align: right;\">\n",
       "      <th></th>\n",
       "      <th>bedrooms</th>\n",
       "      <th>price</th>\n",
       "    </tr>\n",
       "  </thead>\n",
       "  <tbody>\n",
       "    <tr>\n",
       "      <th>3</th>\n",
       "      <td>3</td>\n",
       "      <td>1928000.0</td>\n",
       "    </tr>\n",
       "    <tr>\n",
       "      <th>4</th>\n",
       "      <td>3</td>\n",
       "      <td>1475000.0</td>\n",
       "    </tr>\n",
       "    <tr>\n",
       "      <th>8</th>\n",
       "      <td>3</td>\n",
       "      <td>3200000.0</td>\n",
       "    </tr>\n",
       "    <tr>\n",
       "      <th>9</th>\n",
       "      <td>3</td>\n",
       "      <td>2305000.0</td>\n",
       "    </tr>\n",
       "    <tr>\n",
       "      <th>10</th>\n",
       "      <td>3</td>\n",
       "      <td>2350000.0</td>\n",
       "    </tr>\n",
       "    <tr>\n",
       "      <th>...</th>\n",
       "      <td>...</td>\n",
       "      <td>...</td>\n",
       "    </tr>\n",
       "    <tr>\n",
       "      <th>320323</th>\n",
       "      <td>3</td>\n",
       "      <td>507000.0</td>\n",
       "    </tr>\n",
       "    <tr>\n",
       "      <th>320324</th>\n",
       "      <td>3</td>\n",
       "      <td>497000.0</td>\n",
       "    </tr>\n",
       "    <tr>\n",
       "      <th>320330</th>\n",
       "      <td>3</td>\n",
       "      <td>549900.0</td>\n",
       "    </tr>\n",
       "    <tr>\n",
       "      <th>320331</th>\n",
       "      <td>3</td>\n",
       "      <td>499900.0</td>\n",
       "    </tr>\n",
       "    <tr>\n",
       "      <th>320332</th>\n",
       "      <td>3</td>\n",
       "      <td>434000.0</td>\n",
       "    </tr>\n",
       "  </tbody>\n",
       "</table>\n",
       "<p>101769 rows × 2 columns</p>\n",
       "</div>"
      ],
      "text/plain": [
       "        bedrooms      price\n",
       "3              3  1928000.0\n",
       "4              3  1475000.0\n",
       "8              3  3200000.0\n",
       "9              3  2305000.0\n",
       "10             3  2350000.0\n",
       "...          ...        ...\n",
       "320323         3   507000.0\n",
       "320324         3   497000.0\n",
       "320330         3   549900.0\n",
       "320331         3   499900.0\n",
       "320332         3   434000.0\n",
       "\n",
       "[101769 rows x 2 columns]"
      ]
     },
     "execution_count": 136,
     "metadata": {},
     "output_type": "execute_result"
    }
   ],
   "source": [
    "br_price = data[['bedrooms', 'price']]\n",
    "threebr_price = br_price.loc[br_price['bedrooms'] == 3, :]\n",
    "threebr_price"
   ]
  },
  {
   "cell_type": "code",
   "execution_count": 137,
   "metadata": {},
   "outputs": [
    {
     "data": {
      "image/png": "[encoded data removed]",
      "text/plain": [
       "<Figure size 432x288 with 1 Axes>"
      ]
     },
     "metadata": {
      "needs_background": "light"
     },
     "output_type": "display_data"
    },
    {
     "name": "stdout",
     "output_type": "stream",
     "text": [
      "Mean: 753507.4226827422\n",
      "Median: 624000.0\n",
      "Mode: 0    600000.0\n",
      "dtype: float64\n",
      "NormaltestResult(statistic=7636.981625607441, pvalue=0.0)\n"
     ]
    }
   ],
   "source": [
    "# Determine which measure of centraltendency is the most appropriate and get a picture of the price data in a histogram\n",
    "plt.hist(threebr_price['price'], bins=100)\n",
    "plt.xlabel('price')\n",
    "plt.ylabel('counts')\n",
    "plt.show()\n",
    "print('Mean: ' + str(threebr_price['price'].mean()))\n",
    "print('Median: ' + str(threebr_price['price'].median()))\n",
    "print('Mode: ' + str(threebr_price['price'].mode()))\n",
    "print(sts.normaltest(threebr_price['price'].sample(10000)))"
   ]
  },
  {
   "cell_type": "markdown",
   "metadata": {},
   "source": [
    "The histogram above does not look like its normally distributed, with P-value < 0.05.\n",
    "The p-value =0.0 also means that it is a non-normal data.\n",
    "\n",
    "The curve is positively skewed which means that the median is less than the mean. \n",
    "There are more lower-priced house making the median smaller than the mean, which is being pulled higher by a few higher-priced properties"
   ]
  },
  {
   "cell_type": "markdown",
   "metadata": {},
   "source": [
    "QUARTILE CALCULATIONS (France G.)\n",
    "Determine if there are any potential outliers in the residential properties prices data"
   ]
  },
  {
   "cell_type": "code",
   "execution_count": 138,
   "metadata": {},
   "outputs": [],
   "source": [
    "onebr_price = br_price.loc[br_price['bedrooms'] == 1, :]\n",
    "twobr_price = br_price.loc[br_price['bedrooms'] == 2, :]\n",
    "fourbr_price = br_price.loc[br_price['bedrooms'] == 4, :]\n",
    "fivebr_price = br_price.loc[br_price['bedrooms'] == 5, :]"
   ]
  },
  {
   "cell_type": "markdown",
   "metadata": {},
   "source": [
    "1-BR quartile calculations"
   ]
  },
  {
   "cell_type": "code",
   "execution_count": 139,
   "metadata": {},
   "outputs": [
    {
     "name": "stdout",
     "output_type": "stream",
     "text": [
      "Lower quartile: 320000.0\n",
      "Upper quartile: 600000.0\n",
      "Inter-Quartile Range: 280000.0\n",
      "Median: 415000.0\n",
      "Values below -100000.0 could be outliers.\n",
      "Values above 1020000.0 could be outliers.\n",
      "n:315\n"
     ]
    }
   ],
   "source": [
    "# 1-BR quartile calculations\n",
    "quartiles1 = onebr_price['price'].quantile([.25,.5,.75])\n",
    "lowerq1 = quartiles1[0.25]\n",
    "upperq1 = quartiles1[0.75]\n",
    "iqr1 = upperq1-lowerq1\n",
    "\n",
    "print(f'Lower quartile: {lowerq1}')\n",
    "print(f'Upper quartile: {upperq1}')\n",
    "print(f'Inter-Quartile Range: {iqr1}')\n",
    "print(f'Median: {quartiles1[0.5]}')\n",
    "\n",
    "lower_bound1 = lowerq1 - (1.5*iqr1)\n",
    "upper_bound1 = upperq1 + (1.5*iqr1)\n",
    "print(f\"Values below {lower_bound1} could be outliers.\")\n",
    "print(f\"Values above {upper_bound1} could be outliers.\")\n",
    "\n",
    "outlier_1price = onebr_price[(onebr_price['price'] < lower_bound1) | (onebr_price['price'] > upper_bound1)]\n",
    "print('n:' + str(len(outlier_1price)))"
   ]
  },
  {
   "cell_type": "markdown",
   "metadata": {},
   "source": [
    "Lower quartile: 320000.0\n",
    "Upper quartile: 600000.0\n",
    "Inter-Quartile Range: 280000.0\n",
    "Median: 415000.0\n",
    "Values below -100000.0 could be outliers.\n",
    "Values above 1020000.0 could be outliers.\n",
    "n:315\n",
    "2-BR quartile calculations"
   ]
  },
  {
   "cell_type": "code",
   "execution_count": 140,
   "metadata": {},
   "outputs": [
    {
     "name": "stdout",
     "output_type": "stream",
     "text": [
      "Lower quartile: 420000.0\n",
      "Upper quartile: 765000.0\n",
      "Inter-Quartile Range: 345000.0\n",
      "Median: 570000.0\n",
      "Values below -97500.0 could be outliers.\n",
      "Values above 1282500.0 could be outliers.\n",
      "n:2756\n"
     ]
    }
   ],
   "source": [
    "# 2-BR quartile calculations\n",
    "quartiles2 = twobr_price['price'].quantile([.25,.5,.75])\n",
    "lowerq2 = quartiles2[0.25]\n",
    "upperq2 = quartiles2[0.75]\n",
    "iqr2 = upperq2-lowerq2\n",
    "\n",
    "print(f'Lower quartile: {lowerq2}')\n",
    "print(f'Upper quartile: {upperq2}')\n",
    "print(f'Inter-Quartile Range: {iqr2}')\n",
    "print(f'Median: {quartiles2[0.5]}')\n",
    "\n",
    "lower_bound2 = lowerq2 - (1.5*iqr2)\n",
    "upper_bound2 = upperq2 + (1.5*iqr2)\n",
    "print(f\"Values below {lower_bound2} could be outliers.\")\n",
    "print(f\"Values above {upper_bound2} could be outliers.\")\n",
    "\n",
    "outlier_2price = twobr_price[(twobr_price['price'] < lower_bound2) | (twobr_price['price'] > upper_bound2)]\n",
    "print('n:' + str(len(outlier_2price)))"
   ]
  },
  {
   "cell_type": "code",
   "execution_count": 141,
   "metadata": {},
   "outputs": [
    {
     "name": "stdout",
     "output_type": "stream",
     "text": [
      "Lower quartile: 476000.0\n",
      "Upper quartile: 859558.0\n",
      "Inter-Quartile Range: 383558.0\n",
      "Median: 624000.0\n",
      "Values below -99337.0 could be outliers.\n",
      "Values above 1434895.0 could be outliers.\n"
     ]
    }
   ],
   "source": [
    "# 3-BR quartile calculations\n",
    "quartiles = threebr_price['price'].quantile([.25,.5,.75])\n",
    "lowerq = quartiles[0.25]\n",
    "upperq = quartiles[0.75]\n",
    "iqr = upperq-lowerq\n",
    "\n",
    "print(f'Lower quartile: {lowerq}')\n",
    "print(f'Upper quartile: {upperq}')\n",
    "print(f'Inter-Quartile Range: {iqr}')\n",
    "print(f'Median: {quartiles[0.5]}')\n",
    "\n",
    "lower_bound = lowerq - (1.5*iqr)\n",
    "upper_bound = upperq + (1.5*iqr)\n",
    "print(f\"Values below {lower_bound} could be outliers.\")\n",
    "print(f\"Values above {upper_bound} could be outliers.\")\n",
    "\n",
    "outlier_price = threebr_price[(threebr_price['price'] < lower_bound) | (threebr_price['price'] > upper_bound)]\n"
   ]
  },
  {
   "cell_type": "code",
   "execution_count": 142,
   "metadata": {},
   "outputs": [
    {
     "name": "stdout",
     "output_type": "stream",
     "text": [
      "Lower quartile: 582300.0\n",
      "Upper quartile: 1070000.0\n",
      "Inter-Quartile Range: 487700.0\n",
      "Median: 747000.0\n",
      "Values below -149250.0 could be outliers.\n",
      "Values above 1801550.0 could be outliers.\n",
      "n:5367\n"
     ]
    }
   ],
   "source": [
    "# 4-BR quartile calculations\n",
    "quartiles4 = fourbr_price['price'].quantile([.25,.5,.75])\n",
    "lowerq4 = quartiles4[0.25]\n",
    "upperq4 = quartiles4[0.75]\n",
    "iqr4 = upperq4-lowerq4\n",
    "\n",
    "print(f'Lower quartile: {lowerq4}')\n",
    "print(f'Upper quartile: {upperq4}')\n",
    "print(f'Inter-Quartile Range: {iqr4}')\n",
    "print(f'Median: {quartiles4[0.5]}')\n",
    "\n",
    "lower_bound4 = lowerq4 - (1.5*iqr4)\n",
    "upper_bound4 = upperq4 + (1.5*iqr4)\n",
    "print(f\"Values below {lower_bound4} could be outliers.\")\n",
    "print(f\"Values above {upper_bound4} could be outliers.\")\n",
    "\n",
    "outlier_4price = fourbr_price[(fourbr_price['price'] < lower_bound4) | (fourbr_price['price'] > upper_bound4)]\n",
    "print('n:' + str(len(outlier_4price)))"
   ]
  },
  {
   "cell_type": "code",
   "execution_count": 143,
   "metadata": {},
   "outputs": [
    {
     "name": "stdout",
     "output_type": "stream",
     "text": [
      "Lower quartile: 775000.0\n",
      "Upper quartile: 1650000.0\n",
      "Inter-Quartile Range: 875000.0\n",
      "Median: 1073250.0\n",
      "Values below -537500.0 could be outliers.\n",
      "Values above 2962500.0 could be outliers.\n",
      "n:1099\n"
     ]
    }
   ],
   "source": [
    "# 5-BR quartile calculations\n",
    "quartiles5 = fivebr_price['price'].quantile([.25,.5,.75])\n",
    "lowerq5 = quartiles5[0.25]\n",
    "upperq5 = quartiles5[0.75]\n",
    "iqr5 = upperq5-lowerq5\n",
    "\n",
    "print(f'Lower quartile: {lowerq5}')\n",
    "print(f'Upper quartile: {upperq5}')\n",
    "print(f'Inter-Quartile Range: {iqr5}')\n",
    "print(f'Median: {quartiles5[0.5]}')\n",
    "\n",
    "lower_bound5 = lowerq5 - (1.5*iqr5)\n",
    "upper_bound5 = upperq5 + (1.5*iqr5)\n",
    "print(f\"Values below {lower_bound5} could be outliers.\")\n",
    "print(f\"Values above {upper_bound5} could be outliers.\")\n",
    "\n",
    "outlier_5price = fivebr_price[(fivebr_price['price'] < lower_bound5) | (fivebr_price['price'] > upper_bound5)]\n",
    "print('n:' + str(len(outlier_5price)))"
   ]
  },
  {
   "cell_type": "code",
   "execution_count": 144,
   "metadata": {},
   "outputs": [
    {
     "data": {
      "text/html": [
       "<div>\n",
       "<style scoped>\n",
       "    .dataframe tbody tr th:only-of-type {\n",
       "        vertical-align: middle;\n",
       "    }\n",
       "\n",
       "    .dataframe tbody tr th {\n",
       "        vertical-align: top;\n",
       "    }\n",
       "\n",
       "    .dataframe thead th {\n",
       "        text-align: right;\n",
       "    }\n",
       "</style>\n",
       "<table border=\"1\" class=\"dataframe\">\n",
       "  <thead>\n",
       "    <tr style=\"text-align: right;\">\n",
       "      <th></th>\n",
       "      <th>Lower quartile</th>\n",
       "      <th>Upper quartile</th>\n",
       "      <th>IQR</th>\n",
       "      <th>Median (AUD)</th>\n",
       "      <th>Lower bound</th>\n",
       "      <th>Upper bound</th>\n",
       "      <th>N</th>\n",
       "    </tr>\n",
       "    <tr>\n",
       "      <th>Bedroom</th>\n",
       "      <th></th>\n",
       "      <th></th>\n",
       "      <th></th>\n",
       "      <th></th>\n",
       "      <th></th>\n",
       "      <th></th>\n",
       "      <th></th>\n",
       "    </tr>\n",
       "  </thead>\n",
       "  <tbody>\n",
       "    <tr>\n",
       "      <th>1-BR</th>\n",
       "      <td>$320,000</td>\n",
       "      <td>$600,000</td>\n",
       "      <td>$280,000</td>\n",
       "      <td>$415,000</td>\n",
       "      <td>$-100,000</td>\n",
       "      <td>$1,020,000</td>\n",
       "      <td>315</td>\n",
       "    </tr>\n",
       "    <tr>\n",
       "      <th>2-BR</th>\n",
       "      <td>$420,000</td>\n",
       "      <td>$765,000</td>\n",
       "      <td>$345,000</td>\n",
       "      <td>$570,000</td>\n",
       "      <td>$-97,500</td>\n",
       "      <td>$1,282,500</td>\n",
       "      <td>2756</td>\n",
       "    </tr>\n",
       "    <tr>\n",
       "      <th>3-BR</th>\n",
       "      <td>$476,000</td>\n",
       "      <td>$859,558</td>\n",
       "      <td>$383,558</td>\n",
       "      <td>$624,000</td>\n",
       "      <td>$-99,337</td>\n",
       "      <td>$1,434,895</td>\n",
       "      <td>7682</td>\n",
       "    </tr>\n",
       "    <tr>\n",
       "      <th>4-BR</th>\n",
       "      <td>$582,300</td>\n",
       "      <td>$1,070,000</td>\n",
       "      <td>$487,700</td>\n",
       "      <td>$747,000</td>\n",
       "      <td>$-149,250</td>\n",
       "      <td>$1,801,550</td>\n",
       "      <td>5367</td>\n",
       "    </tr>\n",
       "    <tr>\n",
       "      <th>5-BR</th>\n",
       "      <td>$775,000</td>\n",
       "      <td>$1,650,000</td>\n",
       "      <td>$875,000</td>\n",
       "      <td>$1,073,250</td>\n",
       "      <td>$-537,500</td>\n",
       "      <td>$2,962,500</td>\n",
       "      <td>1099</td>\n",
       "    </tr>\n",
       "  </tbody>\n",
       "</table>\n",
       "</div>"
      ],
      "text/plain": [
       "        Lower quartile Upper quartile       IQR Median (AUD) Lower bound  \\\n",
       "Bedroom                                                                    \n",
       "1-BR          $320,000       $600,000  $280,000     $415,000   $-100,000   \n",
       "2-BR          $420,000       $765,000  $345,000     $570,000    $-97,500   \n",
       "3-BR          $476,000       $859,558  $383,558     $624,000    $-99,337   \n",
       "4-BR          $582,300     $1,070,000  $487,700     $747,000   $-149,250   \n",
       "5-BR          $775,000     $1,650,000  $875,000   $1,073,250   $-537,500   \n",
       "\n",
       "        Upper bound     N  \n",
       "Bedroom                    \n",
       "1-BR     $1,020,000   315  \n",
       "2-BR     $1,282,500  2756  \n",
       "3-BR     $1,434,895  7682  \n",
       "4-BR     $1,801,550  5367  \n",
       "5-BR     $2,962,500  1099  "
      ]
     },
     "execution_count": 144,
     "metadata": {},
     "output_type": "execute_result"
    }
   ],
   "source": [
    "summary_qc = pd.DataFrame({\n",
    "    'Bedroom': ['1-BR', '2-BR', '3-BR', '4-BR', '5-BR'],\n",
    "    'Lower quartile': [lowerq1, lowerq2, lowerq, lowerq4, lowerq5],\n",
    "    'Upper quartile': [upperq1, upperq2, upperq, upperq4, upperq5],\n",
    "    'IQR': [iqr1, iqr2, iqr, iqr4, iqr5],\n",
    "    'Median (AUD)': [quartiles1[0.5], quartiles2[0.5], quartiles[0.5], quartiles4[0.5], quartiles5[0.5]],\n",
    "    'Lower bound': [lower_bound1, lower_bound2, lower_bound, lower_bound4, lower_bound5],\n",
    "    'Upper bound': [upper_bound1, upper_bound2, upper_bound, upper_bound4, upper_bound5],\n",
    "    'N': [len(outlier_1price), len(outlier_2price), len(outlier_price), len(outlier_4price), len(outlier_5price)],\n",
    "})\n",
    "\n",
    "summary_qc['Lower quartile'] = summary_qc['Lower quartile'].astype(int).map(\"${:,}\".format)\n",
    "summary_qc['Upper quartile'] = summary_qc['Upper quartile'].astype(int).map(\"${:,}\".format)\n",
    "summary_qc['IQR'] = summary_qc['IQR'].astype(int).map(\"${:,}\".format)\n",
    "summary_qc['Median (AUD)'] = summary_qc['Median (AUD)'].astype(int).map(\"${:,}\".format)\n",
    "summary_qc['Lower bound'] = summary_qc['Lower bound'].astype(int).map(\"${:,}\".format)\n",
    "summary_qc['Upper bound'] = summary_qc['Upper bound'].astype(int).map(\"${:,}\".format)\n",
    "\n",
    "summary_qc.set_index('Bedroom')"
   ]
  },
  {
   "cell_type": "markdown",
   "metadata": {},
   "source": [
    "BOX PLOT 3-BR properties (France G.)"
   ]
  },
  {
   "cell_type": "code",
   "execution_count": 145,
   "metadata": {},
   "outputs": [
    {
     "data": {
      "image/png": "[encoded data removed]",
      "text/plain": [
       "<Figure size 432x288 with 1 Axes>"
      ]
     },
     "metadata": {
      "needs_background": "light"
     },
     "output_type": "display_data"
    },
    {
     "data": {
      "image/png": "[encoded data removed]",
      "text/plain": [
       "<Figure size 432x288 with 1 Axes>"
      ]
     },
     "metadata": {
      "needs_background": "light"
     },
     "output_type": "display_data"
    }
   ],
   "source": [
    "\n",
    "# Visualise the spread of the data through box-plot; no. of bedrooms v price \n",
    "\n",
    "# Create a dictionary for boxplot\n",
    "one_price = onebr_price['price'].tolist()\n",
    "two_price = twobr_price['price'].tolist()\n",
    "three_price = threebr_price['price'].tolist()\n",
    "four_price = fourbr_price['price'].tolist()\n",
    "five_price = fivebr_price['price'].tolist()\n",
    "\n",
    "br_data = {'1-BR': one_price, '2-BR': two_price, '3-BR': three_price, '4-BR': four_price, '5-BR':five_price}\n",
    "\n",
    "fig, ax = plt.subplots()\n",
    "#ax.set_title('Residential Property Prices Sold from Sep 2018 to Apr 2020')\n",
    "ax.set_xlabel('No. of bedrooms')\n",
    "ax.set_ylabel('Price (AUD)')\n",
    "ax.set_ylim([0,upper_bound5])\n",
    "ax.boxplot(br_data.values())\n",
    "plt.show(0)"
   ]
  },
  {
   "cell_type": "markdown",
   "metadata": {},
   "source": [
    "Standard error on means (France G.)\n"
   ]
  },
  {
   "cell_type": "code",
   "execution_count": 146,
   "metadata": {},
   "outputs": [],
   "source": [
    "\n",
    "# Create a bunch of samples, each with sample size of 100\n",
    "nsamples = 25\n",
    "div = 100\n",
    "samples = [threebr_price.sample(div) for x in range(0,nsamples)]"
   ]
  },
  {
   "cell_type": "code",
   "execution_count": 147,
   "metadata": {},
   "outputs": [],
   "source": [
    "\n",
    "# Calculate means\n",
    "means = [s.price.mean() for s in samples]\n",
    "# Calculate standard error on means\n",
    "sems = [sem(s.price) for s in samples]"
   ]
  },
  {
   "cell_type": "code",
   "execution_count": 148,
   "metadata": {},
   "outputs": [
    {
     "data": {
      "image/png": "[encoded data removed]",
      "text/plain": [
       "<Figure size 432x288 with 1 Axes>"
      ]
     },
     "metadata": {
      "needs_background": "light"
     },
     "output_type": "display_data"
    }
   ],
   "source": [
    "# Plot sample means with error bars\n",
    "fig, ax = plt.subplots()\n",
    "ax.errorbar(np.arange(0, len(samples), 1)+1,means, yerr=sems, fmt=\"o\", color=\"b\",\n",
    "            alpha=0.5, label=\"Mean of House Prices (AUD)\")\n",
    "ax.set_xlim(0, len(means)+1)\n",
    "ax.set_xlabel(\"Sample Number\")\n",
    "ax.set_ylabel(\"Mean of House Prices (AUD)\")\n",
    "plt.legend(loc=\"best\", fontsize=\"small\", fancybox=True)\n",
    "plt.hlines(threebr_price['price'].mean(), 0, 25, alpha = 0.5 )\n",
    "plt.show()"
   ]
  },
  {
   "cell_type": "code",
   "execution_count": 149,
   "metadata": {},
   "outputs": [
    {
     "name": "stdout",
     "output_type": "stream",
     "text": [
      "The range of SEM values in the sample set is 57789.07667599798\n"
     ]
    }
   ],
   "source": [
    "# Calculate the range of SEM values\n",
    "print(f\"The range of SEM values in the sample set is {max(sems)-min(sems)}\")\n"
   ]
  },
  {
   "cell_type": "code",
   "execution_count": 150,
   "metadata": {},
   "outputs": [
    {
     "name": "stdout",
     "output_type": "stream",
     "text": [
      "The smallest SEM observed was 34368.723067386825\n",
      "The sample with the smallest SEM is sample 22\n"
     ]
    }
   ],
   "source": [
    "# Determine which sample's mean is closest to the population mean\n",
    "print(f\"The smallest SEM observed was {min(sems)}\")\n",
    "samp_index = sems.index(min(sems))\n",
    "print(f\"The sample with the smallest SEM is sample {samp_index+1}\")"
   ]
  },
  {
   "cell_type": "code",
   "execution_count": 151,
   "metadata": {},
   "outputs": [
    {
     "name": "stdout",
     "output_type": "stream",
     "text": [
      "The mean of the sample 5 is 715434.9\n",
      "The mean of the population data set is 753507.4226827422\n"
     ]
    }
   ],
   "source": [
    "\n",
    "# Compare to the population mean\n",
    "print(f\"The mean of the sample 5 is {samples[samp_index].price.mean()}\")\n",
    "print(f\"The mean of the population data set is {threebr_price.price.mean()}\")"
   ]
  },
  {
   "cell_type": "code",
   "execution_count": 152,
   "metadata": {},
   "outputs": [
    {
     "data": {
      "text/html": [
       "<div>\n",
       "<style scoped>\n",
       "    .dataframe tbody tr th:only-of-type {\n",
       "        vertical-align: middle;\n",
       "    }\n",
       "\n",
       "    .dataframe tbody tr th {\n",
       "        vertical-align: top;\n",
       "    }\n",
       "\n",
       "    .dataframe thead th {\n",
       "        text-align: right;\n",
       "    }\n",
       "</style>\n",
       "<table border=\"1\" class=\"dataframe\">\n",
       "  <thead>\n",
       "    <tr style=\"text-align: right;\">\n",
       "      <th></th>\n",
       "      <th>price</th>\n",
       "      <th>state</th>\n",
       "      <th>bedrooms</th>\n",
       "    </tr>\n",
       "  </thead>\n",
       "  <tbody>\n",
       "    <tr>\n",
       "      <th>2</th>\n",
       "      <td>1730000.0</td>\n",
       "      <td>NSW</td>\n",
       "      <td>2</td>\n",
       "    </tr>\n",
       "    <tr>\n",
       "      <th>3</th>\n",
       "      <td>1928000.0</td>\n",
       "      <td>NSW</td>\n",
       "      <td>3</td>\n",
       "    </tr>\n",
       "    <tr>\n",
       "      <th>4</th>\n",
       "      <td>1475000.0</td>\n",
       "      <td>NSW</td>\n",
       "      <td>3</td>\n",
       "    </tr>\n",
       "    <tr>\n",
       "      <th>5</th>\n",
       "      <td>960000.0</td>\n",
       "      <td>NSW</td>\n",
       "      <td>2</td>\n",
       "    </tr>\n",
       "    <tr>\n",
       "      <th>7</th>\n",
       "      <td>1615000.0</td>\n",
       "      <td>NSW</td>\n",
       "      <td>2</td>\n",
       "    </tr>\n",
       "    <tr>\n",
       "      <th>...</th>\n",
       "      <td>...</td>\n",
       "      <td>...</td>\n",
       "      <td>...</td>\n",
       "    </tr>\n",
       "    <tr>\n",
       "      <th>320328</th>\n",
       "      <td>439900.0</td>\n",
       "      <td>ACT</td>\n",
       "      <td>2</td>\n",
       "    </tr>\n",
       "    <tr>\n",
       "      <th>320330</th>\n",
       "      <td>549900.0</td>\n",
       "      <td>ACT</td>\n",
       "      <td>3</td>\n",
       "    </tr>\n",
       "    <tr>\n",
       "      <th>320331</th>\n",
       "      <td>499900.0</td>\n",
       "      <td>ACT</td>\n",
       "      <td>3</td>\n",
       "    </tr>\n",
       "    <tr>\n",
       "      <th>320332</th>\n",
       "      <td>434000.0</td>\n",
       "      <td>ACT</td>\n",
       "      <td>3</td>\n",
       "    </tr>\n",
       "    <tr>\n",
       "      <th>320333</th>\n",
       "      <td>420000.0</td>\n",
       "      <td>ACT</td>\n",
       "      <td>2</td>\n",
       "    </tr>\n",
       "  </tbody>\n",
       "</table>\n",
       "<p>257773 rows × 3 columns</p>\n",
       "</div>"
      ],
      "text/plain": [
       "            price state  bedrooms\n",
       "2       1730000.0   NSW         2\n",
       "3       1928000.0   NSW         3\n",
       "4       1475000.0   NSW         3\n",
       "5        960000.0   NSW         2\n",
       "7       1615000.0   NSW         2\n",
       "...           ...   ...       ...\n",
       "320328   439900.0   ACT         2\n",
       "320330   549900.0   ACT         3\n",
       "320331   499900.0   ACT         3\n",
       "320332   434000.0   ACT         3\n",
       "320333   420000.0   ACT         2\n",
       "\n",
       "[257773 rows x 3 columns]"
      ]
     },
     "execution_count": 152,
     "metadata": {},
     "output_type": "execute_result"
    }
   ],
   "source": [
    "property_df = data[['price', 'state', 'bedrooms']].copy()\n",
    "property_df"
   ]
  },
  {
   "cell_type": "code",
   "execution_count": 153,
   "metadata": {},
   "outputs": [
    {
     "data": {
      "text/html": [
       "<div>\n",
       "<style scoped>\n",
       "    .dataframe tbody tr th:only-of-type {\n",
       "        vertical-align: middle;\n",
       "    }\n",
       "\n",
       "    .dataframe tbody tr th {\n",
       "        vertical-align: top;\n",
       "    }\n",
       "\n",
       "    .dataframe thead th {\n",
       "        text-align: right;\n",
       "    }\n",
       "</style>\n",
       "<table border=\"1\" class=\"dataframe\">\n",
       "  <thead>\n",
       "    <tr style=\"text-align: right;\">\n",
       "      <th></th>\n",
       "      <th>price</th>\n",
       "      <th>bedrooms</th>\n",
       "    </tr>\n",
       "    <tr>\n",
       "      <th>state</th>\n",
       "      <th></th>\n",
       "      <th></th>\n",
       "    </tr>\n",
       "  </thead>\n",
       "  <tbody>\n",
       "    <tr>\n",
       "      <th>NSW</th>\n",
       "      <td>1730000.0</td>\n",
       "      <td>2</td>\n",
       "    </tr>\n",
       "    <tr>\n",
       "      <th>NSW</th>\n",
       "      <td>1928000.0</td>\n",
       "      <td>3</td>\n",
       "    </tr>\n",
       "    <tr>\n",
       "      <th>NSW</th>\n",
       "      <td>1475000.0</td>\n",
       "      <td>3</td>\n",
       "    </tr>\n",
       "    <tr>\n",
       "      <th>NSW</th>\n",
       "      <td>960000.0</td>\n",
       "      <td>2</td>\n",
       "    </tr>\n",
       "    <tr>\n",
       "      <th>NSW</th>\n",
       "      <td>1615000.0</td>\n",
       "      <td>2</td>\n",
       "    </tr>\n",
       "    <tr>\n",
       "      <th>...</th>\n",
       "      <td>...</td>\n",
       "      <td>...</td>\n",
       "    </tr>\n",
       "    <tr>\n",
       "      <th>ACT</th>\n",
       "      <td>439900.0</td>\n",
       "      <td>2</td>\n",
       "    </tr>\n",
       "    <tr>\n",
       "      <th>ACT</th>\n",
       "      <td>549900.0</td>\n",
       "      <td>3</td>\n",
       "    </tr>\n",
       "    <tr>\n",
       "      <th>ACT</th>\n",
       "      <td>499900.0</td>\n",
       "      <td>3</td>\n",
       "    </tr>\n",
       "    <tr>\n",
       "      <th>ACT</th>\n",
       "      <td>434000.0</td>\n",
       "      <td>3</td>\n",
       "    </tr>\n",
       "    <tr>\n",
       "      <th>ACT</th>\n",
       "      <td>420000.0</td>\n",
       "      <td>2</td>\n",
       "    </tr>\n",
       "  </tbody>\n",
       "</table>\n",
       "<p>257773 rows × 2 columns</p>\n",
       "</div>"
      ],
      "text/plain": [
       "           price  bedrooms\n",
       "state                     \n",
       "NSW    1730000.0         2\n",
       "NSW    1928000.0         3\n",
       "NSW    1475000.0         3\n",
       "NSW     960000.0         2\n",
       "NSW    1615000.0         2\n",
       "...          ...       ...\n",
       "ACT     439900.0         2\n",
       "ACT     549900.0         3\n",
       "ACT     499900.0         3\n",
       "ACT     434000.0         3\n",
       "ACT     420000.0         2\n",
       "\n",
       "[257773 rows x 2 columns]"
      ]
     },
     "execution_count": 153,
     "metadata": {},
     "output_type": "execute_result"
    }
   ],
   "source": [
    "bedroom = property_df.set_index('state')\n",
    "bedroom"
   ]
  },
  {
   "cell_type": "code",
   "execution_count": 154,
   "metadata": {},
   "outputs": [
    {
     "data": {
      "text/html": [
       "<div>\n",
       "<style scoped>\n",
       "    .dataframe tbody tr th:only-of-type {\n",
       "        vertical-align: middle;\n",
       "    }\n",
       "\n",
       "    .dataframe tbody tr th {\n",
       "        vertical-align: top;\n",
       "    }\n",
       "\n",
       "    .dataframe thead th {\n",
       "        text-align: right;\n",
       "    }\n",
       "</style>\n",
       "<table border=\"1\" class=\"dataframe\">\n",
       "  <thead>\n",
       "    <tr style=\"text-align: right;\">\n",
       "      <th></th>\n",
       "      <th>state</th>\n",
       "      <th>bedrooms</th>\n",
       "      <th>price</th>\n",
       "    </tr>\n",
       "  </thead>\n",
       "  <tbody>\n",
       "    <tr>\n",
       "      <th>0</th>\n",
       "      <td>ACT</td>\n",
       "      <td>0</td>\n",
       "      <td>964250.0</td>\n",
       "    </tr>\n",
       "    <tr>\n",
       "      <th>1</th>\n",
       "      <td>ACT</td>\n",
       "      <td>1</td>\n",
       "      <td>341233.0</td>\n",
       "    </tr>\n",
       "    <tr>\n",
       "      <th>2</th>\n",
       "      <td>ACT</td>\n",
       "      <td>2</td>\n",
       "      <td>448036.0</td>\n",
       "    </tr>\n",
       "    <tr>\n",
       "      <th>3</th>\n",
       "      <td>ACT</td>\n",
       "      <td>3</td>\n",
       "      <td>628779.0</td>\n",
       "    </tr>\n",
       "    <tr>\n",
       "      <th>4</th>\n",
       "      <td>ACT</td>\n",
       "      <td>4</td>\n",
       "      <td>835605.0</td>\n",
       "    </tr>\n",
       "    <tr>\n",
       "      <th>5</th>\n",
       "      <td>ACT</td>\n",
       "      <td>5</td>\n",
       "      <td>1060684.0</td>\n",
       "    </tr>\n",
       "    <tr>\n",
       "      <th>6</th>\n",
       "      <td>NSW</td>\n",
       "      <td>0</td>\n",
       "      <td>571222.0</td>\n",
       "    </tr>\n",
       "    <tr>\n",
       "      <th>7</th>\n",
       "      <td>NSW</td>\n",
       "      <td>1</td>\n",
       "      <td>661346.0</td>\n",
       "    </tr>\n",
       "    <tr>\n",
       "      <th>8</th>\n",
       "      <td>NSW</td>\n",
       "      <td>2</td>\n",
       "      <td>846133.0</td>\n",
       "    </tr>\n",
       "    <tr>\n",
       "      <th>9</th>\n",
       "      <td>NSW</td>\n",
       "      <td>3</td>\n",
       "      <td>1113874.0</td>\n",
       "    </tr>\n",
       "    <tr>\n",
       "      <th>10</th>\n",
       "      <td>NSW</td>\n",
       "      <td>4</td>\n",
       "      <td>1326595.0</td>\n",
       "    </tr>\n",
       "    <tr>\n",
       "      <th>11</th>\n",
       "      <td>NSW</td>\n",
       "      <td>5</td>\n",
       "      <td>1789403.0</td>\n",
       "    </tr>\n",
       "    <tr>\n",
       "      <th>12</th>\n",
       "      <td>QLD</td>\n",
       "      <td>0</td>\n",
       "      <td>320800.0</td>\n",
       "    </tr>\n",
       "    <tr>\n",
       "      <th>13</th>\n",
       "      <td>QLD</td>\n",
       "      <td>1</td>\n",
       "      <td>330614.0</td>\n",
       "    </tr>\n",
       "    <tr>\n",
       "      <th>14</th>\n",
       "      <td>QLD</td>\n",
       "      <td>2</td>\n",
       "      <td>463720.0</td>\n",
       "    </tr>\n",
       "    <tr>\n",
       "      <th>15</th>\n",
       "      <td>QLD</td>\n",
       "      <td>3</td>\n",
       "      <td>622062.0</td>\n",
       "    </tr>\n",
       "    <tr>\n",
       "      <th>16</th>\n",
       "      <td>QLD</td>\n",
       "      <td>4</td>\n",
       "      <td>802748.0</td>\n",
       "    </tr>\n",
       "    <tr>\n",
       "      <th>17</th>\n",
       "      <td>QLD</td>\n",
       "      <td>5</td>\n",
       "      <td>1112630.0</td>\n",
       "    </tr>\n",
       "    <tr>\n",
       "      <th>18</th>\n",
       "      <td>SA</td>\n",
       "      <td>0</td>\n",
       "      <td>390900.0</td>\n",
       "    </tr>\n",
       "    <tr>\n",
       "      <th>19</th>\n",
       "      <td>SA</td>\n",
       "      <td>1</td>\n",
       "      <td>279671.0</td>\n",
       "    </tr>\n",
       "    <tr>\n",
       "      <th>20</th>\n",
       "      <td>SA</td>\n",
       "      <td>2</td>\n",
       "      <td>365026.0</td>\n",
       "    </tr>\n",
       "    <tr>\n",
       "      <th>21</th>\n",
       "      <td>SA</td>\n",
       "      <td>3</td>\n",
       "      <td>465058.0</td>\n",
       "    </tr>\n",
       "    <tr>\n",
       "      <th>22</th>\n",
       "      <td>SA</td>\n",
       "      <td>4</td>\n",
       "      <td>635167.0</td>\n",
       "    </tr>\n",
       "    <tr>\n",
       "      <th>23</th>\n",
       "      <td>SA</td>\n",
       "      <td>5</td>\n",
       "      <td>757935.0</td>\n",
       "    </tr>\n",
       "    <tr>\n",
       "      <th>24</th>\n",
       "      <td>VIC</td>\n",
       "      <td>0</td>\n",
       "      <td>373670.0</td>\n",
       "    </tr>\n",
       "    <tr>\n",
       "      <th>25</th>\n",
       "      <td>VIC</td>\n",
       "      <td>1</td>\n",
       "      <td>382225.0</td>\n",
       "    </tr>\n",
       "    <tr>\n",
       "      <th>26</th>\n",
       "      <td>VIC</td>\n",
       "      <td>2</td>\n",
       "      <td>624742.0</td>\n",
       "    </tr>\n",
       "    <tr>\n",
       "      <th>27</th>\n",
       "      <td>VIC</td>\n",
       "      <td>3</td>\n",
       "      <td>778602.0</td>\n",
       "    </tr>\n",
       "    <tr>\n",
       "      <th>28</th>\n",
       "      <td>VIC</td>\n",
       "      <td>4</td>\n",
       "      <td>946544.0</td>\n",
       "    </tr>\n",
       "    <tr>\n",
       "      <th>29</th>\n",
       "      <td>VIC</td>\n",
       "      <td>5</td>\n",
       "      <td>1352024.0</td>\n",
       "    </tr>\n",
       "    <tr>\n",
       "      <th>30</th>\n",
       "      <td>WA</td>\n",
       "      <td>0</td>\n",
       "      <td>549167.0</td>\n",
       "    </tr>\n",
       "    <tr>\n",
       "      <th>31</th>\n",
       "      <td>WA</td>\n",
       "      <td>1</td>\n",
       "      <td>282560.0</td>\n",
       "    </tr>\n",
       "    <tr>\n",
       "      <th>32</th>\n",
       "      <td>WA</td>\n",
       "      <td>2</td>\n",
       "      <td>421617.0</td>\n",
       "    </tr>\n",
       "    <tr>\n",
       "      <th>33</th>\n",
       "      <td>WA</td>\n",
       "      <td>3</td>\n",
       "      <td>507752.0</td>\n",
       "    </tr>\n",
       "    <tr>\n",
       "      <th>34</th>\n",
       "      <td>WA</td>\n",
       "      <td>4</td>\n",
       "      <td>612478.0</td>\n",
       "    </tr>\n",
       "    <tr>\n",
       "      <th>35</th>\n",
       "      <td>WA</td>\n",
       "      <td>5</td>\n",
       "      <td>889889.0</td>\n",
       "    </tr>\n",
       "  </tbody>\n",
       "</table>\n",
       "</div>"
      ],
      "text/plain": [
       "   state  bedrooms      price\n",
       "0    ACT         0   964250.0\n",
       "1    ACT         1   341233.0\n",
       "2    ACT         2   448036.0\n",
       "3    ACT         3   628779.0\n",
       "4    ACT         4   835605.0\n",
       "5    ACT         5  1060684.0\n",
       "6    NSW         0   571222.0\n",
       "7    NSW         1   661346.0\n",
       "8    NSW         2   846133.0\n",
       "9    NSW         3  1113874.0\n",
       "10   NSW         4  1326595.0\n",
       "11   NSW         5  1789403.0\n",
       "12   QLD         0   320800.0\n",
       "13   QLD         1   330614.0\n",
       "14   QLD         2   463720.0\n",
       "15   QLD         3   622062.0\n",
       "16   QLD         4   802748.0\n",
       "17   QLD         5  1112630.0\n",
       "18    SA         0   390900.0\n",
       "19    SA         1   279671.0\n",
       "20    SA         2   365026.0\n",
       "21    SA         3   465058.0\n",
       "22    SA         4   635167.0\n",
       "23    SA         5   757935.0\n",
       "24   VIC         0   373670.0\n",
       "25   VIC         1   382225.0\n",
       "26   VIC         2   624742.0\n",
       "27   VIC         3   778602.0\n",
       "28   VIC         4   946544.0\n",
       "29   VIC         5  1352024.0\n",
       "30    WA         0   549167.0\n",
       "31    WA         1   282560.0\n",
       "32    WA         2   421617.0\n",
       "33    WA         3   507752.0\n",
       "34    WA         4   612478.0\n",
       "35    WA         5   889889.0"
      ]
     },
     "execution_count": 154,
     "metadata": {},
     "output_type": "execute_result"
    }
   ],
   "source": [
    "#Average price with respect to bedroom size in each state \n",
    "\n",
    "bedrooms_df = property_df.groupby(['state','bedrooms'],as_index=False).mean().round()\n",
    "bedrooms_df"
   ]
  },
  {
   "cell_type": "code",
   "execution_count": 155,
   "metadata": {},
   "outputs": [
    {
     "data": {
      "text/html": [
       "<div>\n",
       "<style scoped>\n",
       "    .dataframe tbody tr th:only-of-type {\n",
       "        vertical-align: middle;\n",
       "    }\n",
       "\n",
       "    .dataframe tbody tr th {\n",
       "        vertical-align: top;\n",
       "    }\n",
       "\n",
       "    .dataframe thead th {\n",
       "        text-align: right;\n",
       "    }\n",
       "</style>\n",
       "<table border=\"1\" class=\"dataframe\">\n",
       "  <thead>\n",
       "    <tr style=\"text-align: right;\">\n",
       "      <th></th>\n",
       "      <th>state</th>\n",
       "      <th>bedrooms</th>\n",
       "      <th>Avg Price</th>\n",
       "    </tr>\n",
       "  </thead>\n",
       "  <tbody>\n",
       "    <tr>\n",
       "      <th>24</th>\n",
       "      <td>VIC</td>\n",
       "      <td>0</td>\n",
       "      <td>373670.0</td>\n",
       "    </tr>\n",
       "    <tr>\n",
       "      <th>25</th>\n",
       "      <td>VIC</td>\n",
       "      <td>1</td>\n",
       "      <td>382225.0</td>\n",
       "    </tr>\n",
       "    <tr>\n",
       "      <th>26</th>\n",
       "      <td>VIC</td>\n",
       "      <td>2</td>\n",
       "      <td>624742.0</td>\n",
       "    </tr>\n",
       "    <tr>\n",
       "      <th>27</th>\n",
       "      <td>VIC</td>\n",
       "      <td>3</td>\n",
       "      <td>778602.0</td>\n",
       "    </tr>\n",
       "    <tr>\n",
       "      <th>28</th>\n",
       "      <td>VIC</td>\n",
       "      <td>4</td>\n",
       "      <td>946544.0</td>\n",
       "    </tr>\n",
       "    <tr>\n",
       "      <th>29</th>\n",
       "      <td>VIC</td>\n",
       "      <td>5</td>\n",
       "      <td>1352024.0</td>\n",
       "    </tr>\n",
       "  </tbody>\n",
       "</table>\n",
       "</div>"
      ],
      "text/plain": [
       "   state  bedrooms  Avg Price\n",
       "24   VIC         0   373670.0\n",
       "25   VIC         1   382225.0\n",
       "26   VIC         2   624742.0\n",
       "27   VIC         3   778602.0\n",
       "28   VIC         4   946544.0\n",
       "29   VIC         5  1352024.0"
      ]
     },
     "execution_count": 155,
     "metadata": {},
     "output_type": "execute_result"
    }
   ],
   "source": [
    "# Vic data frame with colum state, bedroom , average price\n",
    "vic_df = bedrooms_df.query('state==\"VIC\"')\n",
    "avg_vic_df = vic_df.rename(columns={'price': 'Avg Price'})\n",
    "avg_vic_df"
   ]
  },
  {
   "cell_type": "code",
   "execution_count": 156,
   "metadata": {},
   "outputs": [
    {
     "name": "stdout",
     "output_type": "stream",
     "text": [
      "bedrooms\n",
      "0    5.283348e+05\n",
      "1    3.796082e+05\n",
      "2    5.282123e+05\n",
      "3    6.860212e+05\n",
      "4    8.598562e+05\n",
      "5    1.160428e+06\n",
      "Name: Price, dtype: float64\n"
     ]
    },
    {
     "data": {
      "text/plain": [
       "<BarContainer object of 6 artists>"
      ]
     },
     "execution_count": 156,
     "metadata": {},
     "output_type": "execute_result"
    },
    {
     "data": {
      "image/png": "[encoded data removed]",
      "text/plain": [
       "<Figure size 432x288 with 1 Axes>"
      ]
     },
     "metadata": {
      "needs_background": "light"
     },
     "output_type": "display_data"
    }
   ],
   "source": [
    "\n",
    "# plotting Bar graph for bedrooms vs Avg price all state \n",
    "agg_perbr = bedrooms_df.groupby(['bedrooms']).agg({'price': 'mean'})\n",
    "#agg_perbr\n",
    "summary = agg_perbr.reset_index()\n",
    "#summary\n",
    "summary_perbr = summary.set_index('bedrooms')\n",
    "#summary_perbr\n",
    "summary_perbr.columns = ['Price']\n",
    "summary_perbr.style.format(\"${:.9}\")\n",
    "#summary_perbr\n",
    "x_axis = bedrooms_df['bedrooms'].unique()\n",
    "x_axis.sort()\n",
    "price = summary_perbr[\"Price\"]\n",
    "print(price)\n",
    "plt.title('Bedrooms vs Price')\n",
    "plt.xlabel('Number of bedrooms')\n",
    "plt.ylabel('Price in $000,000')\n",
    "plt.bar(x_axis, price)"
   ]
  },
  {
   "cell_type": "code",
   "execution_count": 157,
   "metadata": {},
   "outputs": [
    {
     "name": "stderr",
     "output_type": "stream",
     "text": [
      "<ipython-input-157-fda025920004>:7: SettingWithCopyWarning:\n",
      "\n",
      "\n",
      "A value is trying to be set on a copy of a slice from a DataFrame\n",
      "\n",
      "See the caveats in the documentation: https://pandas.pydata.org/pandas-docs/stable/user_guide/indexing.html#returning-a-view-versus-a-copy\n",
      "\n",
      "<ipython-input-157-fda025920004>:9: SettingWithCopyWarning:\n",
      "\n",
      "\n",
      "A value is trying to be set on a copy of a slice from a DataFrame\n",
      "\n",
      "See the caveats in the documentation: https://pandas.pydata.org/pandas-docs/stable/user_guide/indexing.html#returning-a-view-versus-a-copy\n",
      "\n"
     ]
    },
    {
     "data": {
      "text/html": [
       "<div>\n",
       "<style scoped>\n",
       "    .dataframe tbody tr th:only-of-type {\n",
       "        vertical-align: middle;\n",
       "    }\n",
       "\n",
       "    .dataframe tbody tr th {\n",
       "        vertical-align: top;\n",
       "    }\n",
       "\n",
       "    .dataframe thead th {\n",
       "        text-align: right;\n",
       "    }\n",
       "</style>\n",
       "<table border=\"1\" class=\"dataframe\">\n",
       "  <thead>\n",
       "    <tr style=\"text-align: right;\">\n",
       "      <th></th>\n",
       "      <th>state</th>\n",
       "      <th>bedrooms</th>\n",
       "      <th>Avg Price</th>\n",
       "      <th>Avg_price_incr</th>\n",
       "    </tr>\n",
       "  </thead>\n",
       "  <tbody>\n",
       "    <tr>\n",
       "      <th>24</th>\n",
       "      <td>VIC</td>\n",
       "      <td>0</td>\n",
       "      <td>373670.0</td>\n",
       "      <td>0</td>\n",
       "    </tr>\n",
       "    <tr>\n",
       "      <th>25</th>\n",
       "      <td>VIC</td>\n",
       "      <td>1</td>\n",
       "      <td>382225.0</td>\n",
       "      <td>8555</td>\n",
       "    </tr>\n",
       "    <tr>\n",
       "      <th>26</th>\n",
       "      <td>VIC</td>\n",
       "      <td>2</td>\n",
       "      <td>624742.0</td>\n",
       "      <td>242517</td>\n",
       "    </tr>\n",
       "    <tr>\n",
       "      <th>27</th>\n",
       "      <td>VIC</td>\n",
       "      <td>3</td>\n",
       "      <td>778602.0</td>\n",
       "      <td>153860</td>\n",
       "    </tr>\n",
       "    <tr>\n",
       "      <th>28</th>\n",
       "      <td>VIC</td>\n",
       "      <td>4</td>\n",
       "      <td>946544.0</td>\n",
       "      <td>167942</td>\n",
       "    </tr>\n",
       "    <tr>\n",
       "      <th>29</th>\n",
       "      <td>VIC</td>\n",
       "      <td>5</td>\n",
       "      <td>1352024.0</td>\n",
       "      <td>405480</td>\n",
       "    </tr>\n",
       "  </tbody>\n",
       "</table>\n",
       "</div>"
      ],
      "text/plain": [
       "   state  bedrooms  Avg Price Avg_price_incr\n",
       "24   VIC         0   373670.0              0\n",
       "25   VIC         1   382225.0           8555\n",
       "26   VIC         2   624742.0         242517\n",
       "27   VIC         3   778602.0         153860\n",
       "28   VIC         4   946544.0         167942\n",
       "29   VIC         5  1352024.0         405480"
      ]
     },
     "execution_count": 157,
     "metadata": {},
     "output_type": "execute_result"
    }
   ],
   "source": [
    "#Calculating and appending avg price increase column\n",
    "avg_vic_df['Avg_price_incr'] = \"\"\n",
    "#vic_df\n",
    "\n",
    "for ind in avg_vic_df.index:\n",
    "    if avg_vic_df['bedrooms'][ind] == 0 :\n",
    "        avg_vic_df['Avg_price_incr'][ind] = 0\n",
    "    else:\n",
    "        avg_vic_df['Avg_price_incr'][ind] = avg_vic_df['Avg Price'][ind] - avg_vic_df['Avg Price'][ind - 1]\n",
    "\n",
    "avg_vic_df\n"
   ]
  },
  {
   "cell_type": "code",
   "execution_count": 158,
   "metadata": {},
   "outputs": [
    {
     "data": {
      "image/png": "[encoded data removed]",
      "text/plain": [
       "<Figure size 432x288 with 1 Axes>"
      ]
     },
     "metadata": {
      "needs_background": "light"
     },
     "output_type": "display_data"
    }
   ],
   "source": [
    "# plotting Bar graph for bedrooms vs Avg price vic\n",
    "x_axis = avg_vic_df['bedrooms'].unique()\n",
    "x_axis.sort()\n",
    "price = avg_vic_df[\"Avg Price\"]\n",
    "\n",
    "plt.title('Bedrooms vs Avg Price in VIC')\n",
    "plt.xlabel('Number of bedrooms')\n",
    "plt.ylabel('Avg Price in $000,000')\n",
    "vic=plt.bar(x_axis, price)\n",
    "plt.savefig(\"vic\")"
   ]
  },
  {
   "cell_type": "code",
   "execution_count": 159,
   "metadata": {},
   "outputs": [
    {
     "data": {
      "image/png": "[encoded data removed]",
      "text/plain": [
       "<Figure size 432x288 with 1 Axes>"
      ]
     },
     "metadata": {
      "needs_background": "light"
     },
     "output_type": "display_data"
    }
   ],
   "source": [
    "# plotting line graph for bedrooms vs Avg price_increase in vic\n",
    "lines = avg_vic_df.plot.line(x='bedrooms', y='Avg_price_incr',title = \"Average Price Increase per Increase In One BedRoom In Vic\", grid = 'true')\n",
    "plt.savefig(\"lines\")\n"
   ]
  },
  {
   "cell_type": "code",
   "execution_count": 160,
   "metadata": {},
   "outputs": [
    {
     "data": {
      "image/png": "[encoded data removed]",
      "text/plain": [
       "<Figure size 432x288 with 1 Axes>"
      ]
     },
     "metadata": {
      "needs_background": "light"
     },
     "output_type": "display_data"
    }
   ],
   "source": [
    "# plotting line graph for bedrooms vs Avg price_increase in vic with values \n",
    "plt.clf()\n",
    "\n",
    "# using some dummy data for this example\n",
    "xs = avg_vic_df['bedrooms']\n",
    "ys = avg_vic_df['Avg_price_incr']\n",
    "\n",
    "# 'bo-' means blue color, round points, solid lines\n",
    "plt.plot(xs,ys,'bo-')\n",
    "\n",
    "\n",
    "for x,y in zip(xs,ys):\n",
    "\n",
    "    label = \"{:.2f}\".format(y)\n",
    "\n",
    "    plot = plt.annotate(label, # this is the text\n",
    "                 (x,y), # this is the point to label\n",
    "                 textcoords=\"offset points\", # how to position the text\n",
    "                 xytext=(0,8), # distance from text to points (x,y)\n",
    "                 ha='right',\n",
    "                horizontalalignment='right', verticalalignment='top') # horizontal alignment can be left, right or center\n",
    "\n",
    "\n",
    "plt.savefig(\"plot\")"
   ]
  },
  {
   "cell_type": "code",
   "execution_count": null,
   "metadata": {},
   "outputs": [],
   "source": []
  }
 ],
 "metadata": {
  "kernelspec": {
   "display_name": "Python 3",
   "language": "python",
   "name": "python3"
  },
  "language_info": {
   "codemirror_mode": {
    "name": "ipython",
    "version": 3
   },
   "file_extension": ".py",
   "mimetype": "text/x-python",
   "name": "python",
   "nbconvert_exporter": "python",
   "pygments_lexer": "ipython3",
   "version": "3.8.5"
  }
 },
 "nbformat": 4,
 "nbformat_minor": 4
}
